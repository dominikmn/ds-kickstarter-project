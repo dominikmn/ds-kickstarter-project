{
 "cells": [
  {
   "cell_type": "code",
   "execution_count": 1,
   "id": "optical-sheriff",
   "metadata": {},
   "outputs": [],
   "source": [
    "import pandas as pd\n",
    "import numpy as np\n",
    "import seaborn as sns\n",
    "import json\n",
    "from datetime import datetime"
   ]
  },
  {
   "cell_type": "code",
   "execution_count": 2,
   "id": "nervous-static",
   "metadata": {},
   "outputs": [],
   "source": [
    "df_full = pd.read_pickle(\"./data_frame_full_2021-03-12.pickle\")"
   ]
  },
  {
   "cell_type": "code",
   "execution_count": 3,
   "id": "adolescent-future",
   "metadata": {},
   "outputs": [
    {
     "name": "stdout",
     "output_type": "stream",
     "text": [
      "<class 'pandas.core.frame.DataFrame'>\n",
      "RangeIndex: 209222 entries, 0 to 209221\n",
      "Columns: 107 entries, backers_count to deadline_month\n",
      "dtypes: bool(5), datetime64[ns](3), float64(18), int64(16), object(65)\n",
      "memory usage: 163.8+ MB\n"
     ]
    }
   ],
   "source": [
    "df_full.info()"
   ]
  },
  {
   "cell_type": "code",
   "execution_count": 4,
   "id": "hourly-qatar",
   "metadata": {},
   "outputs": [],
   "source": [
    "df_small = pd.read_pickle(\"./data_frame_small_2021-03-12.pickle\")"
   ]
  },
  {
   "cell_type": "code",
   "execution_count": 5,
   "id": "compressed-packaging",
   "metadata": {},
   "outputs": [
    {
     "name": "stdout",
     "output_type": "stream",
     "text": [
      "<class 'pandas.core.frame.DataFrame'>\n",
      "RangeIndex: 209222 entries, 0 to 209221\n",
      "Data columns (total 33 columns):\n",
      " #   Column                 Non-Null Count   Dtype         \n",
      "---  ------                 --------------   -----         \n",
      " 0   blurb                  209214 non-null  object        \n",
      " 1   country                209222 non-null  object        \n",
      " 2   created_at             209222 non-null  int64         \n",
      " 3   currency               209222 non-null  object        \n",
      " 4   deadline               209222 non-null  int64         \n",
      " 5   disable_communication  209222 non-null  bool          \n",
      " 6   goal                   209222 non-null  float64       \n",
      " 7   launched_at            209222 non-null  int64         \n",
      " 8   name                   209222 non-null  object        \n",
      " 9   staff_pick             209222 non-null  bool          \n",
      " 10  state                  209222 non-null  object        \n",
      " 11  usd_pledged            209222 non-null  float64       \n",
      " 12  usd_type               208742 non-null  object        \n",
      " 13  category_id            209222 non-null  int64         \n",
      " 14  category_name          209222 non-null  object        \n",
      " 15  category_slug          209222 non-null  object        \n",
      " 16  category_parent_id     200181 non-null  float64       \n",
      " 17  location_id            208996 non-null  float64       \n",
      " 18  location_name          208996 non-null  object        \n",
      " 19  location_type          208996 non-null  object        \n",
      " 20  photo_key              209219 non-null  object        \n",
      " 21  photo_full             209222 non-null  object        \n",
      " 22  duration               209222 non-null  float64       \n",
      " 23  goal_usd               209222 non-null  float64       \n",
      " 24  launched_at_full       209222 non-null  datetime64[ns]\n",
      " 25  launched_at_year       209222 non-null  int64         \n",
      " 26  launched_at_month      209222 non-null  int64         \n",
      " 27  created_at_full        209222 non-null  datetime64[ns]\n",
      " 28  created_at_year        209222 non-null  int64         \n",
      " 29  created_at_month       209222 non-null  int64         \n",
      " 30  deadline_full          209222 non-null  datetime64[ns]\n",
      " 31  deadline_year          209222 non-null  int64         \n",
      " 32  deadline_month         209222 non-null  int64         \n",
      "dtypes: bool(2), datetime64[ns](3), float64(6), int64(10), object(12)\n",
      "memory usage: 49.9+ MB\n"
     ]
    }
   ],
   "source": [
    "df_small.info()"
   ]
  },
  {
   "cell_type": "markdown",
   "id": "failing-beauty",
   "metadata": {},
   "source": [
    "# Target classes and balance"
   ]
  },
  {
   "cell_type": "code",
   "execution_count": 6,
   "id": "grateful-ottawa",
   "metadata": {},
   "outputs": [
    {
     "data": {
      "text/plain": [
       "successful    117465\n",
       "failed         75199\n",
       "canceled        8624\n",
       "live            7311\n",
       "suspended        623\n",
       "Name: state, dtype: int64"
      ]
     },
     "execution_count": 6,
     "metadata": {},
     "output_type": "execute_result"
    }
   ],
   "source": [
    "vals = df_full['state'].value_counts()\n",
    "vals"
   ]
  },
  {
   "cell_type": "code",
   "execution_count": 7,
   "id": "direct-press",
   "metadata": {},
   "outputs": [
    {
     "name": "stdout",
     "output_type": "stream",
     "text": [
      "Portion of success: 60.97%\n",
      "Portion of fail:    39.03%\n"
     ]
    }
   ],
   "source": [
    "print('Portion of success: {:.2f}%'.format( 100*vals[0] / (vals[0]+vals[1]) ))\n",
    "print('Portion of fail:    {:.2f}%'.format( 100*vals[1] / (vals[0]+vals[1]) ))"
   ]
  },
  {
   "cell_type": "markdown",
   "id": "approved-undergraduate",
   "metadata": {},
   "source": [
    "We have a sligth imbalance."
   ]
  },
  {
   "cell_type": "markdown",
   "id": "married-surprise",
   "metadata": {},
   "source": [
    "# Date time"
   ]
  },
  {
   "cell_type": "code",
   "execution_count": 8,
   "id": "lyric-enclosure",
   "metadata": {},
   "outputs": [
    {
     "data": {
      "text/plain": [
       "count    2.092220e+05\n",
       "mean     1.460206e+09\n",
       "std      6.309029e+07\n",
       "min      1.240603e+09\n",
       "25%      1.417639e+09\n",
       "50%      1.461924e+09\n",
       "75%      1.516694e+09\n",
       "max      1.552537e+09\n",
       "Name: launched_at, dtype: float64"
      ]
     },
     "execution_count": 8,
     "metadata": {},
     "output_type": "execute_result"
    }
   ],
   "source": [
    "df_full['launched_at'].describe(datetime_is_numeric=True)"
   ]
  },
  {
   "cell_type": "markdown",
   "id": "fifth-blind",
   "metadata": {},
   "source": [
    "## Country"
   ]
  },
  {
   "cell_type": "code",
   "execution_count": 9,
   "id": "caring-boating",
   "metadata": {},
   "outputs": [],
   "source": [
    "ratio = lambda x: 100*round(x.value_counts()['successful'] / (x.value_counts()['successful'] + x.value_counts()['failed'] + x.value_counts()['canceled']), 4)"
   ]
  },
  {
   "cell_type": "code",
   "execution_count": 10,
   "id": "instant-advisory",
   "metadata": {},
   "outputs": [
    {
     "data": {
      "text/html": [
       "<div>\n",
       "<style scoped>\n",
       "    .dataframe tbody tr th:only-of-type {\n",
       "        vertical-align: middle;\n",
       "    }\n",
       "\n",
       "    .dataframe tbody tr th {\n",
       "        vertical-align: top;\n",
       "    }\n",
       "\n",
       "    .dataframe thead th {\n",
       "        text-align: right;\n",
       "    }\n",
       "</style>\n",
       "<table border=\"1\" class=\"dataframe\">\n",
       "  <thead>\n",
       "    <tr style=\"text-align: right;\">\n",
       "      <th></th>\n",
       "      <th>success_ratio</th>\n",
       "    </tr>\n",
       "    <tr>\n",
       "      <th>country</th>\n",
       "      <th></th>\n",
       "    </tr>\n",
       "  </thead>\n",
       "  <tbody>\n",
       "    <tr>\n",
       "      <th>HK</th>\n",
       "      <td>76.70</td>\n",
       "    </tr>\n",
       "    <tr>\n",
       "      <th>JP</th>\n",
       "      <td>73.19</td>\n",
       "    </tr>\n",
       "    <tr>\n",
       "      <th>LU</th>\n",
       "      <td>66.07</td>\n",
       "    </tr>\n",
       "    <tr>\n",
       "      <th>SG</th>\n",
       "      <td>64.20</td>\n",
       "    </tr>\n",
       "    <tr>\n",
       "      <th>GB</th>\n",
       "      <td>62.69</td>\n",
       "    </tr>\n",
       "    <tr>\n",
       "      <th>US</th>\n",
       "      <td>59.49</td>\n",
       "    </tr>\n",
       "    <tr>\n",
       "      <th>DK</th>\n",
       "      <td>57.76</td>\n",
       "    </tr>\n",
       "    <tr>\n",
       "      <th>NZ</th>\n",
       "      <td>55.53</td>\n",
       "    </tr>\n",
       "    <tr>\n",
       "      <th>CA</th>\n",
       "      <td>55.10</td>\n",
       "    </tr>\n",
       "    <tr>\n",
       "      <th>FR</th>\n",
       "      <td>54.22</td>\n",
       "    </tr>\n",
       "    <tr>\n",
       "      <th>SE</th>\n",
       "      <td>54.06</td>\n",
       "    </tr>\n",
       "    <tr>\n",
       "      <th>AU</th>\n",
       "      <td>50.09</td>\n",
       "    </tr>\n",
       "    <tr>\n",
       "      <th>IE</th>\n",
       "      <td>50.00</td>\n",
       "    </tr>\n",
       "    <tr>\n",
       "      <th>NO</th>\n",
       "      <td>47.95</td>\n",
       "    </tr>\n",
       "    <tr>\n",
       "      <th>MX</th>\n",
       "      <td>47.71</td>\n",
       "    </tr>\n",
       "    <tr>\n",
       "      <th>CH</th>\n",
       "      <td>46.79</td>\n",
       "    </tr>\n",
       "    <tr>\n",
       "      <th>DE</th>\n",
       "      <td>46.67</td>\n",
       "    </tr>\n",
       "    <tr>\n",
       "      <th>ES</th>\n",
       "      <td>45.45</td>\n",
       "    </tr>\n",
       "    <tr>\n",
       "      <th>BE</th>\n",
       "      <td>43.59</td>\n",
       "    </tr>\n",
       "    <tr>\n",
       "      <th>NL</th>\n",
       "      <td>42.88</td>\n",
       "    </tr>\n",
       "    <tr>\n",
       "      <th>AT</th>\n",
       "      <td>42.77</td>\n",
       "    </tr>\n",
       "    <tr>\n",
       "      <th>IT</th>\n",
       "      <td>33.64</td>\n",
       "    </tr>\n",
       "  </tbody>\n",
       "</table>\n",
       "</div>"
      ],
      "text/plain": [
       "         success_ratio\n",
       "country               \n",
       "HK               76.70\n",
       "JP               73.19\n",
       "LU               66.07\n",
       "SG               64.20\n",
       "GB               62.69\n",
       "US               59.49\n",
       "DK               57.76\n",
       "NZ               55.53\n",
       "CA               55.10\n",
       "FR               54.22\n",
       "SE               54.06\n",
       "AU               50.09\n",
       "IE               50.00\n",
       "NO               47.95\n",
       "MX               47.71\n",
       "CH               46.79\n",
       "DE               46.67\n",
       "ES               45.45\n",
       "BE               43.59\n",
       "NL               42.88\n",
       "AT               42.77\n",
       "IT               33.64"
      ]
     },
     "execution_count": 10,
     "metadata": {},
     "output_type": "execute_result"
    }
   ],
   "source": [
    "success_per_country = pd.pivot_table(df_full, index='country', values='state', aggfunc=ratio).rename(columns={'state':'success_ratio'}).sort_values(by='success_ratio', ascending=False)\n",
    "success_per_country"
   ]
  },
  {
   "cell_type": "code",
   "execution_count": 11,
   "id": "standard-istanbul",
   "metadata": {},
   "outputs": [
    {
     "data": {
      "text/plain": [
       "<AxesSubplot:xlabel='success_ratio', ylabel='country'>"
      ]
     },
     "execution_count": 11,
     "metadata": {},
     "output_type": "execute_result"
    },
    {
     "data": {
      "image/png": "[encoded data removed]",
      "text/plain": [
       "<Figure size 432x288 with 1 Axes>"
      ]
     },
     "metadata": {
      "needs_background": "light"
     },
     "output_type": "display_data"
    }
   ],
   "source": [
    "sns.barplot(data=success_per_country.reset_index(), y='country', x='success_ratio')"
   ]
  },
  {
   "cell_type": "markdown",
   "id": "reasonable-particular",
   "metadata": {},
   "source": [
    "# Pledged"
   ]
  },
  {
   "cell_type": "markdown",
   "id": "transparent-municipality",
   "metadata": {},
   "source": [
    "## Pledged amount - Exchange rate"
   ]
  },
  {
   "cell_type": "code",
   "execution_count": 12,
   "id": "increased-factory",
   "metadata": {},
   "outputs": [
    {
     "data": {
      "text/plain": [
       "count    2.092220e+05\n",
       "mean    -8.551623e+01\n",
       "std      1.270609e+04\n",
       "min     -1.771501e+06\n",
       "25%      0.000000e+00\n",
       "50%      0.000000e+00\n",
       "75%      0.000000e+00\n",
       "max      9.330207e+05\n",
       "dtype: float64"
      ]
     },
     "execution_count": 12,
     "metadata": {},
     "output_type": "execute_result"
    }
   ],
   "source": [
    "currency_delta = df_full['converted_pledged_amount'].astype(float) - df_full['usd_pledged'] * df_full['static_usd_rate']\n",
    "currency_delta.describe()"
   ]
  },
  {
   "cell_type": "code",
   "execution_count": 13,
   "id": "operating-detective",
   "metadata": {},
   "outputs": [
    {
     "data": {
      "text/html": [
       "<div>\n",
       "<style scoped>\n",
       "    .dataframe tbody tr th:only-of-type {\n",
       "        vertical-align: middle;\n",
       "    }\n",
       "\n",
       "    .dataframe tbody tr th {\n",
       "        vertical-align: top;\n",
       "    }\n",
       "\n",
       "    .dataframe thead th {\n",
       "        text-align: right;\n",
       "    }\n",
       "</style>\n",
       "<table border=\"1\" class=\"dataframe\">\n",
       "  <thead>\n",
       "    <tr style=\"text-align: right;\">\n",
       "      <th></th>\n",
       "      <th>country</th>\n",
       "      <th>converted_pledged_amount</th>\n",
       "      <th>currency</th>\n",
       "      <th>currency_symbol</th>\n",
       "      <th>fx_rate</th>\n",
       "      <th>usd_pledged</th>\n",
       "      <th>usd_type</th>\n",
       "    </tr>\n",
       "  </thead>\n",
       "  <tbody>\n",
       "    <tr>\n",
       "      <th>56</th>\n",
       "      <td>SG</td>\n",
       "      <td>19699</td>\n",
       "      <td>SGD</td>\n",
       "      <td>$</td>\n",
       "      <td>0.737115</td>\n",
       "      <td>19338.586040</td>\n",
       "      <td>international</td>\n",
       "    </tr>\n",
       "    <tr>\n",
       "      <th>83</th>\n",
       "      <td>NO</td>\n",
       "      <td>2182</td>\n",
       "      <td>NOK</td>\n",
       "      <td>kr</td>\n",
       "      <td>0.115720</td>\n",
       "      <td>2088.859902</td>\n",
       "      <td>domestic</td>\n",
       "    </tr>\n",
       "    <tr>\n",
       "      <th>87</th>\n",
       "      <td>SE</td>\n",
       "      <td>4340</td>\n",
       "      <td>SEK</td>\n",
       "      <td>kr</td>\n",
       "      <td>0.106663</td>\n",
       "      <td>4417.467480</td>\n",
       "      <td>domestic</td>\n",
       "    </tr>\n",
       "    <tr>\n",
       "      <th>94</th>\n",
       "      <td>NO</td>\n",
       "      <td>4649</td>\n",
       "      <td>NOK</td>\n",
       "      <td>kr</td>\n",
       "      <td>0.115720</td>\n",
       "      <td>4967.397210</td>\n",
       "      <td>international</td>\n",
       "    </tr>\n",
       "    <tr>\n",
       "      <th>113</th>\n",
       "      <td>SE</td>\n",
       "      <td>62874</td>\n",
       "      <td>SEK</td>\n",
       "      <td>kr</td>\n",
       "      <td>0.106663</td>\n",
       "      <td>63854.911570</td>\n",
       "      <td>domestic</td>\n",
       "    </tr>\n",
       "    <tr>\n",
       "      <th>145</th>\n",
       "      <td>MX</td>\n",
       "      <td>2107</td>\n",
       "      <td>MXN</td>\n",
       "      <td>$</td>\n",
       "      <td>0.051662</td>\n",
       "      <td>2112.931235</td>\n",
       "      <td>international</td>\n",
       "    </tr>\n",
       "    <tr>\n",
       "      <th>154</th>\n",
       "      <td>SE</td>\n",
       "      <td>5571</td>\n",
       "      <td>SEK</td>\n",
       "      <td>kr</td>\n",
       "      <td>0.106663</td>\n",
       "      <td>5507.784406</td>\n",
       "      <td>international</td>\n",
       "    </tr>\n",
       "    <tr>\n",
       "      <th>165</th>\n",
       "      <td>MX</td>\n",
       "      <td>2061</td>\n",
       "      <td>MXN</td>\n",
       "      <td>$</td>\n",
       "      <td>0.051662</td>\n",
       "      <td>2051.492031</td>\n",
       "      <td>domestic</td>\n",
       "    </tr>\n",
       "    <tr>\n",
       "      <th>275</th>\n",
       "      <td>CA</td>\n",
       "      <td>41677</td>\n",
       "      <td>CAD</td>\n",
       "      <td>$</td>\n",
       "      <td>0.748258</td>\n",
       "      <td>41786.790700</td>\n",
       "      <td>domestic</td>\n",
       "    </tr>\n",
       "    <tr>\n",
       "      <th>300</th>\n",
       "      <td>SG</td>\n",
       "      <td>12189</td>\n",
       "      <td>SGD</td>\n",
       "      <td>$</td>\n",
       "      <td>0.737115</td>\n",
       "      <td>12090.014060</td>\n",
       "      <td>domestic</td>\n",
       "    </tr>\n",
       "  </tbody>\n",
       "</table>\n",
       "</div>"
      ],
      "text/plain": [
       "    country  converted_pledged_amount currency currency_symbol   fx_rate  \\\n",
       "56       SG                     19699      SGD               $  0.737115   \n",
       "83       NO                      2182      NOK              kr  0.115720   \n",
       "87       SE                      4340      SEK              kr  0.106663   \n",
       "94       NO                      4649      NOK              kr  0.115720   \n",
       "113      SE                     62874      SEK              kr  0.106663   \n",
       "145      MX                      2107      MXN               $  0.051662   \n",
       "154      SE                      5571      SEK              kr  0.106663   \n",
       "165      MX                      2061      MXN               $  0.051662   \n",
       "275      CA                     41677      CAD               $  0.748258   \n",
       "300      SG                     12189      SGD               $  0.737115   \n",
       "\n",
       "      usd_pledged       usd_type  \n",
       "56   19338.586040  international  \n",
       "83    2088.859902       domestic  \n",
       "87    4417.467480       domestic  \n",
       "94    4967.397210  international  \n",
       "113  63854.911570       domestic  \n",
       "145   2112.931235  international  \n",
       "154   5507.784406  international  \n",
       "165   2051.492031       domestic  \n",
       "275  41786.790700       domestic  \n",
       "300  12090.014060       domestic  "
      ]
     },
     "execution_count": 13,
     "metadata": {},
     "output_type": "execute_result"
    }
   ],
   "source": [
    "currency_cols = ['country', 'converted_pledged_amount', 'currency', 'currency_symbol', 'fx_rate', 'usd_pledged', 'usd_type']\n",
    "df_full[currency_delta > 900][currency_cols].head(10)"
   ]
  },
  {
   "cell_type": "markdown",
   "id": "colored-operator",
   "metadata": {},
   "source": [
    "## Plegded - over the years"
   ]
  },
  {
   "cell_type": "code",
   "execution_count": 14,
   "id": "nervous-playlist",
   "metadata": {},
   "outputs": [
    {
     "data": {
      "text/html": [
       "<div>\n",
       "<style scoped>\n",
       "    .dataframe tbody tr th:only-of-type {\n",
       "        vertical-align: middle;\n",
       "    }\n",
       "\n",
       "    .dataframe tbody tr th {\n",
       "        vertical-align: top;\n",
       "    }\n",
       "\n",
       "    .dataframe thead th {\n",
       "        text-align: right;\n",
       "    }\n",
       "</style>\n",
       "<table border=\"1\" class=\"dataframe\">\n",
       "  <thead>\n",
       "    <tr style=\"text-align: right;\">\n",
       "      <th></th>\n",
       "      <th></th>\n",
       "      <th>pledged</th>\n",
       "    </tr>\n",
       "    <tr>\n",
       "      <th>launched_at_year</th>\n",
       "      <th>launched_at_month</th>\n",
       "      <th></th>\n",
       "    </tr>\n",
       "  </thead>\n",
       "  <tbody>\n",
       "    <tr>\n",
       "      <th rowspan=\"5\" valign=\"top\">2009</th>\n",
       "      <th>4</th>\n",
       "      <td>6.0</td>\n",
       "    </tr>\n",
       "    <tr>\n",
       "      <th>5</th>\n",
       "      <td>12.0</td>\n",
       "    </tr>\n",
       "    <tr>\n",
       "      <th>6</th>\n",
       "      <td>5.0</td>\n",
       "    </tr>\n",
       "    <tr>\n",
       "      <th>7</th>\n",
       "      <td>12.0</td>\n",
       "    </tr>\n",
       "    <tr>\n",
       "      <th>8</th>\n",
       "      <td>16.0</td>\n",
       "    </tr>\n",
       "    <tr>\n",
       "      <th>...</th>\n",
       "      <th>...</th>\n",
       "      <td>...</td>\n",
       "    </tr>\n",
       "    <tr>\n",
       "      <th rowspan=\"2\" valign=\"top\">2018</th>\n",
       "      <th>11</th>\n",
       "      <td>3843.0</td>\n",
       "    </tr>\n",
       "    <tr>\n",
       "      <th>12</th>\n",
       "      <td>2192.0</td>\n",
       "    </tr>\n",
       "    <tr>\n",
       "      <th rowspan=\"3\" valign=\"top\">2019</th>\n",
       "      <th>1</th>\n",
       "      <td>3850.0</td>\n",
       "    </tr>\n",
       "    <tr>\n",
       "      <th>2</th>\n",
       "      <td>5032.0</td>\n",
       "    </tr>\n",
       "    <tr>\n",
       "      <th>3</th>\n",
       "      <td>3296.0</td>\n",
       "    </tr>\n",
       "  </tbody>\n",
       "</table>\n",
       "<p>120 rows × 1 columns</p>\n",
       "</div>"
      ],
      "text/plain": [
       "                                    pledged\n",
       "launched_at_year launched_at_month         \n",
       "2009             4                      6.0\n",
       "                 5                     12.0\n",
       "                 6                      5.0\n",
       "                 7                     12.0\n",
       "                 8                     16.0\n",
       "...                                     ...\n",
       "2018             11                  3843.0\n",
       "                 12                  2192.0\n",
       "2019             1                   3850.0\n",
       "                 2                   5032.0\n",
       "                 3                   3296.0\n",
       "\n",
       "[120 rows x 1 columns]"
      ]
     },
     "execution_count": 14,
     "metadata": {},
     "output_type": "execute_result"
    }
   ],
   "source": [
    "pledged_per_year = pd.pivot_table(df_full, index=['launched_at_year', 'launched_at_month'], values='pledged', aggfunc=len).rename(columns={'pledged':'pledged'})\n",
    "pledged_per_year"
   ]
  },
  {
   "cell_type": "code",
   "execution_count": 15,
   "id": "inclusive-packing",
   "metadata": {},
   "outputs": [
    {
     "data": {
      "text/html": [
       "<div>\n",
       "<style scoped>\n",
       "    .dataframe tbody tr th:only-of-type {\n",
       "        vertical-align: middle;\n",
       "    }\n",
       "\n",
       "    .dataframe tbody tr th {\n",
       "        vertical-align: top;\n",
       "    }\n",
       "\n",
       "    .dataframe thead th {\n",
       "        text-align: right;\n",
       "    }\n",
       "</style>\n",
       "<table border=\"1\" class=\"dataframe\">\n",
       "  <thead>\n",
       "    <tr style=\"text-align: right;\">\n",
       "      <th></th>\n",
       "      <th>pledged_median</th>\n",
       "    </tr>\n",
       "    <tr>\n",
       "      <th>launched_at_year</th>\n",
       "      <th></th>\n",
       "    </tr>\n",
       "  </thead>\n",
       "  <tbody>\n",
       "    <tr>\n",
       "      <th>2009</th>\n",
       "      <td>2005.500</td>\n",
       "    </tr>\n",
       "    <tr>\n",
       "      <th>2010</th>\n",
       "      <td>2177.000</td>\n",
       "    </tr>\n",
       "    <tr>\n",
       "      <th>2011</th>\n",
       "      <td>2260.000</td>\n",
       "    </tr>\n",
       "    <tr>\n",
       "      <th>2012</th>\n",
       "      <td>2596.000</td>\n",
       "    </tr>\n",
       "    <tr>\n",
       "      <th>2013</th>\n",
       "      <td>3185.000</td>\n",
       "    </tr>\n",
       "    <tr>\n",
       "      <th>2014</th>\n",
       "      <td>1010.000</td>\n",
       "    </tr>\n",
       "    <tr>\n",
       "      <th>2015</th>\n",
       "      <td>551.500</td>\n",
       "    </tr>\n",
       "    <tr>\n",
       "      <th>2016</th>\n",
       "      <td>1014.500</td>\n",
       "    </tr>\n",
       "    <tr>\n",
       "      <th>2017</th>\n",
       "      <td>1307.175</td>\n",
       "    </tr>\n",
       "    <tr>\n",
       "      <th>2018</th>\n",
       "      <td>3180.000</td>\n",
       "    </tr>\n",
       "    <tr>\n",
       "      <th>2019</th>\n",
       "      <td>1514.500</td>\n",
       "    </tr>\n",
       "  </tbody>\n",
       "</table>\n",
       "</div>"
      ],
      "text/plain": [
       "                  pledged_median\n",
       "launched_at_year                \n",
       "2009                    2005.500\n",
       "2010                    2177.000\n",
       "2011                    2260.000\n",
       "2012                    2596.000\n",
       "2013                    3185.000\n",
       "2014                    1010.000\n",
       "2015                     551.500\n",
       "2016                    1014.500\n",
       "2017                    1307.175\n",
       "2018                    3180.000\n",
       "2019                    1514.500"
      ]
     },
     "execution_count": 15,
     "metadata": {},
     "output_type": "execute_result"
    }
   ],
   "source": [
    "pledged_median_per_year = pd.pivot_table(df_full, index='launched_at_year', values='pledged', aggfunc=pd.Series.median).rename(columns={'pledged':'pledged_median'})\n",
    "pledged_median_per_year"
   ]
  },
  {
   "cell_type": "code",
   "execution_count": 16,
   "id": "stunning-internship",
   "metadata": {},
   "outputs": [],
   "source": [
    "pledged_mean_per_year = pd.pivot_table(df_full, index='launched_at_year', values='pledged', aggfunc=pd.Series.mean).rename(columns={'pledged':'pledged_mean'})\n"
   ]
  },
  {
   "cell_type": "code",
   "execution_count": 17,
   "id": "stainless-checklist",
   "metadata": {},
   "outputs": [
    {
     "data": {
      "text/plain": [
       "<AxesSubplot:xlabel='launched_at_year', ylabel='pledged_median'>"
      ]
     },
     "execution_count": 17,
     "metadata": {},
     "output_type": "execute_result"
    },
    {
     "data": {
      "image/png": "[encoded data removed]",
      "text/plain": [
       "<Figure size 432x288 with 1 Axes>"
      ]
     },
     "metadata": {
      "needs_background": "light"
     },
     "output_type": "display_data"
    }
   ],
   "source": [
    "sns.barplot(data=pledged_median_per_year.reset_index(), x='launched_at_year', y='pledged_median')"
   ]
  },
  {
   "cell_type": "code",
   "execution_count": 18,
   "id": "antique-respondent",
   "metadata": {},
   "outputs": [
    {
     "data": {
      "text/plain": [
       "<AxesSubplot:xlabel='launched_at_year', ylabel='pledged_mean'>"
      ]
     },
     "execution_count": 18,
     "metadata": {},
     "output_type": "execute_result"
    },
    {
     "data": {
      "image/png": "[encoded data removed]",
      "text/plain": [
       "<Figure size 432x288 with 1 Axes>"
      ]
     },
     "metadata": {
      "needs_background": "light"
     },
     "output_type": "display_data"
    }
   ],
   "source": [
    "sns.barplot(data=pledged_mean_per_year.reset_index(), x='launched_at_year', y='pledged_mean')"
   ]
  },
  {
   "cell_type": "code",
   "execution_count": null,
   "id": "structural-ambassador",
   "metadata": {},
   "outputs": [],
   "source": []
  }
 ],
 "metadata": {
  "kernelspec": {
   "display_name": "Python 3",
   "language": "python",
   "name": "python3"
  },
  "language_info": {
   "codemirror_mode": {
    "name": "ipython",
    "version": 3
   },
   "file_extension": ".py",
   "mimetype": "text/x-python",
   "name": "python",
   "nbconvert_exporter": "python",
   "pygments_lexer": "ipython3",
   "version": "3.8.5"
  }
 },
 "nbformat": 4,
 "nbformat_minor": 5
}
