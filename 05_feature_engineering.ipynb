{
 "cells": [
  {
   "cell_type": "code",
   "execution_count": 1,
   "id": "skilled-maryland",
   "metadata": {},
   "outputs": [],
   "source": [
    "import pandas as pd\n",
    "import numpy as np\n",
    "import seaborn as sns\n",
    "import json\n",
    "from datetime import datetime\n",
    "from sklearn.model_selection import train_test_split"
   ]
  },
  {
   "cell_type": "code",
   "execution_count": 2,
   "id": "underlying-estimate",
   "metadata": {},
   "outputs": [],
   "source": [
    "df_small = pd.read_pickle(\"./data_frame_small_2021-03-12.pickle\")"
   ]
  },
  {
   "cell_type": "code",
   "execution_count": 3,
   "id": "australian-aluminum",
   "metadata": {},
   "outputs": [
    {
     "name": "stdout",
     "output_type": "stream",
     "text": [
      "<class 'pandas.core.frame.DataFrame'>\n",
      "RangeIndex: 209222 entries, 0 to 209221\n",
      "Data columns (total 35 columns):\n",
      " #   Column                 Non-Null Count   Dtype         \n",
      "---  ------                 --------------   -----         \n",
      " 0   backers_count          209222 non-null  int64         \n",
      " 1   blurb                  209214 non-null  object        \n",
      " 2   country                209222 non-null  object        \n",
      " 3   created_at             209222 non-null  int64         \n",
      " 4   currency               209222 non-null  object        \n",
      " 5   deadline               209222 non-null  int64         \n",
      " 6   disable_communication  209222 non-null  bool          \n",
      " 7   goal                   209222 non-null  float64       \n",
      " 8   launched_at            209222 non-null  int64         \n",
      " 9   name                   209222 non-null  object        \n",
      " 10  staff_pick             209222 non-null  bool          \n",
      " 11  state                  209222 non-null  object        \n",
      " 12  usd_pledged            209222 non-null  float64       \n",
      " 13  usd_type               208742 non-null  object        \n",
      " 14  category_id            209222 non-null  int64         \n",
      " 15  category_name          209222 non-null  object        \n",
      " 16  category_slug          209222 non-null  object        \n",
      " 17  category_parent_id     200181 non-null  float64       \n",
      " 18  category_parent_name   209222 non-null  object        \n",
      " 19  location_id            208996 non-null  float64       \n",
      " 20  location_name          208996 non-null  object        \n",
      " 21  location_type          208996 non-null  object        \n",
      " 22  photo_key              209219 non-null  object        \n",
      " 23  photo_full             209222 non-null  object        \n",
      " 24  duration               209222 non-null  float64       \n",
      " 25  goal_usd               209222 non-null  float64       \n",
      " 26  launched_at_full       209222 non-null  datetime64[ns]\n",
      " 27  launched_at_year       209222 non-null  int64         \n",
      " 28  launched_at_month      209222 non-null  int64         \n",
      " 29  created_at_full        209222 non-null  datetime64[ns]\n",
      " 30  created_at_year        209222 non-null  int64         \n",
      " 31  created_at_month       209222 non-null  int64         \n",
      " 32  deadline_full          209222 non-null  datetime64[ns]\n",
      " 33  deadline_year          209222 non-null  int64         \n",
      " 34  deadline_month         209222 non-null  int64         \n",
      "dtypes: bool(2), datetime64[ns](3), float64(6), int64(11), object(13)\n",
      "memory usage: 53.1+ MB\n"
     ]
    }
   ],
   "source": [
    "df_small.info()"
   ]
  },
  {
   "cell_type": "code",
   "execution_count": 4,
   "id": "parental-plymouth",
   "metadata": {},
   "outputs": [],
   "source": [
    "droplist = ['backers_count', 'name', 'usd_type', 'category_id', 'category_slug', 'category_parent_id', 'deadline', 'staff_pick', 'category_parent_name', \n",
    "            'location_id', 'photo_key', 'photo_full', 'goal', 'launched_at_full', 'launched_at_year', 'created_at_full', 'created_at_year', \n",
    "            'deadline_full', 'deadline_month', 'deadline_year', 'created_at', 'launched_at', 'usd_pledged', 'disable_communication', 'location_name']"
   ]
  },
  {
   "cell_type": "code",
   "execution_count": 5,
   "id": "noticed-genome",
   "metadata": {
    "collapsed": true,
    "jupyter": {
     "outputs_hidden": true
    }
   },
   "outputs": [
    {
     "name": "stdout",
     "output_type": "stream",
     "text": [
      "<class 'pandas.core.frame.DataFrame'>\n",
      "RangeIndex: 209222 entries, 0 to 209221\n",
      "Data columns (total 10 columns):\n",
      " #   Column             Non-Null Count   Dtype  \n",
      "---  ------             --------------   -----  \n",
      " 0   blurb              209214 non-null  object \n",
      " 1   country            209222 non-null  object \n",
      " 2   currency           209222 non-null  object \n",
      " 3   state              209222 non-null  object \n",
      " 4   category_name      209222 non-null  object \n",
      " 5   location_type      208996 non-null  object \n",
      " 6   duration           209222 non-null  float64\n",
      " 7   goal_usd           209222 non-null  float64\n",
      " 8   launched_at_month  209222 non-null  int64  \n",
      " 9   created_at_month   209222 non-null  int64  \n",
      "dtypes: float64(2), int64(2), object(6)\n",
      "memory usage: 16.0+ MB\n"
     ]
    }
   ],
   "source": [
    "df_model = df_small.drop(droplist, axis = 1)\n",
    "df_model.info()"
   ]
  },
  {
   "cell_type": "code",
   "execution_count": 6,
   "id": "another-printing",
   "metadata": {},
   "outputs": [
    {
     "data": {
      "text/plain": [
       "canceled    6\n",
       "failed      2\n",
       "Name: state, dtype: int64"
      ]
     },
     "execution_count": 6,
     "metadata": {},
     "output_type": "execute_result"
    }
   ],
   "source": [
    "df_model[df_model['blurb'].isna()]['state'].value_counts()"
   ]
  },
  {
   "cell_type": "code",
   "execution_count": 7,
   "id": "european-score",
   "metadata": {
    "collapsed": true,
    "jupyter": {
     "outputs_hidden": true
    }
   },
   "outputs": [
    {
     "name": "stdout",
     "output_type": "stream",
     "text": [
      "<class 'pandas.core.frame.DataFrame'>\n",
      "Int64Index: 208988 entries, 0 to 209221\n",
      "Data columns (total 10 columns):\n",
      " #   Column             Non-Null Count   Dtype  \n",
      "---  ------             --------------   -----  \n",
      " 0   blurb              208988 non-null  object \n",
      " 1   country            208988 non-null  object \n",
      " 2   currency           208988 non-null  object \n",
      " 3   state              208988 non-null  object \n",
      " 4   category_name      208988 non-null  object \n",
      " 5   location_type      208988 non-null  object \n",
      " 6   duration           208988 non-null  float64\n",
      " 7   goal_usd           208988 non-null  float64\n",
      " 8   launched_at_month  208988 non-null  int64  \n",
      " 9   created_at_month   208988 non-null  int64  \n",
      "dtypes: float64(2), int64(2), object(6)\n",
      "memory usage: 17.5+ MB\n"
     ]
    }
   ],
   "source": [
    "df_model.dropna(inplace=True)\n",
    "df_model.info()"
   ]
  },
  {
   "cell_type": "code",
   "execution_count": 8,
   "id": "recreational-jungle",
   "metadata": {
    "collapsed": true,
    "jupyter": {
     "outputs_hidden": true
    }
   },
   "outputs": [
    {
     "name": "stdout",
     "output_type": "stream",
     "text": [
      "<class 'pandas.core.frame.DataFrame'>\n",
      "Int64Index: 192447 entries, 0 to 209221\n",
      "Data columns (total 10 columns):\n",
      " #   Column             Non-Null Count   Dtype  \n",
      "---  ------             --------------   -----  \n",
      " 0   blurb              192447 non-null  object \n",
      " 1   country            192447 non-null  object \n",
      " 2   currency           192447 non-null  object \n",
      " 3   state              192447 non-null  object \n",
      " 4   category_name      192447 non-null  object \n",
      " 5   location_type      192447 non-null  object \n",
      " 6   duration           192447 non-null  float64\n",
      " 7   goal_usd           192447 non-null  float64\n",
      " 8   launched_at_month  192447 non-null  int64  \n",
      " 9   created_at_month   192447 non-null  int64  \n",
      "dtypes: float64(2), int64(2), object(6)\n",
      "memory usage: 16.2+ MB\n"
     ]
    }
   ],
   "source": [
    "df_model = df_model.query(\"state == 'successful' or state == 'failed'\")\n",
    "df_model.info()"
   ]
  },
  {
   "cell_type": "code",
   "execution_count": 9,
   "id": "reduced-inflation",
   "metadata": {
    "collapsed": true,
    "jupyter": {
     "outputs_hidden": true
    }
   },
   "outputs": [
    {
     "data": {
      "text/plain": [
       "blurb                167641\n",
       "country                  22\n",
       "currency                 14\n",
       "state                     2\n",
       "category_name           159\n",
       "location_type             9\n",
       "duration               5816\n",
       "goal_usd              45240\n",
       "launched_at_month        12\n",
       "created_at_month         12\n",
       "dtype: int64"
      ]
     },
     "execution_count": 9,
     "metadata": {},
     "output_type": "execute_result"
    }
   ],
   "source": [
    "df_model.nunique()"
   ]
  },
  {
   "cell_type": "code",
   "execution_count": 10,
   "id": "dimensional-adrian",
   "metadata": {
    "collapsed": true,
    "jupyter": {
     "outputs_hidden": true
    }
   },
   "outputs": [
    {
     "data": {
      "text/plain": [
       "Town             178409\n",
       "County             7377\n",
       "Suburb             4792\n",
       "LocalAdmin         1145\n",
       "Zip                 459\n",
       "Island              220\n",
       "Country              24\n",
       "Miscellaneous        16\n",
       "Estate                5\n",
       "Name: location_type, dtype: int64"
      ]
     },
     "execution_count": 10,
     "metadata": {},
     "output_type": "execute_result"
    }
   ],
   "source": [
    "df_model.location_type.value_counts()"
   ]
  },
  {
   "cell_type": "code",
   "execution_count": 11,
   "id": "floating-morocco",
   "metadata": {
    "collapsed": true,
    "jupyter": {
     "outputs_hidden": true
    }
   },
   "outputs": [
    {
     "data": {
      "text/html": [
       "<div>\n",
       "<style scoped>\n",
       "    .dataframe tbody tr th:only-of-type {\n",
       "        vertical-align: middle;\n",
       "    }\n",
       "\n",
       "    .dataframe tbody tr th {\n",
       "        vertical-align: top;\n",
       "    }\n",
       "\n",
       "    .dataframe thead th {\n",
       "        text-align: right;\n",
       "    }\n",
       "</style>\n",
       "<table border=\"1\" class=\"dataframe\">\n",
       "  <thead>\n",
       "    <tr style=\"text-align: right;\">\n",
       "      <th></th>\n",
       "      <th>blurb</th>\n",
       "      <th>country</th>\n",
       "      <th>currency</th>\n",
       "      <th>state</th>\n",
       "      <th>category_name</th>\n",
       "      <th>location_type</th>\n",
       "      <th>duration</th>\n",
       "      <th>goal_usd</th>\n",
       "      <th>launched_at_month</th>\n",
       "      <th>created_at_month</th>\n",
       "      <th>blurb_len</th>\n",
       "    </tr>\n",
       "  </thead>\n",
       "  <tbody>\n",
       "    <tr>\n",
       "      <th>0</th>\n",
       "      <td>2006 was almost 7 years ago.... Can you believ...</td>\n",
       "      <td>US</td>\n",
       "      <td>USD</td>\n",
       "      <td>successful</td>\n",
       "      <td>Rock</td>\n",
       "      <td>Town</td>\n",
       "      <td>45.00</td>\n",
       "      <td>200.0</td>\n",
       "      <td>12</td>\n",
       "      <td>12</td>\n",
       "      <td>26</td>\n",
       "    </tr>\n",
       "    <tr>\n",
       "      <th>1</th>\n",
       "      <td>An adorable fantasy enamel pin series of princ...</td>\n",
       "      <td>US</td>\n",
       "      <td>USD</td>\n",
       "      <td>successful</td>\n",
       "      <td>Mixed Media</td>\n",
       "      <td>Town</td>\n",
       "      <td>20.00</td>\n",
       "      <td>400.0</td>\n",
       "      <td>2</td>\n",
       "      <td>2</td>\n",
       "      <td>9</td>\n",
       "    </tr>\n",
       "    <tr>\n",
       "      <th>2</th>\n",
       "      <td>Helping a community come together to set the s...</td>\n",
       "      <td>US</td>\n",
       "      <td>USD</td>\n",
       "      <td>successful</td>\n",
       "      <td>Photobooks</td>\n",
       "      <td>Town</td>\n",
       "      <td>30.04</td>\n",
       "      <td>27224.0</td>\n",
       "      <td>11</td>\n",
       "      <td>10</td>\n",
       "      <td>25</td>\n",
       "    </tr>\n",
       "    <tr>\n",
       "      <th>3</th>\n",
       "      <td>Every revolution starts from the bottom and we...</td>\n",
       "      <td>IT</td>\n",
       "      <td>EUR</td>\n",
       "      <td>successful</td>\n",
       "      <td>Footwear</td>\n",
       "      <td>Town</td>\n",
       "      <td>41.96</td>\n",
       "      <td>45461.0</td>\n",
       "      <td>10</td>\n",
       "      <td>10</td>\n",
       "      <td>13</td>\n",
       "    </tr>\n",
       "    <tr>\n",
       "      <th>4</th>\n",
       "      <td>Learn to build 10+ Applications in this comple...</td>\n",
       "      <td>US</td>\n",
       "      <td>USD</td>\n",
       "      <td>failed</td>\n",
       "      <td>Software</td>\n",
       "      <td>Town</td>\n",
       "      <td>30.00</td>\n",
       "      <td>1000.0</td>\n",
       "      <td>3</td>\n",
       "      <td>3</td>\n",
       "      <td>22</td>\n",
       "    </tr>\n",
       "  </tbody>\n",
       "</table>\n",
       "</div>"
      ],
      "text/plain": [
       "                                               blurb country currency  \\\n",
       "0  2006 was almost 7 years ago.... Can you believ...      US      USD   \n",
       "1  An adorable fantasy enamel pin series of princ...      US      USD   \n",
       "2  Helping a community come together to set the s...      US      USD   \n",
       "3  Every revolution starts from the bottom and we...      IT      EUR   \n",
       "4  Learn to build 10+ Applications in this comple...      US      USD   \n",
       "\n",
       "        state category_name location_type  duration  goal_usd  \\\n",
       "0  successful          Rock          Town     45.00     200.0   \n",
       "1  successful   Mixed Media          Town     20.00     400.0   \n",
       "2  successful    Photobooks          Town     30.04   27224.0   \n",
       "3  successful      Footwear          Town     41.96   45461.0   \n",
       "4      failed      Software          Town     30.00    1000.0   \n",
       "\n",
       "   launched_at_month  created_at_month  blurb_len  \n",
       "0                 12                12         26  \n",
       "1                  2                 2          9  \n",
       "2                 11                10         25  \n",
       "3                 10                10         13  \n",
       "4                  3                 3         22  "
      ]
     },
     "execution_count": 11,
     "metadata": {},
     "output_type": "execute_result"
    }
   ],
   "source": [
    "df_model['blurb_len'] = [x.split(\" \") for x in df_model.blurb]\n",
    "df_model['blurb_len'] = [len(i) for i in df_model['blurb_len']]\n",
    "df_model.head()"
   ]
  },
  {
   "cell_type": "code",
   "execution_count": 12,
   "id": "affecting-identification",
   "metadata": {
    "collapsed": true,
    "jupyter": {
     "outputs_hidden": true
    }
   },
   "outputs": [
    {
     "data": {
      "text/plain": [
       "country                 22\n",
       "currency                14\n",
       "state                    2\n",
       "category_name          159\n",
       "location_type            9\n",
       "duration              5816\n",
       "goal_usd             45240\n",
       "launched_at_month       12\n",
       "created_at_month        12\n",
       "blurb_len               53\n",
       "dtype: int64"
      ]
     },
     "execution_count": 12,
     "metadata": {},
     "output_type": "execute_result"
    }
   ],
   "source": [
    "df_model.drop('blurb', inplace = True, axis = 1)\n",
    "df_model.nunique()"
   ]
  },
  {
   "cell_type": "code",
   "execution_count": 13,
   "id": "czech-statistics",
   "metadata": {
    "collapsed": true,
    "jupyter": {
     "outputs_hidden": true
    }
   },
   "outputs": [
    {
     "data": {
      "text/plain": [
       "country                 22\n",
       "currency                14\n",
       "state                    2\n",
       "category_name          159\n",
       "location_type            9\n",
       "duration              5816\n",
       "goal_usd             45240\n",
       "launched_at_month       12\n",
       "created_at_month        12\n",
       "blurb_len               53\n",
       "dtype: int64"
      ]
     },
     "execution_count": 13,
     "metadata": {},
     "output_type": "execute_result"
    }
   ],
   "source": [
    "df_model.nunique()"
   ]
  },
  {
   "cell_type": "code",
   "execution_count": 14,
   "id": "changed-insurance",
   "metadata": {},
   "outputs": [],
   "source": [
    "country_dummies = pd.get_dummies(df_model['country'], prefix='country', drop_first=True) #create dummie-variables\n",
    "currency_dummies = pd.get_dummies(df_model['currency'], prefix='currency', drop_first=True)\n",
    "category_dummies = pd.get_dummies(df_model['category_name'], prefix='category', drop_first=True)\n",
    "location_dummies = pd.get_dummies(df_model['location_type'], prefix='location', drop_first=True)"
   ]
  },
  {
   "cell_type": "code",
   "execution_count": 16,
   "id": "tested-fifth",
   "metadata": {},
   "outputs": [],
   "source": [
    "df_model = pd.concat([df_model.drop(['country', 'currency', 'category_name', 'location_type'], axis = 1), country_dummies, currency_dummies, category_dummies, location_dummies], axis = 1)"
   ]
  },
  {
   "cell_type": "code",
   "execution_count": 17,
   "id": "rolled-sunday",
   "metadata": {},
   "outputs": [
    {
     "data": {
      "text/plain": [
       "(192447, 206)"
      ]
     },
     "execution_count": 17,
     "metadata": {},
     "output_type": "execute_result"
    }
   ],
   "source": [
    "df_model.shape"
   ]
  },
  {
   "cell_type": "code",
   "execution_count": 16,
   "id": "frequent-amount",
   "metadata": {
    "collapsed": true,
    "jupyter": {
     "outputs_hidden": true
    }
   },
   "outputs": [
    {
     "data": {
      "text/plain": [
       "['state',\n",
       " 'duration',\n",
       " 'goal_usd',\n",
       " 'launched_at_month',\n",
       " 'created_at_month',\n",
       " 'blurb_len',\n",
       " 'country_AU',\n",
       " 'country_BE',\n",
       " 'country_CA',\n",
       " 'country_CH',\n",
       " 'country_DE',\n",
       " 'country_DK',\n",
       " 'country_ES',\n",
       " 'country_FR',\n",
       " 'country_GB',\n",
       " 'country_HK',\n",
       " 'country_IE',\n",
       " 'country_IT',\n",
       " 'country_JP',\n",
       " 'country_LU',\n",
       " 'country_MX',\n",
       " 'country_NL',\n",
       " 'country_NO',\n",
       " 'country_NZ',\n",
       " 'country_SE',\n",
       " 'country_SG',\n",
       " 'country_US',\n",
       " 'currency_CAD',\n",
       " 'currency_CHF',\n",
       " 'currency_DKK',\n",
       " 'currency_EUR',\n",
       " 'currency_GBP',\n",
       " 'currency_HKD',\n",
       " 'currency_JPY',\n",
       " 'currency_MXN',\n",
       " 'currency_NOK',\n",
       " 'currency_NZD',\n",
       " 'currency_SEK',\n",
       " 'currency_SGD',\n",
       " 'currency_USD',\n",
       " 'category_Academic',\n",
       " 'category_Accessories',\n",
       " 'category_Action',\n",
       " 'category_Animals',\n",
       " 'category_Animation',\n",
       " 'category_Anthologies',\n",
       " 'category_Apparel',\n",
       " 'category_Apps',\n",
       " 'category_Architecture',\n",
       " 'category_Art',\n",
       " 'category_Art Books',\n",
       " 'category_Audio',\n",
       " 'category_Bacon',\n",
       " 'category_Blues',\n",
       " 'category_Calendars',\n",
       " 'category_Camera Equipment',\n",
       " 'category_Candles',\n",
       " 'category_Ceramics',\n",
       " \"category_Children's Books\",\n",
       " 'category_Childrenswear',\n",
       " 'category_Chiptune',\n",
       " 'category_Civic Design',\n",
       " 'category_Classical Music',\n",
       " 'category_Comedy',\n",
       " 'category_Comic Books',\n",
       " 'category_Comics',\n",
       " 'category_Community Gardens',\n",
       " 'category_Conceptual Art',\n",
       " 'category_Cookbooks',\n",
       " 'category_Country & Folk',\n",
       " 'category_Couture',\n",
       " 'category_Crafts',\n",
       " 'category_Crochet',\n",
       " 'category_DIY',\n",
       " 'category_DIY Electronics',\n",
       " 'category_Dance',\n",
       " 'category_Design',\n",
       " 'category_Digital Art',\n",
       " 'category_Documentary',\n",
       " 'category_Drama',\n",
       " 'category_Drinks',\n",
       " 'category_Electronic Music',\n",
       " 'category_Embroidery',\n",
       " 'category_Events',\n",
       " 'category_Experimental',\n",
       " 'category_Fabrication Tools',\n",
       " 'category_Faith',\n",
       " 'category_Family',\n",
       " 'category_Fantasy',\n",
       " \"category_Farmer's Markets\",\n",
       " 'category_Farms',\n",
       " 'category_Fashion',\n",
       " 'category_Festivals',\n",
       " 'category_Fiction',\n",
       " 'category_Film & Video',\n",
       " 'category_Fine Art',\n",
       " 'category_Flight',\n",
       " 'category_Food',\n",
       " 'category_Food Trucks',\n",
       " 'category_Footwear',\n",
       " 'category_Gadgets',\n",
       " 'category_Games',\n",
       " 'category_Gaming Hardware',\n",
       " 'category_Glass',\n",
       " 'category_Graphic Design',\n",
       " 'category_Graphic Novels',\n",
       " 'category_Hardware',\n",
       " 'category_Hip-Hop',\n",
       " 'category_Horror',\n",
       " 'category_Illustration',\n",
       " 'category_Immersive',\n",
       " 'category_Indie Rock',\n",
       " 'category_Installations',\n",
       " 'category_Interactive Design',\n",
       " 'category_Jazz',\n",
       " 'category_Jewelry',\n",
       " 'category_Journalism',\n",
       " 'category_Kids',\n",
       " 'category_Knitting',\n",
       " 'category_Latin',\n",
       " 'category_Letterpress',\n",
       " 'category_Literary Journals',\n",
       " 'category_Literary Spaces',\n",
       " 'category_Live Games',\n",
       " 'category_Makerspaces',\n",
       " 'category_Metal',\n",
       " 'category_Mixed Media',\n",
       " 'category_Mobile Games',\n",
       " 'category_Movie Theaters',\n",
       " 'category_Music',\n",
       " 'category_Music Videos',\n",
       " 'category_Musical',\n",
       " 'category_Narrative Film',\n",
       " 'category_Nature',\n",
       " 'category_Nonfiction',\n",
       " 'category_Painting',\n",
       " 'category_People',\n",
       " 'category_Performance Art',\n",
       " 'category_Performances',\n",
       " 'category_Periodicals',\n",
       " 'category_Pet Fashion',\n",
       " 'category_Photo',\n",
       " 'category_Photobooks',\n",
       " 'category_Photography',\n",
       " 'category_Places',\n",
       " 'category_Playing Cards',\n",
       " 'category_Plays',\n",
       " 'category_Poetry',\n",
       " 'category_Pop',\n",
       " 'category_Pottery',\n",
       " 'category_Print',\n",
       " 'category_Printing',\n",
       " 'category_Product Design',\n",
       " 'category_Public Art',\n",
       " 'category_Publishing',\n",
       " 'category_Punk',\n",
       " 'category_Puzzles',\n",
       " 'category_Quilts',\n",
       " 'category_R&B',\n",
       " 'category_Radio & Podcasts',\n",
       " 'category_Ready-to-wear',\n",
       " 'category_Residencies',\n",
       " 'category_Restaurants',\n",
       " 'category_Robots',\n",
       " 'category_Rock',\n",
       " 'category_Romance',\n",
       " 'category_Science Fiction',\n",
       " 'category_Sculpture',\n",
       " 'category_Shorts',\n",
       " 'category_Small Batch',\n",
       " 'category_Software',\n",
       " 'category_Sound',\n",
       " 'category_Space Exploration',\n",
       " 'category_Spaces',\n",
       " 'category_Stationery',\n",
       " 'category_Tabletop Games',\n",
       " 'category_Taxidermy',\n",
       " 'category_Technology',\n",
       " 'category_Television',\n",
       " 'category_Textiles',\n",
       " 'category_Theater',\n",
       " 'category_Thrillers',\n",
       " 'category_Translations',\n",
       " 'category_Typography',\n",
       " 'category_Vegan',\n",
       " 'category_Video',\n",
       " 'category_Video Art',\n",
       " 'category_Video Games',\n",
       " 'category_Wearables',\n",
       " 'category_Weaving',\n",
       " 'category_Web',\n",
       " 'category_Webcomics',\n",
       " 'category_Webseries',\n",
       " 'category_Woodworking',\n",
       " 'category_Workshops',\n",
       " 'category_World Music',\n",
       " 'category_Young Adult',\n",
       " 'category_Zines',\n",
       " 'location_County',\n",
       " 'location_Estate',\n",
       " 'location_Island',\n",
       " 'location_LocalAdmin',\n",
       " 'location_Miscellaneous',\n",
       " 'location_Suburb',\n",
       " 'location_Town',\n",
       " 'location_Zip']"
      ]
     },
     "execution_count": 16,
     "metadata": {},
     "output_type": "execute_result"
    }
   ],
   "source": [
    "list(df_model.columns)"
   ]
  },
  {
   "cell_type": "code",
   "execution_count": 24,
   "id": "rising-reserve",
   "metadata": {},
   "outputs": [
    {
     "data": {
      "text/plain": [
       "(192447, 206)"
      ]
     },
     "execution_count": 24,
     "metadata": {},
     "output_type": "execute_result"
    }
   ],
   "source": [
    "dic = {'successful' : 1, 'failed' : 0}\n",
    "df_model.state = df_model.state.map(dic)\n",
    "df_model.shape"
   ]
  },
  {
   "cell_type": "code",
   "execution_count": 22,
   "id": "exposed-navigator",
   "metadata": {},
   "outputs": [],
   "source": [
    "X = df_model.drop('state', axis=1)\n",
    "y = df_model.state\n"
   ]
  },
  {
   "cell_type": "code",
   "execution_count": 23,
   "id": "sweet-cyprus",
   "metadata": {},
   "outputs": [],
   "source": [
    "X_train, X_test, y_train, y_test = train_test_split(X, y, test_size=0.3, random_state=42, stratify = y)"
   ]
  },
  {
   "cell_type": "code",
   "execution_count": 26,
   "id": "stopped-montreal",
   "metadata": {},
   "outputs": [],
   "source": [
    "X_train.to_csv('X_train_Kickstarter.csv', index = False)\n",
    "X_test.to_csv('X_test_Kickstarter.csv', index = False)\n",
    "y_train.to_csv('y_train_Kickstarter.csv', index = False)\n",
    "y_test.to_csv('y_test_Kickstarter.csv', index = False)"
   ]
  },
  {
   "cell_type": "code",
   "execution_count": null,
   "id": "instant-convertible",
   "metadata": {},
   "outputs": [],
   "source": []
  }
 ],
 "metadata": {
  "kernelspec": {
   "display_name": "Python 3",
   "language": "python",
   "name": "python3"
  },
  "language_info": {
   "codemirror_mode": {
    "name": "ipython",
    "version": 3
   },
   "file_extension": ".py",
   "mimetype": "text/x-python",
   "name": "python",
   "nbconvert_exporter": "python",
   "pygments_lexer": "ipython3",
   "version": "3.8.5"
  }
 },
 "nbformat": 4,
 "nbformat_minor": 5
}
