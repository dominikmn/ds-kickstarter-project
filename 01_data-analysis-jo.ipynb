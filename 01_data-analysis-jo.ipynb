{
 "cells": [
  {
   "cell_type": "code",
   "execution_count": 69,
   "metadata": {},
   "outputs": [],
   "source": [
    "import pandas as pd\n",
    "import numpy as np\n",
    "import seaborn as sns\n",
    "import json\n",
    "from datetime import datetime\n",
    "import matplotlib.pyplot as plt\n",
    "\n",
    "%matplotlib inline\n",
    "plt.style.use('seaborn')\n",
    "sns.set(style=\"darkgrid\")\n",
    "\n",
    "sns.set(style=\"white\", palette=\"pastel\",font_scale=1.5, rc={\"lines.linewidth\": 2.5,'figure.figsize':(20,10)})"
   ]
  },
  {
   "cell_type": "code",
   "execution_count": 2,
   "metadata": {},
   "outputs": [],
   "source": [
    "df_lst = []\n",
    "for i in range(56):\n",
    "    df_lst.append( pd.read_csv('./data/Kickstarter{:03d}.csv'.format(i)) )"
   ]
  },
  {
   "cell_type": "code",
   "execution_count": 3,
   "metadata": {},
   "outputs": [],
   "source": [
    "df = pd.concat(df_lst, ignore_index=True)"
   ]
  },
  {
   "cell_type": "code",
   "execution_count": 4,
   "metadata": {},
   "outputs": [
    {
     "name": "stdout",
     "output_type": "stream",
     "text": [
      "<class 'pandas.core.frame.DataFrame'>\n",
      "RangeIndex: 209222 entries, 0 to 209221\n",
      "Data columns (total 37 columns):\n",
      " #   Column                    Non-Null Count   Dtype  \n",
      "---  ------                    --------------   -----  \n",
      " 0   backers_count             209222 non-null  int64  \n",
      " 1   blurb                     209214 non-null  object \n",
      " 2   category                  209222 non-null  object \n",
      " 3   converted_pledged_amount  209222 non-null  int64  \n",
      " 4   country                   209222 non-null  object \n",
      " 5   created_at                209222 non-null  int64  \n",
      " 6   creator                   209222 non-null  object \n",
      " 7   currency                  209222 non-null  object \n",
      " 8   currency_symbol           209222 non-null  object \n",
      " 9   currency_trailing_code    209222 non-null  bool   \n",
      " 10  current_currency          209222 non-null  object \n",
      " 11  deadline                  209222 non-null  int64  \n",
      " 12  disable_communication     209222 non-null  bool   \n",
      " 13  friends                   300 non-null     object \n",
      " 14  fx_rate                   209222 non-null  float64\n",
      " 15  goal                      209222 non-null  float64\n",
      " 16  id                        209222 non-null  int64  \n",
      " 17  is_backing                300 non-null     object \n",
      " 18  is_starrable              209222 non-null  bool   \n",
      " 19  is_starred                300 non-null     object \n",
      " 20  launched_at               209222 non-null  int64  \n",
      " 21  location                  208996 non-null  object \n",
      " 22  name                      209222 non-null  object \n",
      " 23  permissions               300 non-null     object \n",
      " 24  photo                     209222 non-null  object \n",
      " 25  pledged                   209222 non-null  float64\n",
      " 26  profile                   209222 non-null  object \n",
      " 27  slug                      209222 non-null  object \n",
      " 28  source_url                209222 non-null  object \n",
      " 29  spotlight                 209222 non-null  bool   \n",
      " 30  staff_pick                209222 non-null  bool   \n",
      " 31  state                     209222 non-null  object \n",
      " 32  state_changed_at          209222 non-null  int64  \n",
      " 33  static_usd_rate           209222 non-null  float64\n",
      " 34  urls                      209222 non-null  object \n",
      " 35  usd_pledged               209222 non-null  float64\n",
      " 36  usd_type                  208742 non-null  object \n",
      "dtypes: bool(5), float64(5), int64(7), object(20)\n",
      "memory usage: 52.1+ MB\n"
     ]
    }
   ],
   "source": [
    "df.info()"
   ]
  },
  {
   "cell_type": "code",
   "execution_count": 5,
   "metadata": {},
   "outputs": [
    {
     "data": {
      "text/html": [
       "<div>\n",
       "<style scoped>\n",
       "    .dataframe tbody tr th:only-of-type {\n",
       "        vertical-align: middle;\n",
       "    }\n",
       "\n",
       "    .dataframe tbody tr th {\n",
       "        vertical-align: top;\n",
       "    }\n",
       "\n",
       "    .dataframe thead th {\n",
       "        text-align: right;\n",
       "    }\n",
       "</style>\n",
       "<table border=\"1\" class=\"dataframe\">\n",
       "  <thead>\n",
       "    <tr style=\"text-align: right;\">\n",
       "      <th></th>\n",
       "      <th>backers_count</th>\n",
       "      <th>blurb</th>\n",
       "      <th>category</th>\n",
       "      <th>converted_pledged_amount</th>\n",
       "      <th>country</th>\n",
       "      <th>created_at</th>\n",
       "      <th>creator</th>\n",
       "      <th>currency</th>\n",
       "      <th>currency_symbol</th>\n",
       "      <th>currency_trailing_code</th>\n",
       "      <th>...</th>\n",
       "      <th>slug</th>\n",
       "      <th>source_url</th>\n",
       "      <th>spotlight</th>\n",
       "      <th>staff_pick</th>\n",
       "      <th>state</th>\n",
       "      <th>state_changed_at</th>\n",
       "      <th>static_usd_rate</th>\n",
       "      <th>urls</th>\n",
       "      <th>usd_pledged</th>\n",
       "      <th>usd_type</th>\n",
       "    </tr>\n",
       "  </thead>\n",
       "  <tbody>\n",
       "    <tr>\n",
       "      <th>0</th>\n",
       "      <td>21</td>\n",
       "      <td>2006 was almost 7 years ago.... Can you believ...</td>\n",
       "      <td>{\"id\":43,\"name\":\"Rock\",\"slug\":\"music/rock\",\"po...</td>\n",
       "      <td>802</td>\n",
       "      <td>US</td>\n",
       "      <td>1387659690</td>\n",
       "      <td>{\"id\":1495925645,\"name\":\"Daniel\",\"is_registere...</td>\n",
       "      <td>USD</td>\n",
       "      <td>$</td>\n",
       "      <td>True</td>\n",
       "      <td>...</td>\n",
       "      <td>new-final-round-album</td>\n",
       "      <td>https://www.kickstarter.com/discover/categorie...</td>\n",
       "      <td>True</td>\n",
       "      <td>False</td>\n",
       "      <td>successful</td>\n",
       "      <td>1391899046</td>\n",
       "      <td>1.000000</td>\n",
       "      <td>{\"web\":{\"project\":\"https://www.kickstarter.com...</td>\n",
       "      <td>802.00000</td>\n",
       "      <td>international</td>\n",
       "    </tr>\n",
       "    <tr>\n",
       "      <th>1</th>\n",
       "      <td>97</td>\n",
       "      <td>An adorable fantasy enamel pin series of princ...</td>\n",
       "      <td>{\"id\":54,\"name\":\"Mixed Media\",\"slug\":\"art/mixe...</td>\n",
       "      <td>2259</td>\n",
       "      <td>US</td>\n",
       "      <td>1549659768</td>\n",
       "      <td>{\"id\":1175589980,\"name\":\"Katherine\",\"slug\":\"fr...</td>\n",
       "      <td>USD</td>\n",
       "      <td>$</td>\n",
       "      <td>True</td>\n",
       "      <td>...</td>\n",
       "      <td>princess-pals-enamel-pin-series</td>\n",
       "      <td>https://www.kickstarter.com/discover/categorie...</td>\n",
       "      <td>True</td>\n",
       "      <td>False</td>\n",
       "      <td>successful</td>\n",
       "      <td>1551801611</td>\n",
       "      <td>1.000000</td>\n",
       "      <td>{\"web\":{\"project\":\"https://www.kickstarter.com...</td>\n",
       "      <td>2259.00000</td>\n",
       "      <td>international</td>\n",
       "    </tr>\n",
       "    <tr>\n",
       "      <th>2</th>\n",
       "      <td>88</td>\n",
       "      <td>Helping a community come together to set the s...</td>\n",
       "      <td>{\"id\":280,\"name\":\"Photobooks\",\"slug\":\"photogra...</td>\n",
       "      <td>29638</td>\n",
       "      <td>US</td>\n",
       "      <td>1477242384</td>\n",
       "      <td>{\"id\":1196856269,\"name\":\"MelissaThomas\",\"is_re...</td>\n",
       "      <td>USD</td>\n",
       "      <td>$</td>\n",
       "      <td>True</td>\n",
       "      <td>...</td>\n",
       "      <td>their-life-through-their-lens-the-amish-and-me...</td>\n",
       "      <td>https://www.kickstarter.com/discover/categorie...</td>\n",
       "      <td>True</td>\n",
       "      <td>True</td>\n",
       "      <td>successful</td>\n",
       "      <td>1480607932</td>\n",
       "      <td>1.000000</td>\n",
       "      <td>{\"web\":{\"project\":\"https://www.kickstarter.com...</td>\n",
       "      <td>29638.00000</td>\n",
       "      <td>international</td>\n",
       "    </tr>\n",
       "    <tr>\n",
       "      <th>3</th>\n",
       "      <td>193</td>\n",
       "      <td>Every revolution starts from the bottom and we...</td>\n",
       "      <td>{\"id\":266,\"name\":\"Footwear\",\"slug\":\"fashion/fo...</td>\n",
       "      <td>49158</td>\n",
       "      <td>IT</td>\n",
       "      <td>1540369920</td>\n",
       "      <td>{\"id\":1569700626,\"name\":\"WAO\",\"slug\":\"wearewao...</td>\n",
       "      <td>EUR</td>\n",
       "      <td>€</td>\n",
       "      <td>False</td>\n",
       "      <td>...</td>\n",
       "      <td>wao-the-eco-effect-shoes</td>\n",
       "      <td>https://www.kickstarter.com/discover/categorie...</td>\n",
       "      <td>True</td>\n",
       "      <td>False</td>\n",
       "      <td>successful</td>\n",
       "      <td>1544309940</td>\n",
       "      <td>1.136525</td>\n",
       "      <td>{\"web\":{\"project\":\"https://www.kickstarter.com...</td>\n",
       "      <td>49075.15252</td>\n",
       "      <td>international</td>\n",
       "    </tr>\n",
       "    <tr>\n",
       "      <th>4</th>\n",
       "      <td>20</td>\n",
       "      <td>Learn to build 10+ Applications in this comple...</td>\n",
       "      <td>{\"id\":51,\"name\":\"Software\",\"slug\":\"technology/...</td>\n",
       "      <td>549</td>\n",
       "      <td>US</td>\n",
       "      <td>1425706517</td>\n",
       "      <td>{\"id\":1870845385,\"name\":\"Kalpit Jain\",\"is_regi...</td>\n",
       "      <td>USD</td>\n",
       "      <td>$</td>\n",
       "      <td>True</td>\n",
       "      <td>...</td>\n",
       "      <td>apple-watch-development-course</td>\n",
       "      <td>https://www.kickstarter.com/discover/categorie...</td>\n",
       "      <td>False</td>\n",
       "      <td>False</td>\n",
       "      <td>failed</td>\n",
       "      <td>1428511019</td>\n",
       "      <td>1.000000</td>\n",
       "      <td>{\"web\":{\"project\":\"https://www.kickstarter.com...</td>\n",
       "      <td>549.00000</td>\n",
       "      <td>domestic</td>\n",
       "    </tr>\n",
       "  </tbody>\n",
       "</table>\n",
       "<p>5 rows × 37 columns</p>\n",
       "</div>"
      ],
      "text/plain": [
       "   backers_count                                              blurb  \\\n",
       "0             21  2006 was almost 7 years ago.... Can you believ...   \n",
       "1             97  An adorable fantasy enamel pin series of princ...   \n",
       "2             88  Helping a community come together to set the s...   \n",
       "3            193  Every revolution starts from the bottom and we...   \n",
       "4             20  Learn to build 10+ Applications in this comple...   \n",
       "\n",
       "                                            category  \\\n",
       "0  {\"id\":43,\"name\":\"Rock\",\"slug\":\"music/rock\",\"po...   \n",
       "1  {\"id\":54,\"name\":\"Mixed Media\",\"slug\":\"art/mixe...   \n",
       "2  {\"id\":280,\"name\":\"Photobooks\",\"slug\":\"photogra...   \n",
       "3  {\"id\":266,\"name\":\"Footwear\",\"slug\":\"fashion/fo...   \n",
       "4  {\"id\":51,\"name\":\"Software\",\"slug\":\"technology/...   \n",
       "\n",
       "   converted_pledged_amount country  created_at  \\\n",
       "0                       802      US  1387659690   \n",
       "1                      2259      US  1549659768   \n",
       "2                     29638      US  1477242384   \n",
       "3                     49158      IT  1540369920   \n",
       "4                       549      US  1425706517   \n",
       "\n",
       "                                             creator currency currency_symbol  \\\n",
       "0  {\"id\":1495925645,\"name\":\"Daniel\",\"is_registere...      USD               $   \n",
       "1  {\"id\":1175589980,\"name\":\"Katherine\",\"slug\":\"fr...      USD               $   \n",
       "2  {\"id\":1196856269,\"name\":\"MelissaThomas\",\"is_re...      USD               $   \n",
       "3  {\"id\":1569700626,\"name\":\"WAO\",\"slug\":\"wearewao...      EUR               €   \n",
       "4  {\"id\":1870845385,\"name\":\"Kalpit Jain\",\"is_regi...      USD               $   \n",
       "\n",
       "   currency_trailing_code  ...  \\\n",
       "0                    True  ...   \n",
       "1                    True  ...   \n",
       "2                    True  ...   \n",
       "3                   False  ...   \n",
       "4                    True  ...   \n",
       "\n",
       "                                                slug  \\\n",
       "0                              new-final-round-album   \n",
       "1                    princess-pals-enamel-pin-series   \n",
       "2  their-life-through-their-lens-the-amish-and-me...   \n",
       "3                           wao-the-eco-effect-shoes   \n",
       "4                     apple-watch-development-course   \n",
       "\n",
       "                                          source_url  spotlight staff_pick  \\\n",
       "0  https://www.kickstarter.com/discover/categorie...       True      False   \n",
       "1  https://www.kickstarter.com/discover/categorie...       True      False   \n",
       "2  https://www.kickstarter.com/discover/categorie...       True       True   \n",
       "3  https://www.kickstarter.com/discover/categorie...       True      False   \n",
       "4  https://www.kickstarter.com/discover/categorie...      False      False   \n",
       "\n",
       "        state  state_changed_at  static_usd_rate  \\\n",
       "0  successful        1391899046         1.000000   \n",
       "1  successful        1551801611         1.000000   \n",
       "2  successful        1480607932         1.000000   \n",
       "3  successful        1544309940         1.136525   \n",
       "4      failed        1428511019         1.000000   \n",
       "\n",
       "                                                urls  usd_pledged  \\\n",
       "0  {\"web\":{\"project\":\"https://www.kickstarter.com...    802.00000   \n",
       "1  {\"web\":{\"project\":\"https://www.kickstarter.com...   2259.00000   \n",
       "2  {\"web\":{\"project\":\"https://www.kickstarter.com...  29638.00000   \n",
       "3  {\"web\":{\"project\":\"https://www.kickstarter.com...  49075.15252   \n",
       "4  {\"web\":{\"project\":\"https://www.kickstarter.com...    549.00000   \n",
       "\n",
       "        usd_type  \n",
       "0  international  \n",
       "1  international  \n",
       "2  international  \n",
       "3  international  \n",
       "4       domestic  \n",
       "\n",
       "[5 rows x 37 columns]"
      ]
     },
     "execution_count": 5,
     "metadata": {},
     "output_type": "execute_result"
    }
   ],
   "source": [
    "df.head()"
   ]
  },
  {
   "cell_type": "markdown",
   "metadata": {},
   "source": [
    "# Data exploration"
   ]
  },
  {
   "cell_type": "markdown",
   "metadata": {},
   "source": [
    "## Feature overview"
   ]
  },
  {
   "cell_type": "markdown",
   "metadata": {},
   "source": [
    "| Column | Description | Dtype | Null | EDA status |\n",
    "| - | - | - | - | - |\n",
    "| `backers_count` | The number of participants of the kickstarter project | | | Done |\n",
    "| `blurb` | Short description of the project by the project initiator. Max 135 characters. | | | Done | \n",
    "| `category` | Dictionary object. \\n Contains `id, name, slug, position, parent_id, color, urls` | | | Open |\n",
    "| `converted_pledged_amount` | Open | | | Open |\n",
    "| `country` | Country of of Kickstarter account (?) | | | To be confirmed |\n",
    "| `created_at`| Creation date of the project. UNIX time format | | | Done |\n",
    "| `creator`| Dictionary of user details `id, name, is_registered, chosen_currency, ... | | | Open to list all dictionary entries|\n",
    "| `currency`| Currency (3-digit code) by which the project is founded | | | Done |\n",
    "| `currency_symbol`| Symbol related to `currency` feature. | | | Done |\n",
    "| `currency_trailing_code`| | Bool | | Open |\n",
    "| `current_currency`| Open | | | Open |\n",
    "| `deadline`| Deadline of the project. UNIX time format | | | |\n",
    "| `disable_communication`| Is the communication with the creator allowed? | Bool | | Done |\n",
    "| `friends`| 300 entries with empty list object | | | See '300 question' |\n",
    "| `fx_rate`| Open | | | Open. Currency topic. |\n",
    "| `goal`| Target amount | | | By how much deviate the projects from the target? (successful vs. failed) |\n",
    "| `id`| Intern kickstarter id | | | See '182-anomalia' |\n",
    "| `is_backing`| 300 instances of 'False' | | | See '300 question' |\n",
    "| `is_starrable`| Open | Bool | None | Open |\n",
    "| `is_starred`| Open | | 298 False, 2 True | See '300 question' |\n",
    "| `launched_at`| Date of publication on kickstarter | int64 | None | Done |\n",
    "| `location`| Dictionary of location details | String | 208996 filled | Open |\n",
    "| `name`| Project name. Limited to 60 chars. | String | 209222 filled | Open |\n",
    "| `permissions`| 300 entries with empty list object ||| See '300 question' |\n",
    "| `photo`| Dictionary of photo url, ...  | String | | See '182-anomalia' |\n",
    "| `pledged`|||||\n",
    "| `profile`|||||\n",
    "| `slug`|||||\n",
    "| `source_url`|||||\n",
    "| `spotlight`|||||\n",
    "| `staff_pick`|||||\n",
    "| `state`|||||\n",
    "| `state_changed_at`|||||\n",
    "| `static_usd_rate`|||||\n",
    "| `urls`|||||\n",
    "| `usd_pledged`|||||\n",
    "| `usd_type` |||||"
   ]
  },
  {
   "cell_type": "markdown",
   "metadata": {},
   "source": [
    "## Target classes and balance"
   ]
  },
  {
   "cell_type": "code",
   "execution_count": 6,
   "metadata": {},
   "outputs": [
    {
     "data": {
      "text/plain": [
       "successful    117465\n",
       "failed         75199\n",
       "canceled        8624\n",
       "live            7311\n",
       "suspended        623\n",
       "Name: state, dtype: int64"
      ]
     },
     "execution_count": 6,
     "metadata": {},
     "output_type": "execute_result"
    }
   ],
   "source": [
    "df['state'].value_counts()"
   ]
  },
  {
   "cell_type": "markdown",
   "metadata": {},
   "source": [
    "There are "
   ]
  },
  {
   "cell_type": "markdown",
   "metadata": {},
   "source": [
    "## Date time"
   ]
  },
  {
   "cell_type": "code",
   "execution_count": 7,
   "metadata": {},
   "outputs": [
    {
     "data": {
      "text/plain": [
       "count                           209222\n",
       "mean     2016-05-09 23:50:25.225296640\n",
       "min                2009-05-03 07:00:17\n",
       "25%      2015-01-05 19:16:23.750000128\n",
       "50%                2016-05-31 15:31:38\n",
       "75%                2018-02-23 06:04:15\n",
       "max                2019-03-14 04:12:21\n",
       "Name: state_changed_at, dtype: object"
      ]
     },
     "execution_count": 7,
     "metadata": {},
     "output_type": "execute_result"
    }
   ],
   "source": [
    "pd.to_datetime(df['state_changed_at'], unit='s').describe(datetime_is_numeric=True)"
   ]
  },
  {
   "cell_type": "markdown",
   "metadata": {},
   "source": [
    "## Country"
   ]
  },
  {
   "cell_type": "code",
   "execution_count": 8,
   "metadata": {},
   "outputs": [],
   "source": [
    "ratio = lambda x: 100*round(x.value_counts()['successful'] / (x.value_counts()['successful'] + x.value_counts()['failed'] + x.value_counts()['canceled']), 4)"
   ]
  },
  {
   "cell_type": "code",
   "execution_count": 9,
   "metadata": {},
   "outputs": [
    {
     "data": {
      "text/html": [
       "<div>\n",
       "<style scoped>\n",
       "    .dataframe tbody tr th:only-of-type {\n",
       "        vertical-align: middle;\n",
       "    }\n",
       "\n",
       "    .dataframe tbody tr th {\n",
       "        vertical-align: top;\n",
       "    }\n",
       "\n",
       "    .dataframe thead th {\n",
       "        text-align: right;\n",
       "    }\n",
       "</style>\n",
       "<table border=\"1\" class=\"dataframe\">\n",
       "  <thead>\n",
       "    <tr style=\"text-align: right;\">\n",
       "      <th></th>\n",
       "      <th>success_ratio</th>\n",
       "    </tr>\n",
       "    <tr>\n",
       "      <th>country</th>\n",
       "      <th></th>\n",
       "    </tr>\n",
       "  </thead>\n",
       "  <tbody>\n",
       "    <tr>\n",
       "      <th>HK</th>\n",
       "      <td>76.70</td>\n",
       "    </tr>\n",
       "    <tr>\n",
       "      <th>JP</th>\n",
       "      <td>73.19</td>\n",
       "    </tr>\n",
       "    <tr>\n",
       "      <th>LU</th>\n",
       "      <td>66.07</td>\n",
       "    </tr>\n",
       "    <tr>\n",
       "      <th>SG</th>\n",
       "      <td>64.20</td>\n",
       "    </tr>\n",
       "    <tr>\n",
       "      <th>GB</th>\n",
       "      <td>62.69</td>\n",
       "    </tr>\n",
       "    <tr>\n",
       "      <th>US</th>\n",
       "      <td>59.49</td>\n",
       "    </tr>\n",
       "    <tr>\n",
       "      <th>DK</th>\n",
       "      <td>57.76</td>\n",
       "    </tr>\n",
       "    <tr>\n",
       "      <th>NZ</th>\n",
       "      <td>55.53</td>\n",
       "    </tr>\n",
       "    <tr>\n",
       "      <th>CA</th>\n",
       "      <td>55.10</td>\n",
       "    </tr>\n",
       "    <tr>\n",
       "      <th>FR</th>\n",
       "      <td>54.22</td>\n",
       "    </tr>\n",
       "    <tr>\n",
       "      <th>SE</th>\n",
       "      <td>54.06</td>\n",
       "    </tr>\n",
       "    <tr>\n",
       "      <th>AU</th>\n",
       "      <td>50.09</td>\n",
       "    </tr>\n",
       "    <tr>\n",
       "      <th>IE</th>\n",
       "      <td>50.00</td>\n",
       "    </tr>\n",
       "    <tr>\n",
       "      <th>NO</th>\n",
       "      <td>47.95</td>\n",
       "    </tr>\n",
       "    <tr>\n",
       "      <th>MX</th>\n",
       "      <td>47.71</td>\n",
       "    </tr>\n",
       "    <tr>\n",
       "      <th>CH</th>\n",
       "      <td>46.79</td>\n",
       "    </tr>\n",
       "    <tr>\n",
       "      <th>DE</th>\n",
       "      <td>46.67</td>\n",
       "    </tr>\n",
       "    <tr>\n",
       "      <th>ES</th>\n",
       "      <td>45.45</td>\n",
       "    </tr>\n",
       "    <tr>\n",
       "      <th>BE</th>\n",
       "      <td>43.59</td>\n",
       "    </tr>\n",
       "    <tr>\n",
       "      <th>NL</th>\n",
       "      <td>42.88</td>\n",
       "    </tr>\n",
       "    <tr>\n",
       "      <th>AT</th>\n",
       "      <td>42.77</td>\n",
       "    </tr>\n",
       "    <tr>\n",
       "      <th>IT</th>\n",
       "      <td>33.64</td>\n",
       "    </tr>\n",
       "  </tbody>\n",
       "</table>\n",
       "</div>"
      ],
      "text/plain": [
       "         success_ratio\n",
       "country               \n",
       "HK               76.70\n",
       "JP               73.19\n",
       "LU               66.07\n",
       "SG               64.20\n",
       "GB               62.69\n",
       "US               59.49\n",
       "DK               57.76\n",
       "NZ               55.53\n",
       "CA               55.10\n",
       "FR               54.22\n",
       "SE               54.06\n",
       "AU               50.09\n",
       "IE               50.00\n",
       "NO               47.95\n",
       "MX               47.71\n",
       "CH               46.79\n",
       "DE               46.67\n",
       "ES               45.45\n",
       "BE               43.59\n",
       "NL               42.88\n",
       "AT               42.77\n",
       "IT               33.64"
      ]
     },
     "execution_count": 9,
     "metadata": {},
     "output_type": "execute_result"
    }
   ],
   "source": [
    "success_per_country = pd.pivot_table(df, index='country', values='state', aggfunc=ratio).rename(columns={'state':'success_ratio'}).sort_values(by='success_ratio', ascending=False)\n",
    "success_per_country"
   ]
  },
  {
   "cell_type": "code",
   "execution_count": 10,
   "metadata": {},
   "outputs": [
    {
     "data": {
      "text/plain": [
       "<AxesSubplot:xlabel='success_ratio', ylabel='country'>"
      ]
     },
     "execution_count": 10,
     "metadata": {},
     "output_type": "execute_result"
    },
    {
     "data": {
      "image/png": "[encoded data removed]",
      "text/plain": [
       "<Figure size 432x288 with 1 Axes>"
      ]
     },
     "metadata": {
      "needs_background": "light"
     },
     "output_type": "display_data"
    }
   ],
   "source": [
    "from matplotlib.pyplot import xcorr\n",
    "sns.barplot(data=success_per_country.reset_index(), y='country', x='success_ratio')"
   ]
  },
  {
   "cell_type": "markdown",
   "metadata": {},
   "source": [
    "## Category"
   ]
  },
  {
   "cell_type": "code",
   "execution_count": 11,
   "metadata": {},
   "outputs": [
    {
     "name": "stdout",
     "output_type": "stream",
     "text": [
      "{\"id\":43,\"name\":\"Rock\",\"slug\":\"music/rock\",\"position\":17,\"parent_id\":14,\"color\":10878931,\"urls\":{\"web\":{\"discover\":\"http://www.kickstarter.com/discover/categories/music/rock\"}}}\n",
      "{\"id\":52,\"name\":\"Hardware\",\"slug\":\"technology/hardware\",\"position\":8,\"parent_id\":16,\"color\":6526716,\"urls\":{\"web\":{\"discover\":\"http://www.kickstarter.com/discover/categories/technology/hardware\"}}}\n",
      "{\"id\":22,\"name\":\"Illustration\",\"slug\":\"art/illustration\",\"position\":4,\"parent_id\":1,\"color\":16760235,\"urls\":{\"web\":{\"discover\":\"http://www.kickstarter.com/discover/categories/art/illustration\"}}}\n",
      "{\"id\":262,\"name\":\"Accessories\",\"slug\":\"fashion/accessories\",\"position\":1,\"parent_id\":9,\"color\":16752598,\"urls\":{\"web\":{\"discover\":\"http://www.kickstarter.com/discover/categories/fashion/accessories\"}}}\n"
     ]
    }
   ],
   "source": [
    "print(df.category[0])\n",
    "print(df.category[1000])\n",
    "print(df.category[20000])\n",
    "print(df.category[200000])"
   ]
  },
  {
   "cell_type": "markdown",
   "metadata": {},
   "source": [
    "## Amounts: converted_pledged_amount, exchange rate"
   ]
  },
  {
   "cell_type": "code",
   "execution_count": 12,
   "metadata": {},
   "outputs": [
    {
     "data": {
      "text/plain": [
       "count    2.092220e+05\n",
       "mean    -8.551623e+01\n",
       "std      1.270609e+04\n",
       "min     -1.771501e+06\n",
       "25%      0.000000e+00\n",
       "50%      0.000000e+00\n",
       "75%      0.000000e+00\n",
       "max      9.330207e+05\n",
       "dtype: float64"
      ]
     },
     "execution_count": 12,
     "metadata": {},
     "output_type": "execute_result"
    }
   ],
   "source": [
    "currency_delta = df['converted_pledged_amount'].astype(float) - df['usd_pledged'] * df['static_usd_rate']\n",
    "currency_delta.describe()"
   ]
  },
  {
   "cell_type": "code",
   "execution_count": 13,
   "metadata": {},
   "outputs": [
    {
     "data": {
      "text/html": [
       "<div>\n",
       "<style scoped>\n",
       "    .dataframe tbody tr th:only-of-type {\n",
       "        vertical-align: middle;\n",
       "    }\n",
       "\n",
       "    .dataframe tbody tr th {\n",
       "        vertical-align: top;\n",
       "    }\n",
       "\n",
       "    .dataframe thead th {\n",
       "        text-align: right;\n",
       "    }\n",
       "</style>\n",
       "<table border=\"1\" class=\"dataframe\">\n",
       "  <thead>\n",
       "    <tr style=\"text-align: right;\">\n",
       "      <th></th>\n",
       "      <th>country</th>\n",
       "      <th>converted_pledged_amount</th>\n",
       "      <th>currency</th>\n",
       "      <th>currency_symbol</th>\n",
       "      <th>fx_rate</th>\n",
       "      <th>usd_pledged</th>\n",
       "      <th>usd_type</th>\n",
       "    </tr>\n",
       "  </thead>\n",
       "  <tbody>\n",
       "    <tr>\n",
       "      <th>56</th>\n",
       "      <td>SG</td>\n",
       "      <td>19699</td>\n",
       "      <td>SGD</td>\n",
       "      <td>$</td>\n",
       "      <td>0.737115</td>\n",
       "      <td>19338.586040</td>\n",
       "      <td>international</td>\n",
       "    </tr>\n",
       "    <tr>\n",
       "      <th>83</th>\n",
       "      <td>NO</td>\n",
       "      <td>2182</td>\n",
       "      <td>NOK</td>\n",
       "      <td>kr</td>\n",
       "      <td>0.115720</td>\n",
       "      <td>2088.859902</td>\n",
       "      <td>domestic</td>\n",
       "    </tr>\n",
       "  </tbody>\n",
       "</table>\n",
       "</div>"
      ],
      "text/plain": [
       "   country  converted_pledged_amount currency currency_symbol   fx_rate  \\\n",
       "56      SG                     19699      SGD               $  0.737115   \n",
       "83      NO                      2182      NOK              kr  0.115720   \n",
       "\n",
       "     usd_pledged       usd_type  \n",
       "56  19338.586040  international  \n",
       "83   2088.859902       domestic  "
      ]
     },
     "execution_count": 13,
     "metadata": {},
     "output_type": "execute_result"
    }
   ],
   "source": [
    "currency_cols = ['country', 'converted_pledged_amount', 'currency', 'currency_symbol', 'fx_rate', 'usd_pledged', 'usd_type']\n",
    "df[currency_delta > 900][currency_cols].head(2)"
   ]
  },
  {
   "cell_type": "code",
   "execution_count": 14,
   "metadata": {},
   "outputs": [
    {
     "data": {
      "text/plain": [
       "0          True\n",
       "1          True\n",
       "2          True\n",
       "3         False\n",
       "4          True\n",
       "          ...  \n",
       "209217     True\n",
       "209218     True\n",
       "209219     True\n",
       "209220     True\n",
       "209221    False\n",
       "Name: currency_trailing_code, Length: 209222, dtype: bool"
      ]
     },
     "execution_count": 14,
     "metadata": {},
     "output_type": "execute_result"
    }
   ],
   "source": [
    "df.currency_trailing_code"
   ]
  },
  {
   "cell_type": "markdown",
   "metadata": {},
   "source": [
    "## Creator"
   ]
  },
  {
   "cell_type": "code",
   "execution_count": 15,
   "metadata": {},
   "outputs": [
    {
     "name": "stdout",
     "output_type": "stream",
     "text": [
      "{\"id\":1196856269,\"name\":\"MelissaThomas\",\"is_registered\":null,\"chosen_currency\":null,\"avatar\":{\"thumb\":\"https://ksr-ugc.imgix.net/assets/014/275/164/5a43d683fe375d78f111a3b975b1776d_original.jpg?ixlib=rb-1.1.0&w=40&h=40&fit=crop&v=1477513389&auto=format&frame=1&q=92&s=dc9207376e0c0d43f32031d8e9a281cf\",\"small\":\"https://ksr-ugc.imgix.net/assets/014/275/164/5a43d683fe375d78f111a3b975b1776d_original.jpg?ixlib=rb-1.1.0&w=160&h=160&fit=crop&v=1477513389&auto=format&frame=1&q=92&s=fcbeca6ca421aa49cd0ab3467666026d\",\"medium\":\"https://ksr-ugc.imgix.net/assets/014/275/164/5a43d683fe375d78f111a3b975b1776d_original.jpg?ixlib=rb-1.1.0&w=160&h=160&fit=crop&v=1477513389&auto=format&frame=1&q=92&s=fcbeca6ca421aa49cd0ab3467666026d\"},\"urls\":{\"web\":{\"user\":\"https://www.kickstarter.com/profile/1196856269\"},\"api\":{\"user\":\"https://api.kickstarter.com/v1/users/1196856269?signature=1552621253.9f2e97a20efddf347cd2610cc3c200244cc8525f\"}}}\n",
      "{\"id\":1258230290,\"name\":\"Shinz Productions\",\"is_registered\":null,\"chosen_currency\":null,\"avatar\":{\"thumb\":\"https://ksr-ugc.imgix.net/assets/020/784/460/0fa681ea8422910745c07a99b912a1cb_original.jpg?ixlib=rb-1.1.0&w=40&h=40&fit=crop&v=1522910697&auto=format&frame=1&q=92&s=6a26371aca9f82d2c4f648a8c00d3d02\",\"small\":\"https://ksr-ugc.imgix.net/assets/020/784/460/0fa681ea8422910745c07a99b912a1cb_original.jpg?ixlib=rb-1.1.0&w=160&h=160&fit=crop&v=1522910697&auto=format&frame=1&q=92&s=fa0914cf6f1b1145f86ec6b119f07bbe\",\"medium\":\"https://ksr-ugc.imgix.net/assets/020/784/460/0fa681ea8422910745c07a99b912a1cb_original.jpg?ixlib=rb-1.1.0&w=160&h=160&fit=crop&v=1522910697&auto=format&frame=1&q=92&s=fa0914cf6f1b1145f86ec6b119f07bbe\"},\"urls\":{\"web\":{\"user\":\"https://www.kickstarter.com/profile/1258230290\"},\"api\":{\"user\":\"https://api.kickstarter.com/v1/users/1258230290?signature=1552624216.a8c27e5a6615a7855f8ebb6ec8e6b64958dd9b60\"}}}\n",
      "{\"id\":330388878,\"name\":\"Emanuelle Heikens\",\"is_registered\":null,\"chosen_currency\":null,\"avatar\":{\"thumb\":\"https://ksr-ugc.imgix.net/assets/017/719/019/81e6f37c6af5650201dfbe76a9f76c38_original.jpg?ixlib=rb-1.1.0&w=40&h=40&fit=crop&v=1501465005&auto=format&frame=1&q=92&s=07a48061e914671d5c51b96b23d7f71e\",\"small\":\"https://ksr-ugc.imgix.net/assets/017/719/019/81e6f37c6af5650201dfbe76a9f76c38_original.jpg?ixlib=rb-1.1.0&w=160&h=160&fit=crop&v=1501465005&auto=format&frame=1&q=92&s=a6ba38f65bf66da936dba2054f46e087\",\"medium\":\"https://ksr-ugc.imgix.net/assets/017/719/019/81e6f37c6af5650201dfbe76a9f76c38_original.jpg?ixlib=rb-1.1.0&w=160&h=160&fit=crop&v=1501465005&auto=format&frame=1&q=92&s=a6ba38f65bf66da936dba2054f46e087\"},\"urls\":{\"web\":{\"user\":\"https://www.kickstarter.com/profile/330388878\"},\"api\":{\"user\":\"https://api.kickstarter.com/v1/users/330388878?signature=1552623827.c7648955d07fbac55c5b5ff8f733f6b6eafa055b\"}}}\n"
     ]
    }
   ],
   "source": [
    "print(df.creator[2])\n",
    "print(df.creator[2000])\n",
    "print(df.creator[200000])"
   ]
  },
  {
   "cell_type": "markdown",
   "metadata": {},
   "source": [
    "## JSON objects"
   ]
  },
  {
   "cell_type": "code",
   "execution_count": 16,
   "metadata": {},
   "outputs": [
    {
     "data": {
      "text/plain": [
       "Index(['blurb', 'category', 'country', 'creator', 'currency',\n",
       "       'currency_symbol', 'current_currency', 'friends', 'is_backing',\n",
       "       'is_starred', 'location', 'name', 'permissions', 'photo', 'profile',\n",
       "       'slug', 'source_url', 'state', 'urls', 'usd_type'],\n",
       "      dtype='object')"
      ]
     },
     "execution_count": 16,
     "metadata": {},
     "output_type": "execute_result"
    }
   ],
   "source": [
    "cols_object = df.select_dtypes(include='object').columns\n",
    "cols_object"
   ]
  },
  {
   "cell_type": "code",
   "execution_count": 17,
   "metadata": {},
   "outputs": [],
   "source": [
    "cols_json= [x for x in cols_object if any(df[x].astype(str).str.contains('{\\\"'))]"
   ]
  },
  {
   "cell_type": "code",
   "execution_count": 18,
   "metadata": {},
   "outputs": [
    {
     "data": {
      "text/html": [
       "<div>\n",
       "<style scoped>\n",
       "    .dataframe tbody tr th:only-of-type {\n",
       "        vertical-align: middle;\n",
       "    }\n",
       "\n",
       "    .dataframe tbody tr th {\n",
       "        vertical-align: top;\n",
       "    }\n",
       "\n",
       "    .dataframe thead th {\n",
       "        text-align: right;\n",
       "    }\n",
       "</style>\n",
       "<table border=\"1\" class=\"dataframe\">\n",
       "  <thead>\n",
       "    <tr style=\"text-align: right;\">\n",
       "      <th></th>\n",
       "      <th>category</th>\n",
       "      <th>creator</th>\n",
       "      <th>location</th>\n",
       "      <th>photo</th>\n",
       "      <th>profile</th>\n",
       "      <th>urls</th>\n",
       "    </tr>\n",
       "  </thead>\n",
       "  <tbody>\n",
       "    <tr>\n",
       "      <th>0</th>\n",
       "      <td>{\"id\":43,\"name\":\"Rock\",\"slug\":\"music/rock\",\"po...</td>\n",
       "      <td>{\"id\":1495925645,\"name\":\"Daniel\",\"is_registere...</td>\n",
       "      <td>{\"id\":2379574,\"name\":\"Chicago\",\"slug\":\"chicago...</td>\n",
       "      <td>{\"key\":\"assets/011/625/534/5bea1760d7f20943c4c...</td>\n",
       "      <td>{\"id\":822687,\"project_id\":822687,\"state\":\"inac...</td>\n",
       "      <td>{\"web\":{\"project\":\"https://www.kickstarter.com...</td>\n",
       "    </tr>\n",
       "    <tr>\n",
       "      <th>1</th>\n",
       "      <td>{\"id\":54,\"name\":\"Mixed Media\",\"slug\":\"art/mixe...</td>\n",
       "      <td>{\"id\":1175589980,\"name\":\"Katherine\",\"slug\":\"fr...</td>\n",
       "      <td>{\"id\":2486340,\"name\":\"Sacramento\",\"slug\":\"sacr...</td>\n",
       "      <td>{\"key\":\"assets/024/033/030/dea4e3901d10195b035...</td>\n",
       "      <td>{\"id\":3665299,\"project_id\":3665299,\"state\":\"in...</td>\n",
       "      <td>{\"web\":{\"project\":\"https://www.kickstarter.com...</td>\n",
       "    </tr>\n",
       "  </tbody>\n",
       "</table>\n",
       "</div>"
      ],
      "text/plain": [
       "                                            category  \\\n",
       "0  {\"id\":43,\"name\":\"Rock\",\"slug\":\"music/rock\",\"po...   \n",
       "1  {\"id\":54,\"name\":\"Mixed Media\",\"slug\":\"art/mixe...   \n",
       "\n",
       "                                             creator  \\\n",
       "0  {\"id\":1495925645,\"name\":\"Daniel\",\"is_registere...   \n",
       "1  {\"id\":1175589980,\"name\":\"Katherine\",\"slug\":\"fr...   \n",
       "\n",
       "                                            location  \\\n",
       "0  {\"id\":2379574,\"name\":\"Chicago\",\"slug\":\"chicago...   \n",
       "1  {\"id\":2486340,\"name\":\"Sacramento\",\"slug\":\"sacr...   \n",
       "\n",
       "                                               photo  \\\n",
       "0  {\"key\":\"assets/011/625/534/5bea1760d7f20943c4c...   \n",
       "1  {\"key\":\"assets/024/033/030/dea4e3901d10195b035...   \n",
       "\n",
       "                                             profile  \\\n",
       "0  {\"id\":822687,\"project_id\":822687,\"state\":\"inac...   \n",
       "1  {\"id\":3665299,\"project_id\":3665299,\"state\":\"in...   \n",
       "\n",
       "                                                urls  \n",
       "0  {\"web\":{\"project\":\"https://www.kickstarter.com...  \n",
       "1  {\"web\":{\"project\":\"https://www.kickstarter.com...  "
      ]
     },
     "execution_count": 18,
     "metadata": {},
     "output_type": "execute_result"
    }
   ],
   "source": [
    "df[cols_json].head(2)"
   ]
  },
  {
   "cell_type": "code",
   "execution_count": 19,
   "metadata": {},
   "outputs": [
    {
     "name": "stdout",
     "output_type": "stream",
     "text": [
      "category\n",
      "0\n",
      "\n",
      "creator\n",
      "579\n",
      "\n",
      "location\n",
      "805\n",
      "\n",
      "photo\n",
      "805\n",
      "\n",
      "profile\n",
      "4695\n",
      "\n",
      "urls\n",
      "4695\n",
      "\n"
     ]
    }
   ],
   "source": [
    "problem_lst = []\n",
    "for col in cols_json:\n",
    "    print(col)\n",
    "    for i, val in df[col].items():\n",
    "        try:\n",
    "            test = json.loads(val)\n",
    "        except:\n",
    "            problem_lst.append((col, i, val))\n",
    "    print(len(problem_lst))\n",
    "    print()"
   ]
  },
  {
   "cell_type": "code",
   "execution_count": 20,
   "metadata": {},
   "outputs": [
    {
     "name": "stdout",
     "output_type": "stream",
     "text": [
      "category\n",
      "creator\n",
      "location\n",
      "photo\n",
      "profile\n",
      "urls\n"
     ]
    }
   ],
   "source": [
    "df_dicts = pd.DataFrame()\n",
    "for col in cols_json:\n",
    "    print(col)\n",
    "    c = []\n",
    "    for i, val in df[col].items():\n",
    "        try:\n",
    "            c.append(json.loads(val))\n",
    "        except:\n",
    "            c.append(np.NaN)\n",
    "    df_dicts[col] = pd.Series(np.array(c))"
   ]
  },
  {
   "cell_type": "code",
   "execution_count": 21,
   "metadata": {},
   "outputs": [
    {
     "name": "stdout",
     "output_type": "stream",
     "text": [
      "<class 'pandas.core.frame.DataFrame'>\n",
      "RangeIndex: 209222 entries, 0 to 209221\n",
      "Data columns (total 6 columns):\n",
      " #   Column    Non-Null Count   Dtype \n",
      "---  ------    --------------   ----- \n",
      " 0   category  209222 non-null  object\n",
      " 1   creator   208643 non-null  object\n",
      " 2   location  208996 non-null  object\n",
      " 3   photo     209222 non-null  object\n",
      " 4   profile   205332 non-null  object\n",
      " 5   urls      209222 non-null  object\n",
      "dtypes: object(6)\n",
      "memory usage: 9.6+ MB\n"
     ]
    }
   ],
   "source": [
    "df_dicts.info()"
   ]
  },
  {
   "cell_type": "code",
   "execution_count": 22,
   "metadata": {},
   "outputs": [],
   "source": [
    "df_expanded = df_dicts['creator'].apply(pd.Series).add_prefix('creator_')"
   ]
  },
  {
   "cell_type": "code",
   "execution_count": 23,
   "metadata": {},
   "outputs": [
    {
     "data": {
      "text/html": [
       "<div>\n",
       "<style scoped>\n",
       "    .dataframe tbody tr th:only-of-type {\n",
       "        vertical-align: middle;\n",
       "    }\n",
       "\n",
       "    .dataframe tbody tr th {\n",
       "        vertical-align: top;\n",
       "    }\n",
       "\n",
       "    .dataframe thead th {\n",
       "        text-align: right;\n",
       "    }\n",
       "</style>\n",
       "<table border=\"1\" class=\"dataframe\">\n",
       "  <thead>\n",
       "    <tr style=\"text-align: right;\">\n",
       "      <th></th>\n",
       "      <th>creator_0</th>\n",
       "      <th>creator_avatar</th>\n",
       "      <th>creator_chosen_currency</th>\n",
       "      <th>creator_id</th>\n",
       "      <th>creator_is_registered</th>\n",
       "      <th>creator_name</th>\n",
       "      <th>creator_slug</th>\n",
       "      <th>creator_urls</th>\n",
       "    </tr>\n",
       "  </thead>\n",
       "  <tbody>\n",
       "    <tr>\n",
       "      <th>0</th>\n",
       "      <td>NaN</td>\n",
       "      <td>{'thumb': 'https://ksr-ugc.imgix.net/assets/00...</td>\n",
       "      <td>NaN</td>\n",
       "      <td>1.495926e+09</td>\n",
       "      <td>NaN</td>\n",
       "      <td>Daniel</td>\n",
       "      <td>NaN</td>\n",
       "      <td>{'web': {'user': 'https://www.kickstarter.com/...</td>\n",
       "    </tr>\n",
       "    <tr>\n",
       "      <th>1</th>\n",
       "      <td>NaN</td>\n",
       "      <td>{'thumb': 'https://ksr-ugc.imgix.net/assets/02...</td>\n",
       "      <td>NaN</td>\n",
       "      <td>1.175590e+09</td>\n",
       "      <td>NaN</td>\n",
       "      <td>Katherine</td>\n",
       "      <td>freckleddisney</td>\n",
       "      <td>{'web': {'user': 'https://www.kickstarter.com/...</td>\n",
       "    </tr>\n",
       "    <tr>\n",
       "      <th>2</th>\n",
       "      <td>NaN</td>\n",
       "      <td>{'thumb': 'https://ksr-ugc.imgix.net/assets/01...</td>\n",
       "      <td>NaN</td>\n",
       "      <td>1.196856e+09</td>\n",
       "      <td>NaN</td>\n",
       "      <td>MelissaThomas</td>\n",
       "      <td>NaN</td>\n",
       "      <td>{'web': {'user': 'https://www.kickstarter.com/...</td>\n",
       "    </tr>\n",
       "    <tr>\n",
       "      <th>3</th>\n",
       "      <td>NaN</td>\n",
       "      <td>{'thumb': 'https://ksr-ugc.imgix.net/assets/02...</td>\n",
       "      <td>NaN</td>\n",
       "      <td>1.569701e+09</td>\n",
       "      <td>NaN</td>\n",
       "      <td>WAO</td>\n",
       "      <td>wearewao</td>\n",
       "      <td>{'web': {'user': 'https://www.kickstarter.com/...</td>\n",
       "    </tr>\n",
       "    <tr>\n",
       "      <th>4</th>\n",
       "      <td>NaN</td>\n",
       "      <td>{'thumb': 'https://ksr-ugc.imgix.net/assets/00...</td>\n",
       "      <td>NaN</td>\n",
       "      <td>1.870845e+09</td>\n",
       "      <td>NaN</td>\n",
       "      <td>Kalpit Jain</td>\n",
       "      <td>NaN</td>\n",
       "      <td>{'web': {'user': 'https://www.kickstarter.com/...</td>\n",
       "    </tr>\n",
       "  </tbody>\n",
       "</table>\n",
       "</div>"
      ],
      "text/plain": [
       "   creator_0                                     creator_avatar  \\\n",
       "0        NaN  {'thumb': 'https://ksr-ugc.imgix.net/assets/00...   \n",
       "1        NaN  {'thumb': 'https://ksr-ugc.imgix.net/assets/02...   \n",
       "2        NaN  {'thumb': 'https://ksr-ugc.imgix.net/assets/01...   \n",
       "3        NaN  {'thumb': 'https://ksr-ugc.imgix.net/assets/02...   \n",
       "4        NaN  {'thumb': 'https://ksr-ugc.imgix.net/assets/00...   \n",
       "\n",
       "   creator_chosen_currency    creator_id  creator_is_registered  \\\n",
       "0                      NaN  1.495926e+09                    NaN   \n",
       "1                      NaN  1.175590e+09                    NaN   \n",
       "2                      NaN  1.196856e+09                    NaN   \n",
       "3                      NaN  1.569701e+09                    NaN   \n",
       "4                      NaN  1.870845e+09                    NaN   \n",
       "\n",
       "    creator_name    creator_slug  \\\n",
       "0         Daniel             NaN   \n",
       "1      Katherine  freckleddisney   \n",
       "2  MelissaThomas             NaN   \n",
       "3            WAO        wearewao   \n",
       "4    Kalpit Jain             NaN   \n",
       "\n",
       "                                        creator_urls  \n",
       "0  {'web': {'user': 'https://www.kickstarter.com/...  \n",
       "1  {'web': {'user': 'https://www.kickstarter.com/...  \n",
       "2  {'web': {'user': 'https://www.kickstarter.com/...  \n",
       "3  {'web': {'user': 'https://www.kickstarter.com/...  \n",
       "4  {'web': {'user': 'https://www.kickstarter.com/...  "
      ]
     },
     "execution_count": 23,
     "metadata": {},
     "output_type": "execute_result"
    }
   ],
   "source": [
    "df_expanded.head()"
   ]
  },
  {
   "cell_type": "code",
   "execution_count": 24,
   "metadata": {},
   "outputs": [],
   "source": [
    "def get_json_cols(data):\n",
    "    cols_object = df.select_dtypes(include='object').columns\n",
    "    return [x for x in cols_object if any(data[x].astype(str).str.contains('{\\\"'))]"
   ]
  },
  {
   "cell_type": "code",
   "execution_count": 25,
   "metadata": {},
   "outputs": [],
   "source": [
    "def create_dicts_from_json(data, cols_json):\n",
    "    data_dicts = pd.DataFrame()\n",
    "    for col in cols_json:\n",
    "        print('Parsing json in: '+col)\n",
    "        c = []\n",
    "        for i, val in data[col].items():\n",
    "            try:\n",
    "                c.append(json.loads(val))\n",
    "            except:\n",
    "                c.append(dict())\n",
    "        data_dicts[col] = pd.Series(np.array(c))\n",
    "    return data_dicts"
   ]
  },
  {
   "cell_type": "code",
   "execution_count": 26,
   "metadata": {},
   "outputs": [],
   "source": [
    "def create_cols_from_dicts(data_dicts):\n",
    "    data_expanded = []\n",
    "    for col in data_dicts.columns:\n",
    "        print('Expanding: '+col)\n",
    "        data_expanded.append(pd.json_normalize(data_dicts[col]).add_prefix(col+'_'))\n",
    "    return pd.concat(data_expanded, axis=1)"
   ]
  },
  {
   "cell_type": "code",
   "execution_count": 27,
   "metadata": {},
   "outputs": [],
   "source": [
    "def save_dataframe(data):\n",
    "    t = datetime.now().strftime(\"%Y-%m-%d_%H%M%S\")\n",
    "    e = f\"./data_frame_{t}.pickle\"\n",
    "    print('Saving: '+e)\n",
    "    data.to_pickle(e)"
   ]
  },
  {
   "cell_type": "code",
   "execution_count": 28,
   "metadata": {},
   "outputs": [],
   "source": [
    "def expand_json(data, save=True):\n",
    "    #from datetime import datetime\n",
    "    cols_json = get_json_cols(data)\n",
    "    print('---------- Parsing json ------------')\n",
    "    data_dicts = create_dicts_from_json(data, cols_json)\n",
    "    print('---------- Expanding dictionaries --------')\n",
    "    data_expanded = create_cols_from_dicts(data_dicts)\n",
    "    print('---------- Merge to final data frame ------')\n",
    "    data_merged = pd.concat([data.drop(cols_json, axis=1), data_expanded], axis=1)\n",
    "    if save:\n",
    "        print('---------- Saving to pickle ------')\n",
    "        save_dataframe(data_merged)\n",
    "    return data_merged"
   ]
  },
  {
   "cell_type": "code",
   "execution_count": 29,
   "metadata": {},
   "outputs": [
    {
     "name": "stdout",
     "output_type": "stream",
     "text": [
      "---------- Parsing json ------------\n",
      "Parsing json in: category\n",
      "Parsing json in: creator\n",
      "Parsing json in: location\n",
      "Parsing json in: photo\n",
      "Parsing json in: profile\n",
      "Parsing json in: urls\n",
      "---------- Expanding dictionaries --------\n",
      "Expanding: category\n",
      "Expanding: creator\n",
      "Expanding: location\n",
      "Expanding: photo\n",
      "Expanding: profile\n",
      "Expanding: urls\n",
      "---------- Merge to final data frame ------\n",
      "---------- Saving to pickle ------\n",
      "Saving: ./data_frame_2021-03-11_180750.pickle\n"
     ]
    }
   ],
   "source": [
    "df_new = expand_json(df)"
   ]
  },
  {
   "cell_type": "code",
   "execution_count": 30,
   "metadata": {},
   "outputs": [
    {
     "name": "stdout",
     "output_type": "stream",
     "text": [
      "<class 'pandas.core.frame.DataFrame'>\n",
      "RangeIndex: 209222 entries, 0 to 209221\n",
      "Data columns (total 96 columns):\n",
      " #   Column                                                        Non-Null Count   Dtype  \n",
      "---  ------                                                        --------------   -----  \n",
      " 0   backers_count                                                 209222 non-null  int64  \n",
      " 1   blurb                                                         209214 non-null  object \n",
      " 2   converted_pledged_amount                                      209222 non-null  int64  \n",
      " 3   country                                                       209222 non-null  object \n",
      " 4   created_at                                                    209222 non-null  int64  \n",
      " 5   currency                                                      209222 non-null  object \n",
      " 6   currency_symbol                                               209222 non-null  object \n",
      " 7   currency_trailing_code                                        209222 non-null  bool   \n",
      " 8   current_currency                                              209222 non-null  object \n",
      " 9   deadline                                                      209222 non-null  int64  \n",
      " 10  disable_communication                                         209222 non-null  bool   \n",
      " 11  friends                                                       300 non-null     object \n",
      " 12  fx_rate                                                       209222 non-null  float64\n",
      " 13  goal                                                          209222 non-null  float64\n",
      " 14  id                                                            209222 non-null  int64  \n",
      " 15  is_backing                                                    300 non-null     object \n",
      " 16  is_starrable                                                  209222 non-null  bool   \n",
      " 17  is_starred                                                    300 non-null     object \n",
      " 18  launched_at                                                   209222 non-null  int64  \n",
      " 19  name                                                          209222 non-null  object \n",
      " 20  permissions                                                   300 non-null     object \n",
      " 21  pledged                                                       209222 non-null  float64\n",
      " 22  slug                                                          209222 non-null  object \n",
      " 23  source_url                                                    209222 non-null  object \n",
      " 24  spotlight                                                     209222 non-null  bool   \n",
      " 25  staff_pick                                                    209222 non-null  bool   \n",
      " 26  state                                                         209222 non-null  object \n",
      " 27  state_changed_at                                              209222 non-null  int64  \n",
      " 28  static_usd_rate                                               209222 non-null  float64\n",
      " 29  usd_pledged                                                   209222 non-null  float64\n",
      " 30  usd_type                                                      208742 non-null  object \n",
      " 31  category_id                                                   209222 non-null  int64  \n",
      " 32  category_name                                                 209222 non-null  object \n",
      " 33  category_slug                                                 209222 non-null  object \n",
      " 34  category_position                                             209222 non-null  int64  \n",
      " 35  category_parent_id                                            200181 non-null  float64\n",
      " 36  category_color                                                209222 non-null  int64  \n",
      " 37  category_urls.web.discover                                    209222 non-null  object \n",
      " 38  creator_id                                                    208643 non-null  float64\n",
      " 39  creator_name                                                  208643 non-null  object \n",
      " 40  creator_is_registered                                         0 non-null       float64\n",
      " 41  creator_chosen_currency                                       0 non-null       float64\n",
      " 42  creator_avatar.thumb                                          208643 non-null  object \n",
      " 43  creator_avatar.small                                          208643 non-null  object \n",
      " 44  creator_avatar.medium                                         208643 non-null  object \n",
      " 45  creator_urls.web.user                                         208643 non-null  object \n",
      " 46  creator_urls.api.user                                         208643 non-null  object \n",
      " 47  creator_slug                                                  64023 non-null   object \n",
      " 48  location_id                                                   208996 non-null  float64\n",
      " 49  location_name                                                 208996 non-null  object \n",
      " 50  location_slug                                                 208499 non-null  object \n",
      " 51  location_short_name                                           208996 non-null  object \n",
      " 52  location_displayable_name                                     208996 non-null  object \n",
      " 53  location_localized_name                                       208996 non-null  object \n",
      " 54  location_country                                              208996 non-null  object \n",
      " 55  location_state                                                208933 non-null  object \n",
      " 56  location_type                                                 208996 non-null  object \n",
      " 57  location_is_root                                              208996 non-null  object \n",
      " 58  location_urls.web.discover                                    208996 non-null  object \n",
      " 59  location_urls.web.location                                    208996 non-null  object \n",
      " 60  location_urls.api.nearby_projects                             208996 non-null  object \n",
      " 61  photo_key                                                     209219 non-null  object \n",
      " 62  photo_full                                                    209222 non-null  object \n",
      " 63  photo_ed                                                      209222 non-null  object \n",
      " 64  photo_med                                                     209222 non-null  object \n",
      " 65  photo_little                                                  209222 non-null  object \n",
      " 66  photo_small                                                   209222 non-null  object \n",
      " 67  photo_thumb                                                   209222 non-null  object \n",
      " 68  photo_1024x576                                                209222 non-null  object \n",
      " 69  photo_1536x864                                                209222 non-null  object \n",
      " 70  profile_id                                                    205332 non-null  float64\n",
      " 71  profile_project_id                                            205332 non-null  float64\n",
      " 72  profile_state                                                 205332 non-null  object \n",
      " 73  profile_state_changed_at                                      205332 non-null  float64\n",
      " 74  profile_name                                                  33511 non-null   object \n",
      " 75  profile_blurb                                                 33511 non-null   object \n",
      " 76  profile_background_color                                      33511 non-null   object \n",
      " 77  profile_text_color                                            33511 non-null   object \n",
      " 78  profile_link_background_color                                 33511 non-null   object \n",
      " 79  profile_link_text_color                                       33511 non-null   object \n",
      " 80  profile_link_text                                             33511 non-null   object \n",
      " 81  profile_link_url                                              33511 non-null   object \n",
      " 82  profile_show_feature_image                                    205332 non-null  object \n",
      " 83  profile_background_image_opacity                              205332 non-null  float64\n",
      " 84  profile_should_show_feature_image_section                     205332 non-null  object \n",
      " 85  profile_feature_image_attributes.image_urls.default           205332 non-null  object \n",
      " 86  profile_feature_image_attributes.image_urls.baseball_card     205332 non-null  object \n",
      " 87  profile_feature_image_attributes.id                           6283 non-null    float64\n",
      " 88  profile_background_image_attributes.id                        6752 non-null    float64\n",
      " 89  profile_background_image_attributes.image_urls.default        6752 non-null    object \n",
      " 90  profile_background_image_attributes.image_urls.baseball_card  6752 non-null    object \n",
      " 91  urls_web.project                                              209222 non-null  object \n",
      " 92  urls_web.rewards                                              209222 non-null  object \n",
      " 93  urls_api.star                                                 300 non-null     object \n",
      " 94  urls_api.message_creator                                      300 non-null     object \n",
      " 95  urls_web.message_creator                                      300 non-null     object \n",
      "dtypes: bool(5), float64(16), int64(10), object(65)\n",
      "memory usage: 146.3+ MB\n"
     ]
    }
   ],
   "source": [
    "df_new.info()"
   ]
  },
  {
   "cell_type": "code",
   "execution_count": 31,
   "metadata": {},
   "outputs": [],
   "source": [
    "df_new['duration'] = (df_new.deadline-df_new.launched_at)/(3600*24)\n",
    "df_new['duration'] = df_new['duration'].round(2)"
   ]
  },
  {
   "cell_type": "code",
   "execution_count": 32,
   "metadata": {},
   "outputs": [],
   "source": [
    "df_new['goal_usd'] = df_new['goal'] * df_new['static_usd_rate']\n",
    "df_new['goal_usd'] = df_new['goal_usd'].round(2)"
   ]
  },
  {
   "cell_type": "code",
   "execution_count": 33,
   "metadata": {},
   "outputs": [
    {
     "data": {
      "text/plain": [
       "0    45.00\n",
       "1    20.00\n",
       "2    30.04\n",
       "3    41.96\n",
       "4    30.00\n",
       "Name: duration, dtype: float64"
      ]
     },
     "execution_count": 33,
     "metadata": {},
     "output_type": "execute_result"
    }
   ],
   "source": [
    "df_new['duration'].head()"
   ]
  },
  {
   "cell_type": "code",
   "execution_count": 34,
   "metadata": {},
   "outputs": [
    {
     "data": {
      "text/plain": [
       "60060"
      ]
     },
     "execution_count": 34,
     "metadata": {},
     "output_type": "execute_result"
    }
   ],
   "source": [
    "df_new['goal_usd'].argmax()"
   ]
  },
  {
   "cell_type": "code",
   "execution_count": 35,
   "metadata": {},
   "outputs": [
    {
     "data": {
      "text/plain": [
       "'https://www.kickstarter.com/projects/245190432/a-celtic-lovestory?ref=discovery_category_newest'"
      ]
     },
     "execution_count": 35,
     "metadata": {},
     "output_type": "execute_result"
    }
   ],
   "source": [
    "df_new.iloc[60060,:]['urls_web.project']"
   ]
  },
  {
   "cell_type": "code",
   "execution_count": 36,
   "metadata": {},
   "outputs": [
    {
     "name": "stdout",
     "output_type": "stream",
     "text": [
      "backers_count\n",
      "0\n",
      "\n",
      "blurb\n",
      "A 2000 year old \"Romeo & Juliet\" love story, set amidst the dramatic changes that ripped through Celtic Britain when Rome invaded...\n",
      "\n",
      "converted_pledged_amount\n",
      "0\n",
      "\n",
      "country\n",
      "GB\n",
      "\n",
      "created_at\n",
      "1446156106\n",
      "\n",
      "currency\n",
      "GBP\n",
      "\n",
      "currency_symbol\n",
      "£\n",
      "\n",
      "currency_trailing_code\n",
      "False\n",
      "\n",
      "current_currency\n",
      "USD\n",
      "\n",
      "deadline\n",
      "1448920860\n",
      "\n",
      "disable_communication\n",
      "False\n",
      "\n",
      "friends\n",
      "nan\n",
      "\n",
      "fx_rate\n",
      "1.32567974\n",
      "\n",
      "goal\n",
      "100000000.0\n",
      "\n",
      "id\n",
      "2000749004\n",
      "\n",
      "is_backing\n",
      "nan\n",
      "\n",
      "is_starrable\n",
      "False\n",
      "\n",
      "is_starred\n",
      "nan\n",
      "\n",
      "launched_at\n",
      "1447717635\n",
      "\n",
      "name\n",
      "A Celtic Lovestory\n",
      "\n",
      "permissions\n",
      "nan\n",
      "\n",
      "pledged\n",
      "0.0\n",
      "\n",
      "slug\n",
      "a-celtic-lovestory\n",
      "\n",
      "source_url\n",
      "https://www.kickstarter.com/discover/categories/film%20&%20video/drama\n",
      "\n",
      "spotlight\n",
      "False\n",
      "\n",
      "staff_pick\n",
      "False\n",
      "\n",
      "state\n",
      "failed\n",
      "\n",
      "state_changed_at\n",
      "1448920860\n",
      "\n",
      "static_usd_rate\n",
      "1.52350076\n",
      "\n",
      "usd_pledged\n",
      "0.0\n",
      "\n",
      "usd_type\n",
      "international\n",
      "\n",
      "category_id\n",
      "293\n",
      "\n",
      "category_name\n",
      "Drama\n",
      "\n",
      "category_slug\n",
      "film & video/drama\n",
      "\n",
      "category_position\n",
      "5\n",
      "\n",
      "category_parent_id\n",
      "11.0\n",
      "\n",
      "category_color\n",
      "16734574\n",
      "\n",
      "category_urls.web.discover\n",
      "http://www.kickstarter.com/discover/categories/film%20&%20video/drama\n",
      "\n",
      "creator_id\n",
      "245190432.0\n",
      "\n",
      "creator_name\n",
      "Joe\n",
      "\n",
      "creator_is_registered\n",
      "nan\n",
      "\n",
      "creator_chosen_currency\n",
      "nan\n",
      "\n",
      "creator_avatar.thumb\n",
      "https://ksr-ugc.imgix.net/assets/010/481/306/9733fb6a6177ef4faa65946ad3302a6d_original.jpg?ixlib=rb-1.1.0&w=40&h=40&fit=crop&v=1461692894&auto=format&frame=1&q=92&s=61a81d9559537fb2d696b7102ec2c025\n",
      "\n",
      "creator_avatar.small\n",
      "https://ksr-ugc.imgix.net/assets/010/481/306/9733fb6a6177ef4faa65946ad3302a6d_original.jpg?ixlib=rb-1.1.0&w=160&h=160&fit=crop&v=1461692894&auto=format&frame=1&q=92&s=fa5146102a51ade66f935c2610d9e72e\n",
      "\n",
      "creator_avatar.medium\n",
      "https://ksr-ugc.imgix.net/assets/010/481/306/9733fb6a6177ef4faa65946ad3302a6d_original.jpg?ixlib=rb-1.1.0&w=160&h=160&fit=crop&v=1461692894&auto=format&frame=1&q=92&s=fa5146102a51ade66f935c2610d9e72e\n",
      "\n",
      "creator_urls.web.user\n",
      "https://www.kickstarter.com/profile/245190432\n",
      "\n",
      "creator_urls.api.user\n",
      "https://api.kickstarter.com/v1/users/245190432?signature=1552626448.97002a0cb9be03937af10296ed1dfb71d089871b\n",
      "\n",
      "creator_slug\n",
      "nan\n",
      "\n",
      "location_id\n",
      "12602183.0\n",
      "\n",
      "location_name\n",
      "Dorset\n",
      "\n",
      "location_slug\n",
      "dorset-gb\n",
      "\n",
      "location_short_name\n",
      "Dorset, UK\n",
      "\n",
      "location_displayable_name\n",
      "Dorset, UK\n",
      "\n",
      "location_localized_name\n",
      "Dorset\n",
      "\n",
      "location_country\n",
      "GB\n",
      "\n",
      "location_state\n",
      "England\n",
      "\n",
      "location_type\n",
      "County\n",
      "\n",
      "location_is_root\n",
      "False\n",
      "\n",
      "location_urls.web.discover\n",
      "https://www.kickstarter.com/discover/places/dorset-gb\n",
      "\n",
      "location_urls.web.location\n",
      "https://www.kickstarter.com/locations/dorset-gb\n",
      "\n",
      "location_urls.api.nearby_projects\n",
      "https://api.kickstarter.com/v1/discover?signature=1552595100.1ab9a0b5c5cc2990ff1725d40c249c6a4f7c7183&woe_id=12602183\n",
      "\n",
      "photo_key\n",
      "assets/012/292/886/67f8879c113e174e1f41465297cdd035_original.jpg\n",
      "\n",
      "photo_full\n",
      "https://ksr-ugc.imgix.net/assets/012/292/886/67f8879c113e174e1f41465297cdd035_original.jpg?ixlib=rb-1.1.0&crop=faces&w=560&h=315&fit=crop&v=1463752126&auto=format&frame=1&q=92&s=887913b68ff9d4cf50b61cadaa78b533\n",
      "\n",
      "photo_ed\n",
      "https://ksr-ugc.imgix.net/assets/012/292/886/67f8879c113e174e1f41465297cdd035_original.jpg?ixlib=rb-1.1.0&crop=faces&w=352&h=198&fit=crop&v=1463752126&auto=format&frame=1&q=92&s=de2553e2d761e5821f69e8612f6e34c1\n",
      "\n",
      "photo_med\n",
      "https://ksr-ugc.imgix.net/assets/012/292/886/67f8879c113e174e1f41465297cdd035_original.jpg?ixlib=rb-1.1.0&crop=faces&w=272&h=153&fit=crop&v=1463752126&auto=format&frame=1&q=92&s=179d8c5c8b07a3fbde1ab91af3e86f3e\n",
      "\n",
      "photo_little\n",
      "https://ksr-ugc.imgix.net/assets/012/292/886/67f8879c113e174e1f41465297cdd035_original.jpg?ixlib=rb-1.1.0&crop=faces&w=208&h=117&fit=crop&v=1463752126&auto=format&frame=1&q=92&s=d58c78c611c7170c868370239bff1be7\n",
      "\n",
      "photo_small\n",
      "https://ksr-ugc.imgix.net/assets/012/292/886/67f8879c113e174e1f41465297cdd035_original.jpg?ixlib=rb-1.1.0&crop=faces&w=160&h=90&fit=crop&v=1463752126&auto=format&frame=1&q=92&s=79e71e2f5121e8ef9f3d55426c096162\n",
      "\n",
      "photo_thumb\n",
      "https://ksr-ugc.imgix.net/assets/012/292/886/67f8879c113e174e1f41465297cdd035_original.jpg?ixlib=rb-1.1.0&crop=faces&w=48&h=27&fit=crop&v=1463752126&auto=format&frame=1&q=92&s=3b40a12276fa0a42225843dabe32d346\n",
      "\n",
      "photo_1024x576\n",
      "https://ksr-ugc.imgix.net/assets/012/292/886/67f8879c113e174e1f41465297cdd035_original.jpg?ixlib=rb-1.1.0&crop=faces&w=1024&h=576&fit=crop&v=1463752126&auto=format&frame=1&q=92&s=f1091f054763b7193bcc9e2af8eb4456\n",
      "\n",
      "photo_1536x864\n",
      "https://ksr-ugc.imgix.net/assets/012/292/886/67f8879c113e174e1f41465297cdd035_original.jpg?ixlib=rb-1.1.0&crop=faces&w=1552&h=873&fit=crop&v=1463752126&auto=format&frame=1&q=92&s=553901c84b45565ff468ccbc284bbad9\n",
      "\n",
      "profile_id\n",
      "2200338.0\n",
      "\n",
      "profile_project_id\n",
      "2200338.0\n",
      "\n",
      "profile_state\n",
      "inactive\n",
      "\n",
      "profile_state_changed_at\n",
      "1446156106.0\n",
      "\n",
      "profile_name\n",
      "None\n",
      "\n",
      "profile_blurb\n",
      "None\n",
      "\n",
      "profile_background_color\n",
      "None\n",
      "\n",
      "profile_text_color\n",
      "None\n",
      "\n",
      "profile_link_background_color\n",
      "None\n",
      "\n",
      "profile_link_text_color\n",
      "None\n",
      "\n",
      "profile_link_text\n",
      "None\n",
      "\n",
      "profile_link_url\n",
      "None\n",
      "\n",
      "profile_show_feature_image\n",
      "False\n",
      "\n",
      "profile_background_image_opacity\n",
      "0.8\n",
      "\n",
      "profile_should_show_feature_image_section\n",
      "True\n",
      "\n",
      "profile_feature_image_attributes.image_urls.default\n",
      "https://ksr-ugc.imgix.net/assets/012/292/886/67f8879c113e174e1f41465297cdd035_original.jpg?ixlib=rb-1.1.0&crop=faces&w=1552&h=873&fit=crop&v=1463752126&auto=format&frame=1&q=92&s=553901c84b45565ff468ccbc284bbad9\n",
      "\n",
      "profile_feature_image_attributes.image_urls.baseball_card\n",
      "https://ksr-ugc.imgix.net/assets/012/292/886/67f8879c113e174e1f41465297cdd035_original.jpg?ixlib=rb-1.1.0&crop=faces&w=560&h=315&fit=crop&v=1463752126&auto=format&frame=1&q=92&s=887913b68ff9d4cf50b61cadaa78b533\n",
      "\n",
      "profile_feature_image_attributes.id\n",
      "nan\n",
      "\n",
      "profile_background_image_attributes.id\n",
      "nan\n",
      "\n",
      "profile_background_image_attributes.image_urls.default\n",
      "nan\n",
      "\n",
      "profile_background_image_attributes.image_urls.baseball_card\n",
      "nan\n",
      "\n",
      "urls_web.project\n",
      "https://www.kickstarter.com/projects/245190432/a-celtic-lovestory?ref=discovery_category_newest\n",
      "\n",
      "urls_web.rewards\n",
      "https://www.kickstarter.com/projects/245190432/a-celtic-lovestory/rewards\n",
      "\n",
      "urls_api.star\n",
      "nan\n",
      "\n",
      "urls_api.message_creator\n",
      "nan\n",
      "\n",
      "urls_web.message_creator\n",
      "nan\n",
      "\n",
      "duration\n",
      "13.93\n",
      "\n",
      "goal_usd\n",
      "152350076.0\n",
      "\n"
     ]
    }
   ],
   "source": [
    "for i , val in df_new.iloc[60060,:].items():\n",
    "    print(i)\n",
    "    print(val)\n",
    "    print()"
   ]
  },
  {
   "cell_type": "code",
   "execution_count": 37,
   "metadata": {},
   "outputs": [
    {
     "data": {
      "text/plain": [
       "array(['Town', 'Suburb', 'County', 'LocalAdmin', 'Estate', 'Zip',\n",
       "       'Country', nan, 'Island', 'Miscellaneous'], dtype=object)"
      ]
     },
     "execution_count": 37,
     "metadata": {},
     "output_type": "execute_result"
    }
   ],
   "source": [
    "df_new['location_type'].unique()"
   ]
  },
  {
   "cell_type": "code",
   "execution_count": 38,
   "metadata": {},
   "outputs": [],
   "source": [
    "df_new['launched_at_full'] = pd.to_datetime(df_new['launched_at'], unit='s')\n",
    "df_new['launched_at_year'] = pd.DatetimeIndex(df_new['launched_at_full']).year\n",
    "df_new['launched_at_month'] = pd.DatetimeIndex(df_new['launched_at_full']).month"
   ]
  },
  {
   "cell_type": "code",
   "execution_count": 39,
   "metadata": {},
   "outputs": [
    {
     "data": {
      "text/plain": [
       "['backers_count',\n",
       " 'blurb',\n",
       " 'converted_pledged_amount',\n",
       " 'country',\n",
       " 'created_at',\n",
       " 'currency',\n",
       " 'currency_symbol',\n",
       " 'currency_trailing_code',\n",
       " 'current_currency',\n",
       " 'deadline',\n",
       " 'disable_communication',\n",
       " 'friends',\n",
       " 'fx_rate',\n",
       " 'goal',\n",
       " 'id',\n",
       " 'is_backing',\n",
       " 'is_starrable',\n",
       " 'is_starred',\n",
       " 'launched_at',\n",
       " 'name',\n",
       " 'permissions',\n",
       " 'pledged',\n",
       " 'slug',\n",
       " 'source_url',\n",
       " 'spotlight',\n",
       " 'staff_pick',\n",
       " 'state',\n",
       " 'state_changed_at',\n",
       " 'static_usd_rate',\n",
       " 'usd_pledged',\n",
       " 'usd_type',\n",
       " 'category_id',\n",
       " 'category_name',\n",
       " 'category_slug',\n",
       " 'category_position',\n",
       " 'category_parent_id',\n",
       " 'category_color',\n",
       " 'category_urls.web.discover',\n",
       " 'creator_id',\n",
       " 'creator_name',\n",
       " 'creator_is_registered',\n",
       " 'creator_chosen_currency',\n",
       " 'creator_avatar.thumb',\n",
       " 'creator_avatar.small',\n",
       " 'creator_avatar.medium',\n",
       " 'creator_urls.web.user',\n",
       " 'creator_urls.api.user',\n",
       " 'creator_slug',\n",
       " 'location_id',\n",
       " 'location_name',\n",
       " 'location_slug',\n",
       " 'location_short_name',\n",
       " 'location_displayable_name',\n",
       " 'location_localized_name',\n",
       " 'location_country',\n",
       " 'location_state',\n",
       " 'location_type',\n",
       " 'location_is_root',\n",
       " 'location_urls.web.discover',\n",
       " 'location_urls.web.location',\n",
       " 'location_urls.api.nearby_projects',\n",
       " 'photo_key',\n",
       " 'photo_full',\n",
       " 'photo_ed',\n",
       " 'photo_med',\n",
       " 'photo_little',\n",
       " 'photo_small',\n",
       " 'photo_thumb',\n",
       " 'photo_1024x576',\n",
       " 'photo_1536x864',\n",
       " 'profile_id',\n",
       " 'profile_project_id',\n",
       " 'profile_state',\n",
       " 'profile_state_changed_at',\n",
       " 'profile_name',\n",
       " 'profile_blurb',\n",
       " 'profile_background_color',\n",
       " 'profile_text_color',\n",
       " 'profile_link_background_color',\n",
       " 'profile_link_text_color',\n",
       " 'profile_link_text',\n",
       " 'profile_link_url',\n",
       " 'profile_show_feature_image',\n",
       " 'profile_background_image_opacity',\n",
       " 'profile_should_show_feature_image_section',\n",
       " 'profile_feature_image_attributes.image_urls.default',\n",
       " 'profile_feature_image_attributes.image_urls.baseball_card',\n",
       " 'profile_feature_image_attributes.id',\n",
       " 'profile_background_image_attributes.id',\n",
       " 'profile_background_image_attributes.image_urls.default',\n",
       " 'profile_background_image_attributes.image_urls.baseball_card',\n",
       " 'urls_web.project',\n",
       " 'urls_web.rewards',\n",
       " 'urls_api.star',\n",
       " 'urls_api.message_creator',\n",
       " 'urls_web.message_creator',\n",
       " 'duration',\n",
       " 'goal_usd',\n",
       " 'launched_at_full',\n",
       " 'launched_at_year',\n",
       " 'launched_at_month']"
      ]
     },
     "execution_count": 39,
     "metadata": {},
     "output_type": "execute_result"
    }
   ],
   "source": [
    "test = list(df_new.columns)\n",
    "test"
   ]
  },
  {
   "cell_type": "code",
   "execution_count": 40,
   "metadata": {},
   "outputs": [],
   "source": [
    "survival_lst = ['blurb', 'country', 'created_at', 'currency', 'deadline','disable_communication', 'goal', 'launched_at','name', 'staff_pick','state', 'usd_pledged','usd_type','category_id','category_name','category_slug','category_parent_id', 'location_id', 'location_name','location_type', 'photo_key', 'photo_full', 'duration', 'goal_usd', 'launched_at_full', 'launched_at_year', 'launched_at_month']"
   ]
  },
  {
   "cell_type": "code",
   "execution_count": 41,
   "metadata": {},
   "outputs": [],
   "source": [
    "df_eda = df_new[survival_lst]"
   ]
  },
  {
   "cell_type": "code",
   "execution_count": 42,
   "metadata": {},
   "outputs": [
    {
     "data": {
      "text/html": [
       "<div>\n",
       "<style scoped>\n",
       "    .dataframe tbody tr th:only-of-type {\n",
       "        vertical-align: middle;\n",
       "    }\n",
       "\n",
       "    .dataframe tbody tr th {\n",
       "        vertical-align: top;\n",
       "    }\n",
       "\n",
       "    .dataframe thead th {\n",
       "        text-align: right;\n",
       "    }\n",
       "</style>\n",
       "<table border=\"1\" class=\"dataframe\">\n",
       "  <thead>\n",
       "    <tr style=\"text-align: right;\">\n",
       "      <th></th>\n",
       "      <th>blurb</th>\n",
       "      <th>country</th>\n",
       "      <th>created_at</th>\n",
       "      <th>currency</th>\n",
       "      <th>deadline</th>\n",
       "      <th>disable_communication</th>\n",
       "      <th>goal</th>\n",
       "      <th>launched_at</th>\n",
       "      <th>name</th>\n",
       "      <th>staff_pick</th>\n",
       "      <th>...</th>\n",
       "      <th>location_id</th>\n",
       "      <th>location_name</th>\n",
       "      <th>location_type</th>\n",
       "      <th>photo_key</th>\n",
       "      <th>photo_full</th>\n",
       "      <th>duration</th>\n",
       "      <th>goal_usd</th>\n",
       "      <th>launched_at_full</th>\n",
       "      <th>launched_at_year</th>\n",
       "      <th>launched_at_month</th>\n",
       "    </tr>\n",
       "  </thead>\n",
       "  <tbody>\n",
       "    <tr>\n",
       "      <th>0</th>\n",
       "      <td>2006 was almost 7 years ago.... Can you believ...</td>\n",
       "      <td>US</td>\n",
       "      <td>1387659690</td>\n",
       "      <td>USD</td>\n",
       "      <td>1391899046</td>\n",
       "      <td>False</td>\n",
       "      <td>200.0</td>\n",
       "      <td>1388011046</td>\n",
       "      <td>New Final Round Album</td>\n",
       "      <td>False</td>\n",
       "      <td>...</td>\n",
       "      <td>2379574.0</td>\n",
       "      <td>Chicago</td>\n",
       "      <td>Town</td>\n",
       "      <td>assets/011/625/534/5bea1760d7f20943c4cd5e9b491...</td>\n",
       "      <td>https://ksr-ugc.imgix.net/assets/011/625/534/5...</td>\n",
       "      <td>45.00</td>\n",
       "      <td>200.0</td>\n",
       "      <td>2013-12-25 22:37:26</td>\n",
       "      <td>2013</td>\n",
       "      <td>12</td>\n",
       "    </tr>\n",
       "    <tr>\n",
       "      <th>1</th>\n",
       "      <td>An adorable fantasy enamel pin series of princ...</td>\n",
       "      <td>US</td>\n",
       "      <td>1549659768</td>\n",
       "      <td>USD</td>\n",
       "      <td>1551801611</td>\n",
       "      <td>False</td>\n",
       "      <td>400.0</td>\n",
       "      <td>1550073611</td>\n",
       "      <td>Princess Pals Enamel Pin Series</td>\n",
       "      <td>False</td>\n",
       "      <td>...</td>\n",
       "      <td>2486340.0</td>\n",
       "      <td>Sacramento</td>\n",
       "      <td>Town</td>\n",
       "      <td>assets/024/033/030/dea4e3901d10195b035875eb8cf...</td>\n",
       "      <td>https://ksr-ugc.imgix.net/assets/024/033/030/d...</td>\n",
       "      <td>20.00</td>\n",
       "      <td>400.0</td>\n",
       "      <td>2019-02-13 16:00:11</td>\n",
       "      <td>2019</td>\n",
       "      <td>2</td>\n",
       "    </tr>\n",
       "    <tr>\n",
       "      <th>2</th>\n",
       "      <td>Helping a community come together to set the s...</td>\n",
       "      <td>US</td>\n",
       "      <td>1477242384</td>\n",
       "      <td>USD</td>\n",
       "      <td>1480607930</td>\n",
       "      <td>False</td>\n",
       "      <td>27224.0</td>\n",
       "      <td>1478012330</td>\n",
       "      <td>Their Life Through Their Lens-the Amish and Me...</td>\n",
       "      <td>True</td>\n",
       "      <td>...</td>\n",
       "      <td>2383660.0</td>\n",
       "      <td>Columbus</td>\n",
       "      <td>Town</td>\n",
       "      <td>assets/014/262/672/97944960ba30239051d3b6e59f2...</td>\n",
       "      <td>https://ksr-ugc.imgix.net/assets/014/262/672/9...</td>\n",
       "      <td>30.04</td>\n",
       "      <td>27224.0</td>\n",
       "      <td>2016-11-01 14:58:50</td>\n",
       "      <td>2016</td>\n",
       "      <td>11</td>\n",
       "    </tr>\n",
       "    <tr>\n",
       "      <th>3</th>\n",
       "      <td>Every revolution starts from the bottom and we...</td>\n",
       "      <td>IT</td>\n",
       "      <td>1540369920</td>\n",
       "      <td>EUR</td>\n",
       "      <td>1544309940</td>\n",
       "      <td>False</td>\n",
       "      <td>40000.0</td>\n",
       "      <td>1540684582</td>\n",
       "      <td>WAO: THE ECO EFFECT SHOES</td>\n",
       "      <td>False</td>\n",
       "      <td>...</td>\n",
       "      <td>725746.0</td>\n",
       "      <td>Venice</td>\n",
       "      <td>Town</td>\n",
       "      <td>assets/023/008/626/aef53e2f326ad4c87729001f643...</td>\n",
       "      <td>https://ksr-ugc.imgix.net/assets/023/008/626/a...</td>\n",
       "      <td>41.96</td>\n",
       "      <td>45461.0</td>\n",
       "      <td>2018-10-27 23:56:22</td>\n",
       "      <td>2018</td>\n",
       "      <td>10</td>\n",
       "    </tr>\n",
       "    <tr>\n",
       "      <th>4</th>\n",
       "      <td>Learn to build 10+ Applications in this comple...</td>\n",
       "      <td>US</td>\n",
       "      <td>1425706517</td>\n",
       "      <td>USD</td>\n",
       "      <td>1428511017</td>\n",
       "      <td>False</td>\n",
       "      <td>1000.0</td>\n",
       "      <td>1425919017</td>\n",
       "      <td>Apple Watch Development Course</td>\n",
       "      <td>False</td>\n",
       "      <td>...</td>\n",
       "      <td>2479651.0</td>\n",
       "      <td>Redmond</td>\n",
       "      <td>Town</td>\n",
       "      <td>assets/012/061/410/1687a735d5b1316ca4761b087ca...</td>\n",
       "      <td>https://ksr-ugc.imgix.net/assets/012/061/410/1...</td>\n",
       "      <td>30.00</td>\n",
       "      <td>1000.0</td>\n",
       "      <td>2015-03-09 16:36:57</td>\n",
       "      <td>2015</td>\n",
       "      <td>3</td>\n",
       "    </tr>\n",
       "  </tbody>\n",
       "</table>\n",
       "<p>5 rows × 27 columns</p>\n",
       "</div>"
      ],
      "text/plain": [
       "                                               blurb country  created_at  \\\n",
       "0  2006 was almost 7 years ago.... Can you believ...      US  1387659690   \n",
       "1  An adorable fantasy enamel pin series of princ...      US  1549659768   \n",
       "2  Helping a community come together to set the s...      US  1477242384   \n",
       "3  Every revolution starts from the bottom and we...      IT  1540369920   \n",
       "4  Learn to build 10+ Applications in this comple...      US  1425706517   \n",
       "\n",
       "  currency    deadline  disable_communication     goal  launched_at  \\\n",
       "0      USD  1391899046                  False    200.0   1388011046   \n",
       "1      USD  1551801611                  False    400.0   1550073611   \n",
       "2      USD  1480607930                  False  27224.0   1478012330   \n",
       "3      EUR  1544309940                  False  40000.0   1540684582   \n",
       "4      USD  1428511017                  False   1000.0   1425919017   \n",
       "\n",
       "                                                name  staff_pick  ...  \\\n",
       "0                              New Final Round Album       False  ...   \n",
       "1                    Princess Pals Enamel Pin Series       False  ...   \n",
       "2  Their Life Through Their Lens-the Amish and Me...        True  ...   \n",
       "3                          WAO: THE ECO EFFECT SHOES       False  ...   \n",
       "4                     Apple Watch Development Course       False  ...   \n",
       "\n",
       "  location_id  location_name location_type  \\\n",
       "0   2379574.0        Chicago          Town   \n",
       "1   2486340.0     Sacramento          Town   \n",
       "2   2383660.0       Columbus          Town   \n",
       "3    725746.0         Venice          Town   \n",
       "4   2479651.0        Redmond          Town   \n",
       "\n",
       "                                           photo_key  \\\n",
       "0  assets/011/625/534/5bea1760d7f20943c4cd5e9b491...   \n",
       "1  assets/024/033/030/dea4e3901d10195b035875eb8cf...   \n",
       "2  assets/014/262/672/97944960ba30239051d3b6e59f2...   \n",
       "3  assets/023/008/626/aef53e2f326ad4c87729001f643...   \n",
       "4  assets/012/061/410/1687a735d5b1316ca4761b087ca...   \n",
       "\n",
       "                                          photo_full duration  goal_usd  \\\n",
       "0  https://ksr-ugc.imgix.net/assets/011/625/534/5...    45.00     200.0   \n",
       "1  https://ksr-ugc.imgix.net/assets/024/033/030/d...    20.00     400.0   \n",
       "2  https://ksr-ugc.imgix.net/assets/014/262/672/9...    30.04   27224.0   \n",
       "3  https://ksr-ugc.imgix.net/assets/023/008/626/a...    41.96   45461.0   \n",
       "4  https://ksr-ugc.imgix.net/assets/012/061/410/1...    30.00    1000.0   \n",
       "\n",
       "     launched_at_full launched_at_year launched_at_month  \n",
       "0 2013-12-25 22:37:26             2013                12  \n",
       "1 2019-02-13 16:00:11             2019                 2  \n",
       "2 2016-11-01 14:58:50             2016                11  \n",
       "3 2018-10-27 23:56:22             2018                10  \n",
       "4 2015-03-09 16:36:57             2015                 3  \n",
       "\n",
       "[5 rows x 27 columns]"
      ]
     },
     "execution_count": 42,
     "metadata": {},
     "output_type": "execute_result"
    }
   ],
   "source": [
    "df_eda.head()"
   ]
  },
  {
   "cell_type": "code",
   "execution_count": 43,
   "metadata": {},
   "outputs": [
    {
     "name": "stdout",
     "output_type": "stream",
     "text": [
      "<class 'pandas.core.frame.DataFrame'>\n",
      "RangeIndex: 209222 entries, 0 to 209221\n",
      "Data columns (total 27 columns):\n",
      " #   Column                 Non-Null Count   Dtype         \n",
      "---  ------                 --------------   -----         \n",
      " 0   blurb                  209214 non-null  object        \n",
      " 1   country                209222 non-null  object        \n",
      " 2   created_at             209222 non-null  int64         \n",
      " 3   currency               209222 non-null  object        \n",
      " 4   deadline               209222 non-null  int64         \n",
      " 5   disable_communication  209222 non-null  bool          \n",
      " 6   goal                   209222 non-null  float64       \n",
      " 7   launched_at            209222 non-null  int64         \n",
      " 8   name                   209222 non-null  object        \n",
      " 9   staff_pick             209222 non-null  bool          \n",
      " 10  state                  209222 non-null  object        \n",
      " 11  usd_pledged            209222 non-null  float64       \n",
      " 12  usd_type               208742 non-null  object        \n",
      " 13  category_id            209222 non-null  int64         \n",
      " 14  category_name          209222 non-null  object        \n",
      " 15  category_slug          209222 non-null  object        \n",
      " 16  category_parent_id     200181 non-null  float64       \n",
      " 17  location_id            208996 non-null  float64       \n",
      " 18  location_name          208996 non-null  object        \n",
      " 19  location_type          208996 non-null  object        \n",
      " 20  photo_key              209219 non-null  object        \n",
      " 21  photo_full             209222 non-null  object        \n",
      " 22  duration               209222 non-null  float64       \n",
      " 23  goal_usd               209222 non-null  float64       \n",
      " 24  launched_at_full       209222 non-null  datetime64[ns]\n",
      " 25  launched_at_year       209222 non-null  int64         \n",
      " 26  launched_at_month      209222 non-null  int64         \n",
      "dtypes: bool(2), datetime64[ns](1), float64(6), int64(6), object(12)\n",
      "memory usage: 40.3+ MB\n"
     ]
    }
   ],
   "source": [
    "df_eda.info()"
   ]
  },
  {
   "cell_type": "code",
   "execution_count": null,
   "metadata": {},
   "outputs": [],
   "source": []
  },
  {
   "cell_type": "code",
   "execution_count": null,
   "metadata": {},
   "outputs": [],
   "source": []
  },
  {
   "cell_type": "code",
   "execution_count": null,
   "metadata": {},
   "outputs": [],
   "source": [
    "# Change dimension of the plot\n",
    "# fig, ax = plt.subplots(figsize=(10, 5))"
   ]
  },
  {
   "cell_type": "code",
   "execution_count": 66,
   "metadata": {},
   "outputs": [],
   "source": [
    "df_eda.dropna(inplace=True)\n",
    "# missing = pd.DataFrame(df_eda.isnull().sum(),columns=['Number'])\n",
    "# missing[missing.Number!=0]"
   ]
  },
  {
   "cell_type": "code",
   "execution_count": 79,
   "metadata": {},
   "outputs": [],
   "source": [
    "#Remove projects that are live, canceled or suspended\n",
    "#df = df[df.state==(\"successful\" or \"failed\")]\n",
    "df_eda = df_eda[df_eda.state!='canceled']\n",
    "df_eda = df_eda[df_eda.state!='suspended']\n",
    "df_eda = df_eda[df_eda.state!='live']"
   ]
  },
  {
   "cell_type": "code",
   "execution_count": 80,
   "metadata": {},
   "outputs": [],
   "source": [
    "# Calculates length of Blurb entry as has has no Blurb occurs only 2 times\n",
    "# df_eda['blurbLength'] = df_eda.blurb.str.len()\n",
    "df_eda['blurb_len'] = [elm.split(\" \") for elm in df_eda.blurb]\n",
    "df_eda['blurb_len'] = [len(i) for i in df_eda['blurb_len']]"
   ]
  },
  {
   "cell_type": "code",
   "execution_count": 104,
   "metadata": {},
   "outputs": [
    {
     "data": {
      "text/plain": [
       "<bound method IndexOpsMixin.nunique of 0         2006 was almost 7 years ago.... Can you believ...\n",
       "1         An adorable fantasy enamel pin series of princ...\n",
       "2         Helping a community come together to set the s...\n",
       "3         Every revolution starts from the bottom and we...\n",
       "4         Learn to build 10+ Applications in this comple...\n",
       "                                ...                        \n",
       "209217    Steam Hollow is a Veteran owned Craft Brewery ...\n",
       "209218    Over 250 healthy recipes free from ANY added S...\n",
       "209219    Give your baby style and flair with \"Gorgeous ...\n",
       "209220    \"The Lion & the Lyceum\" is a children's book a...\n",
       "209221    Award-winning aviation artist Philip E West's ...\n",
       "Name: blurb, Length: 184152, dtype: object>"
      ]
     },
     "execution_count": 104,
     "metadata": {},
     "output_type": "execute_result"
    }
   ],
   "source": [
    "df_eda['blurb'].nunique\n",
    "\n",
    "#  Future Work: Analyse the words inside 'blurb'"
   ]
  },
  {
   "cell_type": "code",
   "execution_count": null,
   "metadata": {},
   "outputs": [],
   "source": []
  },
  {
   "cell_type": "code",
   "execution_count": 140,
   "metadata": {},
   "outputs": [
    {
     "data": {
      "text/plain": [
       "[('A beautiful natural Fine art nude book exemplifying the female form presented by female producer Nina Vain.',\n",
       "  28),\n",
       " ('The Decentralized Dance Party was founded on the belief that Partying is an art form that has the power to change the world.',\n",
       "  17),\n",
       " (\"Award Winning Footwear Designs | Crafted Using Italian Leathers with Bold and Comfortable Features | London Navy Men's Luxury Footwear\",\n",
       "  13),\n",
       " ('ALL-NEW SEXY BADGIRL characters from comic book INDIE legend Everette Hartsoe. Be the 1st to see the 2018 line up of new SKETCHES',\n",
       "  12),\n",
       " ('Mind, Body, Spirit Fitness hands-on seminar for people in high stress jobs, labor intensive jobs, seniors, and students: workout incl.',\n",
       "  10),\n",
       " ('Beautiful girls – models, shows their nude photos Militancy and tender, erotic and at the same time inaccessible ...',\n",
       "  10),\n",
       " ('A deck of Stellar Playing Cards — Vanda Artists Series designed by Srdjan Vidakovic.',\n",
       "  9),\n",
       " ('A motion sensor and light activated, rechargeable battery powered, adjustable light miniature for night bathroom trips, cabinets, etc.',\n",
       "  9),\n",
       " ('ALL-NEW SEXY BADGIRL characters from comic book INDIE legend Everette Hartsoe. Be the 1st to see the 2017 line up of new SKETCHES',\n",
       "  9),\n",
       " ('Twenty current events crosswords that will be sent out over the course of a year. Many puzzle answers will be taken from current news.',\n",
       "  9)]"
      ]
     },
     "execution_count": 140,
     "metadata": {},
     "output_type": "execute_result"
    }
   ],
   "source": [
    "from collections import Counter\n",
    "\n",
    "#test = df_eda[\"blurb\"].str.split()\n",
    "test = df_eda[\"blurb\"]\n",
    "\n",
    "#Counter(test).most_common(10)\n",
    "Counter(test).most_common(10)\n"
   ]
  },
  {
   "cell_type": "code",
   "execution_count": 157,
   "metadata": {},
   "outputs": [],
   "source": [
    "# df_eda['blurb'].str.get_dummies(sep=' ').sum(10)"
   ]
  },
  {
   "cell_type": "code",
   "execution_count": 81,
   "metadata": {},
   "outputs": [
    {
     "data": {
      "image/png": "[encoded data removed]",
      "text/plain": [
       "<Figure size 1440x720 with 1 Axes>"
      ]
     },
     "metadata": {},
     "output_type": "display_data"
    }
   ],
   "source": [
    "ax = sns.countplot(x=\"blurb_len\", data=df_eda)"
   ]
  },
  {
   "cell_type": "code",
   "execution_count": 82,
   "metadata": {},
   "outputs": [
    {
     "data": {
      "image/png": "[encoded data removed]",
      "text/plain": [
       "<Figure size 576x432 with 1 Axes>"
      ]
     },
     "metadata": {},
     "output_type": "display_data"
    }
   ],
   "source": [
    "#Boxplot of blurb_length by success\n",
    "plt.figure(figsize=(8,6))\n",
    "sns.boxplot(x='state', y='blurb_len', data=df_eda)\n",
    "plt.title('blurb_len by state');"
   ]
  },
  {
   "cell_type": "code",
   "execution_count": 83,
   "metadata": {},
   "outputs": [
    {
     "name": "stderr",
     "output_type": "stream",
     "text": [
      "/Users/johannes/neuefische/.venv/lib/python3.8/site-packages/seaborn/_decorators.py:36: FutureWarning: Pass the following variable as a keyword arg: x. From version 0.12, the only valid positional argument will be `data`, and passing other arguments without an explicit keyword will result in an error or misinterpretation.\n",
      "  warnings.warn(\n"
     ]
    },
    {
     "data": {
      "image/png": "[encoded data removed]",
      "text/plain": [
       "<Figure size 1440x720 with 1 Axes>"
      ]
     },
     "metadata": {},
     "output_type": "display_data"
    }
   ],
   "source": [
    "# influence of blurb length, longer blurb seem to be better till 21 words\n",
    "sns.countplot(df_eda.blurb_len, hue=df_eda.state,edgecolor=\"grey\",linewidth=2.5)\n",
    "plt.xticks(rotation=90)\n",
    "plt.legend(bbox_to_anchor=(1.05, 1), loc=2, borderaxespad=0., fancybox=True);"
   ]
  },
  {
   "cell_type": "code",
   "execution_count": 84,
   "metadata": {},
   "outputs": [
    {
     "name": "stderr",
     "output_type": "stream",
     "text": [
      "/Users/johannes/neuefische/.venv/lib/python3.8/site-packages/seaborn/_decorators.py:36: FutureWarning: Pass the following variable as a keyword arg: x. From version 0.12, the only valid positional argument will be `data`, and passing other arguments without an explicit keyword will result in an error or misinterpretation.\n",
      "  warnings.warn(\n"
     ]
    },
    {
     "data": {
      "image/png": "[encoded data removed]",
      "text/plain": [
       "<Figure size 1440x720 with 1 Axes>"
      ]
     },
     "metadata": {},
     "output_type": "display_data"
    }
   ],
   "source": [
    "# influence of blurb length, longer blurb seem to be better till 21 words\n",
    "sns.countplot(df_eda.currency, hue=df_eda.state,edgecolor=\"grey\",linewidth=2.5)\n",
    "plt.xticks(rotation=90)\n",
    "plt.legend(bbox_to_anchor=(1.05, 1), loc=2, borderaxespad=0., fancybox=True);"
   ]
  },
  {
   "cell_type": "code",
   "execution_count": 85,
   "metadata": {},
   "outputs": [
    {
     "name": "stderr",
     "output_type": "stream",
     "text": [
      "/Users/johannes/neuefische/.venv/lib/python3.8/site-packages/seaborn/_decorators.py:36: FutureWarning: Pass the following variable as a keyword arg: x. From version 0.12, the only valid positional argument will be `data`, and passing other arguments without an explicit keyword will result in an error or misinterpretation.\n",
      "  warnings.warn(\n"
     ]
    },
    {
     "data": {
      "image/png": "[encoded data removed]",
      "text/plain": [
       "<Figure size 1440x720 with 1 Axes>"
      ]
     },
     "metadata": {},
     "output_type": "display_data"
    }
   ],
   "source": [
    "# influence of blurb length, longer blurb seem to be better till 21 words\n",
    "sns.countplot(df_eda.usd_type, hue=df_eda.state,edgecolor=\"grey\",linewidth=2.5)\n",
    "plt.xticks(rotation=90)\n",
    "plt.legend(bbox_to_anchor=(1.05, 1), loc=2, borderaxespad=0., fancybox=True);"
   ]
  },
  {
   "cell_type": "code",
   "execution_count": 86,
   "metadata": {},
   "outputs": [
    {
     "data": {
      "image/png": "[encoded data removed]",
      "text/plain": [
       "<Figure size 576x432 with 1 Axes>"
      ]
     },
     "metadata": {},
     "output_type": "display_data"
    }
   ],
   "source": [
    "#Boxplot of duration in days by state\n",
    "plt.figure(figsize=(8,6))\n",
    "sns.boxplot(x='state', y='duration', data=df_eda, palette='rocket_r')\n",
    "plt.title('duration by state');"
   ]
  },
  {
   "cell_type": "code",
   "execution_count": 98,
   "metadata": {},
   "outputs": [
    {
     "data": {
      "image/png": "[encoded data removed]",
      "text/plain": [
       "<Figure size 720x360 with 2 Axes>"
      ]
     },
     "metadata": {},
     "output_type": "display_data"
    }
   ],
   "source": [
    "sns.displot(df_eda, x=\"duration\", col=\"state\", multiple=\"dodge\", color=\"purple\", bins=10);"
   ]
  },
  {
   "cell_type": "code",
   "execution_count": 101,
   "metadata": {},
   "outputs": [
    {
     "data": {
      "text/plain": [
       "93.11"
      ]
     },
     "execution_count": 101,
     "metadata": {},
     "output_type": "execute_result"
    }
   ],
   "source": [
    "df_eda[\"duration\"].max()"
   ]
  },
  {
   "cell_type": "code",
   "execution_count": 87,
   "metadata": {},
   "outputs": [
    {
     "data": {
      "image/png": "[encoded data removed]",
      "text/plain": [
       "<Figure size 1440x720 with 1 Axes>"
      ]
     },
     "metadata": {},
     "output_type": "display_data"
    }
   ],
   "source": [
    "sns.countplot(data=df_eda, x = 'launched_at_year', hue = 'state',edgecolor=\"grey\",linewidth=2.5)\n",
    "plt.title(\"launch year\")\n",
    "plt.legend(bbox_to_anchor=(1.05, 1), loc=2, borderaxespad=0., fancybox=True);\n",
    "\n",
    "# how does the year relate to succes? mabye hype at first, than small downer, now its going up again"
   ]
  },
  {
   "cell_type": "code",
   "execution_count": 89,
   "metadata": {},
   "outputs": [
    {
     "data": {
      "image/png": "[encoded data removed]",
      "text/plain": [
       "<Figure size 1440x720 with 1 Axes>"
      ]
     },
     "metadata": {},
     "output_type": "display_data"
    }
   ],
   "source": [
    "# launched_at_month\n",
    "sns.countplot(data=df_eda, x = 'launched_at_month', hue = 'state',edgecolor=\"grey\",linewidth=2.5)\n",
    "plt.title(\" launched_at_month\")\n",
    "plt.legend(bbox_to_anchor=(1.05, 1), loc=2, borderaxespad=0., fancybox=True);"
   ]
  },
  {
   "cell_type": "code",
   "execution_count": null,
   "metadata": {},
   "outputs": [],
   "source": []
  },
  {
   "cell_type": "code",
   "execution_count": 97,
   "metadata": {},
   "outputs": [
    {
     "data": {
      "text/plain": [
       "0         1388011046\n",
       "1         1550073611\n",
       "2         1478012330\n",
       "3         1540684582\n",
       "4         1425919017\n",
       "             ...    \n",
       "209217    1488287545\n",
       "209218    1451121309\n",
       "209219    1472245753\n",
       "209220    1424188645\n",
       "209221    1524667297\n",
       "Name: launched_at, Length: 184152, dtype: int64"
      ]
     },
     "execution_count": 97,
     "metadata": {},
     "output_type": "execute_result"
    }
   ],
   "source": [
    "# to be droped\n",
    "df_eda[\"launched_at\"]"
   ]
  },
  {
   "cell_type": "code",
   "execution_count": 107,
   "metadata": {},
   "outputs": [],
   "source": [
    "# Create an array with the colors\n",
    "colors = ['green', 'red']\n",
    "colors2 = ['red', 'green']\n",
    "\n",
    "# Set custom color palette\n",
    "palette = sns.color_palette(colors)\n",
    "palette2 = sns.color_palette(colors2)"
   ]
  },
  {
   "cell_type": "code",
   "execution_count": null,
   "metadata": {},
   "outputs": [],
   "source": []
  },
  {
   "cell_type": "code",
   "execution_count": null,
   "metadata": {},
   "outputs": [],
   "source": []
  }
 ],
 "metadata": {
  "kernelspec": {
   "display_name": "Python 3",
   "language": "python",
   "name": "python3"
  },
  "language_info": {
   "codemirror_mode": {
    "name": "ipython",
    "version": 3
   },
   "file_extension": ".py",
   "mimetype": "text/x-python",
   "name": "python",
   "nbconvert_exporter": "python",
   "pygments_lexer": "ipython3",
   "version": "3.8.5"
  }
 },
 "nbformat": 4,
 "nbformat_minor": 4
}
