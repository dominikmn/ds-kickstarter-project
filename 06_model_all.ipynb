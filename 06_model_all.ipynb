{
 "cells": [
  {
   "cell_type": "code",
   "execution_count": 1,
   "id": "sitting-stamp",
   "metadata": {},
   "outputs": [],
   "source": [
    "import pandas as pd\n",
    "import numpy as np\n",
    "import seaborn as sns\n",
    "import matplotlib.pyplot as plt\n",
    "from joblib import dump, load\n",
    "from sklearn.preprocessing import MinMaxScaler, StandardScaler\n",
    "from sklearn.dummy import DummyClassifier\n",
    "from sklearn.metrics import make_scorer, confusion_matrix, fbeta_score, classification_report\n",
    "from sklearn.model_selection import GridSearchCV, RandomizedSearchCV\n",
    "from sklearn.linear_model import SGDClassifier\n",
    "from sklearn.neighbors import KNeighborsClassifier\n",
    "from sklearn.svm import SVC\n",
    "from sklearn.naive_bayes import BernoulliNB\n",
    "from sklearn.ensemble import AdaBoostClassifier, RandomForestClassifier, StackingClassifier, ExtraTreesClassifier\n",
    "from sklearn.discriminant_analysis import QuadraticDiscriminantAnalysis\n",
    "import xgboost as xgb\n",
    "import lightgbm as lgb "
   ]
  },
  {
   "cell_type": "code",
   "execution_count": 2,
   "id": "coated-belief",
   "metadata": {},
   "outputs": [],
   "source": [
    "X_train = pd.read_csv('./model_csv/X_train_Kickstarter.csv')\n",
    "X_test = pd.read_csv('./model_csv/X_test_Kickstarter.csv')\n",
    "y_train = pd.read_csv('./model_csv/y_train_Kickstarter.csv')\n",
    "y_test = pd.read_csv('./model_csv/y_test_Kickstarter.csv')\n",
    "y_train = y_train['state']\n",
    "y_test = y_test['state']"
   ]
  },
  {
   "cell_type": "code",
   "execution_count": 3,
   "id": "corresponding-syracuse",
   "metadata": {},
   "outputs": [],
   "source": [
    "RSEED=42"
   ]
  },
  {
   "cell_type": "code",
   "execution_count": 4,
   "id": "thrown-frequency",
   "metadata": {},
   "outputs": [],
   "source": [
    "def plot_conf_matrix(y_true, y_predicted, heatmap_title, color_map='YlGn'):\n",
    "    cnf_matrix = confusion_matrix(y_true, y_predicted)\n",
    "    ax = plt.axes()\n",
    "    sns.heatmap(cnf_matrix, annot = True, fmt = \"g\", cmap=color_map, ax=ax)\n",
    "    ax.set_title(heatmap_title)\n",
    "    plt.show();"
   ]
  },
  {
   "cell_type": "markdown",
   "id": "posted-reset",
   "metadata": {},
   "source": [
    "In the following sections we will fit 14 different models in total.\n",
    "Each section has the following steps\n",
    "1. Initialize model object including parameter definitions\n",
    "2. Fit on X_train, y_train\n",
    "3. Predict on X_test\n",
    "4. Compute classification report\n",
    "5. Plot confusion matrix"
   ]
  },
  {
   "cell_type": "markdown",
   "id": "electrical-newman",
   "metadata": {},
   "source": [
    "# Dummy Classifier"
   ]
  },
  {
   "cell_type": "code",
   "execution_count": 5,
   "id": "respective-charlotte",
   "metadata": {},
   "outputs": [],
   "source": [
    "model_dummy = DummyClassifier(strategy = 'most_frequent')"
   ]
  },
  {
   "cell_type": "code",
   "execution_count": 6,
   "id": "progressive-subdivision",
   "metadata": {},
   "outputs": [
    {
     "data": {
      "text/plain": [
       "DummyClassifier(strategy='most_frequent')"
      ]
     },
     "execution_count": 6,
     "metadata": {},
     "output_type": "execute_result"
    }
   ],
   "source": [
    "model_dummy.fit(X_train, y_train)"
   ]
  },
  {
   "cell_type": "code",
   "execution_count": 7,
   "id": "latin-forum",
   "metadata": {},
   "outputs": [],
   "source": [
    "y_pred_dummy = model_dummy.predict(X_test)"
   ]
  },
  {
   "cell_type": "code",
   "execution_count": 8,
   "id": "compliant-standard",
   "metadata": {},
   "outputs": [
    {
     "name": "stdout",
     "output_type": "stream",
     "text": [
      "              precision    recall  f1-score   support\n",
      "\n",
      "           0       0.00      0.00      0.00     22545\n",
      "           1       0.61      1.00      0.76     35190\n",
      "\n",
      "    accuracy                           0.61     57735\n",
      "   macro avg       0.30      0.50      0.38     57735\n",
      "weighted avg       0.37      0.61      0.46     57735\n",
      "\n"
     ]
    },
    {
     "name": "stderr",
     "output_type": "stream",
     "text": [
      "/Users/niknik/neueFische/git/ds-kickstarter-project/.venv/lib/python3.8/site-packages/sklearn/metrics/_classification.py:1245: UndefinedMetricWarning: Precision and F-score are ill-defined and being set to 0.0 in labels with no predicted samples. Use `zero_division` parameter to control this behavior.\n",
      "  _warn_prf(average, modifier, msg_start, len(result))\n",
      "/Users/niknik/neueFische/git/ds-kickstarter-project/.venv/lib/python3.8/site-packages/sklearn/metrics/_classification.py:1245: UndefinedMetricWarning: Precision and F-score are ill-defined and being set to 0.0 in labels with no predicted samples. Use `zero_division` parameter to control this behavior.\n",
      "  _warn_prf(average, modifier, msg_start, len(result))\n",
      "/Users/niknik/neueFische/git/ds-kickstarter-project/.venv/lib/python3.8/site-packages/sklearn/metrics/_classification.py:1245: UndefinedMetricWarning: Precision and F-score are ill-defined and being set to 0.0 in labels with no predicted samples. Use `zero_division` parameter to control this behavior.\n",
      "  _warn_prf(average, modifier, msg_start, len(result))\n"
     ]
    }
   ],
   "source": [
    "print(classification_report(y_test, y_pred_dummy))"
   ]
  },
  {
   "cell_type": "code",
   "execution_count": 9,
   "id": "every-cheese",
   "metadata": {},
   "outputs": [
    {
     "data": {
      "image/png": "[encoded data removed]",
      "text/plain": [
       "<Figure size 432x288 with 2 Axes>"
      ]
     },
     "metadata": {
      "needs_background": "light"
     },
     "output_type": "display_data"
    }
   ],
   "source": [
    "plot_conf_matrix(y_test, y_pred_dummy, 'Dummy Classifier')"
   ]
  },
  {
   "cell_type": "markdown",
   "id": "short-fundamental",
   "metadata": {},
   "source": [
    "# SVM Classifier"
   ]
  },
  {
   "cell_type": "code",
   "execution_count": 10,
   "id": "announced-renaissance",
   "metadata": {},
   "outputs": [],
   "source": [
    "scaling = MinMaxScaler(feature_range=(-1,1)).fit(X_train)\n",
    "X_train_scaled = scaling.transform(X_train)\n",
    "X_test_scaled = scaling.transform(X_test)"
   ]
  },
  {
   "cell_type": "code",
   "execution_count": 11,
   "id": "provincial-issue",
   "metadata": {},
   "outputs": [],
   "source": [
    "model_svm = SVC(kernel='linear', verbose = 5)"
   ]
  },
  {
   "cell_type": "code",
   "execution_count": 12,
   "id": "sunset-alabama",
   "metadata": {},
   "outputs": [],
   "source": [
    "#model_svm.fit(X_train_scaled, y_train)\n",
    "#dump(model_svm, 'clfSVM.pickle')"
   ]
  },
  {
   "cell_type": "code",
   "execution_count": 13,
   "id": "basic-knowing",
   "metadata": {},
   "outputs": [],
   "source": [
    "model_svm = load('clfSVM.pickle')"
   ]
  },
  {
   "cell_type": "code",
   "execution_count": 14,
   "id": "potential-summit",
   "metadata": {},
   "outputs": [],
   "source": [
    "#y_pred_svm = svm_clf.predict(X_test_scaled)\n",
    "#dump(y_pred_svm, 'y_pred_svm.pickle')"
   ]
  },
  {
   "cell_type": "code",
   "execution_count": 15,
   "id": "shaped-subsection",
   "metadata": {},
   "outputs": [],
   "source": [
    "y_pred_svm = load('./y_pred_svm.pickle')"
   ]
  },
  {
   "cell_type": "code",
   "execution_count": 16,
   "id": "heated-calcium",
   "metadata": {},
   "outputs": [
    {
     "name": "stdout",
     "output_type": "stream",
     "text": [
      "              precision    recall  f1-score   support\n",
      "\n",
      "           0       0.65      0.71      0.68     22545\n",
      "           1       0.80      0.75      0.78     35190\n",
      "\n",
      "    accuracy                           0.74     57735\n",
      "   macro avg       0.72      0.73      0.73     57735\n",
      "weighted avg       0.74      0.74      0.74     57735\n",
      "\n"
     ]
    }
   ],
   "source": [
    "print(classification_report(y_test, y_pred_svm))"
   ]
  },
  {
   "cell_type": "code",
   "execution_count": 17,
   "id": "abstract-delicious",
   "metadata": {},
   "outputs": [
    {
     "data": {
      "image/png": "[encoded data removed]",
      "text/plain": [
       "<Figure size 432x288 with 2 Axes>"
      ]
     },
     "metadata": {
      "needs_background": "light"
     },
     "output_type": "display_data"
    }
   ],
   "source": [
    "plot_conf_matrix(y_test, y_pred_svm, 'SVM Classifier')"
   ]
  },
  {
   "cell_type": "markdown",
   "id": "behind-reasoning",
   "metadata": {},
   "source": [
    "# KNN Classifier"
   ]
  },
  {
   "cell_type": "code",
   "execution_count": 18,
   "id": "incorporated-grass",
   "metadata": {},
   "outputs": [],
   "source": [
    "model_knn = KNeighborsClassifier(n_neighbors=5, metric='minkowski', n_jobs=-1)"
   ]
  },
  {
   "cell_type": "code",
   "execution_count": 19,
   "id": "destroyed-lexington",
   "metadata": {},
   "outputs": [
    {
     "data": {
      "text/plain": [
       "KNeighborsClassifier(n_jobs=-1)"
      ]
     },
     "execution_count": 19,
     "metadata": {},
     "output_type": "execute_result"
    }
   ],
   "source": [
    "model_knn.fit(X_train, y_train)"
   ]
  },
  {
   "cell_type": "code",
   "execution_count": 20,
   "id": "contained-victoria",
   "metadata": {},
   "outputs": [],
   "source": [
    "#y_pred_knn = model_knn.predict(X_test)\n",
    "#dump(y_pred_knn, './y_pred_knn.pickle')"
   ]
  },
  {
   "cell_type": "code",
   "execution_count": 21,
   "id": "sealed-collection",
   "metadata": {},
   "outputs": [],
   "source": [
    "y_pred_knn = load('./y_pred_knn.pickle')"
   ]
  },
  {
   "cell_type": "code",
   "execution_count": 22,
   "id": "several-berry",
   "metadata": {},
   "outputs": [
    {
     "name": "stdout",
     "output_type": "stream",
     "text": [
      "              precision    recall  f1-score   support\n",
      "\n",
      "           0       0.56      0.47      0.51     22545\n",
      "           1       0.69      0.76      0.72     35190\n",
      "\n",
      "    accuracy                           0.65     57735\n",
      "   macro avg       0.62      0.61      0.62     57735\n",
      "weighted avg       0.64      0.65      0.64     57735\n",
      "\n"
     ]
    }
   ],
   "source": [
    "print(classification_report(y_test, y_pred_knn))"
   ]
  },
  {
   "cell_type": "code",
   "execution_count": 23,
   "id": "assisted-birmingham",
   "metadata": {},
   "outputs": [
    {
     "data": {
      "image/png": "[encoded data removed]",
      "text/plain": [
       "<Figure size 432x288 with 2 Axes>"
      ]
     },
     "metadata": {
      "needs_background": "light"
     },
     "output_type": "display_data"
    }
   ],
   "source": [
    "plot_conf_matrix(y_test, y_pred_knn, 'KNN Classifier')"
   ]
  },
  {
   "cell_type": "markdown",
   "id": "united-george",
   "metadata": {},
   "source": [
    "# SGDClassifier"
   ]
  },
  {
   "cell_type": "code",
   "execution_count": 24,
   "id": "narrative-caution",
   "metadata": {},
   "outputs": [],
   "source": [
    "model_sgd = SGDClassifier(loss='hinge', max_iter=1000, alpha=0.0001, random_state=RSEED)"
   ]
  },
  {
   "cell_type": "code",
   "execution_count": 25,
   "id": "clinical-dealer",
   "metadata": {},
   "outputs": [
    {
     "data": {
      "text/plain": [
       "SGDClassifier(random_state=42)"
      ]
     },
     "execution_count": 25,
     "metadata": {},
     "output_type": "execute_result"
    }
   ],
   "source": [
    "model_sgd.fit(X_train, y_train)"
   ]
  },
  {
   "cell_type": "code",
   "execution_count": 26,
   "id": "unexpected-ribbon",
   "metadata": {},
   "outputs": [],
   "source": [
    "y_pred_sgd = model_sgd.predict(X_test)"
   ]
  },
  {
   "cell_type": "code",
   "execution_count": 27,
   "id": "former-grass",
   "metadata": {},
   "outputs": [
    {
     "name": "stdout",
     "output_type": "stream",
     "text": [
      "              precision    recall  f1-score   support\n",
      "\n",
      "           0       0.50      0.50      0.50     22545\n",
      "           1       0.68      0.68      0.68     35190\n",
      "\n",
      "    accuracy                           0.61     57735\n",
      "   macro avg       0.59      0.59      0.59     57735\n",
      "weighted avg       0.61      0.61      0.61     57735\n",
      "\n"
     ]
    }
   ],
   "source": [
    "print(classification_report(y_test, y_pred_sgd))"
   ]
  },
  {
   "cell_type": "code",
   "execution_count": 28,
   "id": "polish-story",
   "metadata": {},
   "outputs": [
    {
     "data": {
      "image/png": "[encoded data removed]",
      "text/plain": [
       "<Figure size 432x288 with 2 Axes>"
      ]
     },
     "metadata": {
      "needs_background": "light"
     },
     "output_type": "display_data"
    }
   ],
   "source": [
    "plot_conf_matrix(y_test, y_pred_sgd, 'SGD Classifier (default)')"
   ]
  },
  {
   "cell_type": "markdown",
   "id": "square-coordinator",
   "metadata": {},
   "source": [
    "# SGD Classifier - GridSearchCV"
   ]
  },
  {
   "cell_type": "code",
   "execution_count": 29,
   "id": "pleased-treasury",
   "metadata": {},
   "outputs": [],
   "source": [
    "model_sgd_gs = SGDClassifier(max_iter=1000, random_state=RSEED)"
   ]
  },
  {
   "cell_type": "code",
   "execution_count": 30,
   "id": "proprietary-simpson",
   "metadata": {},
   "outputs": [],
   "source": [
    "params_sgd_gs = {\"loss\" : [\"hinge\", \"log\"],\n",
    "              \"alpha\" : [0.0001, 0.001, 0.01, 0.1],\n",
    "              \"penalty\" : [\"l2\", \"elasticnet\"]\n",
    "             }"
   ]
  },
  {
   "cell_type": "code",
   "execution_count": 31,
   "id": "cosmetic-summit",
   "metadata": {},
   "outputs": [],
   "source": [
    "sgd_gs = GridSearchCV(model_sgd_gs, params_sgd_gs, scoring='accuracy', cv=5, verbose=5, n_jobs=-1)"
   ]
  },
  {
   "cell_type": "code",
   "execution_count": 32,
   "id": "connected-small",
   "metadata": {},
   "outputs": [
    {
     "name": "stdout",
     "output_type": "stream",
     "text": [
      "Fitting 5 folds for each of 16 candidates, totalling 80 fits\n"
     ]
    },
    {
     "data": {
      "text/plain": [
       "GridSearchCV(cv=5, estimator=SGDClassifier(random_state=42), n_jobs=-1,\n",
       "             param_grid={'alpha': [0.0001, 0.001, 0.01, 0.1],\n",
       "                         'loss': ['hinge', 'log'],\n",
       "                         'penalty': ['l2', 'elasticnet']},\n",
       "             scoring='accuracy', verbose=5)"
      ]
     },
     "execution_count": 32,
     "metadata": {},
     "output_type": "execute_result"
    }
   ],
   "source": [
    "sgd_gs.fit(X_train, y_train)"
   ]
  },
  {
   "cell_type": "code",
   "execution_count": 33,
   "id": "minimal-alias",
   "metadata": {},
   "outputs": [
    {
     "name": "stdout",
     "output_type": "stream",
     "text": [
      "Best score: 0.629\n",
      "Best parameters: {'alpha': 0.01, 'loss': 'log', 'penalty': 'l2'}\n"
     ]
    }
   ],
   "source": [
    "# Best score\n",
    "print('Best score:', round(sgd_gs.best_score_, 3))\n",
    "# Best parameters\n",
    "print('Best parameters:', sgd_gs.best_params_)"
   ]
  },
  {
   "cell_type": "code",
   "execution_count": 34,
   "id": "premier-fiction",
   "metadata": {},
   "outputs": [],
   "source": [
    "y_pred_sgd_gs = sgd_gs.best_estimator_.predict(X_test)"
   ]
  },
  {
   "cell_type": "code",
   "execution_count": 35,
   "id": "sunrise-lunch",
   "metadata": {},
   "outputs": [
    {
     "name": "stdout",
     "output_type": "stream",
     "text": [
      "              precision    recall  f1-score   support\n",
      "\n",
      "           0       0.50      0.49      0.50     22545\n",
      "           1       0.68      0.69      0.68     35190\n",
      "\n",
      "    accuracy                           0.61     57735\n",
      "   macro avg       0.59      0.59      0.59     57735\n",
      "weighted avg       0.61      0.61      0.61     57735\n",
      "\n"
     ]
    }
   ],
   "source": [
    "print(classification_report(y_test, y_pred_sgd_gs))"
   ]
  },
  {
   "cell_type": "code",
   "execution_count": 36,
   "id": "agreed-armenia",
   "metadata": {},
   "outputs": [
    {
     "data": {
      "image/png": "[encoded data removed]",
      "text/plain": [
       "<Figure size 432x288 with 2 Axes>"
      ]
     },
     "metadata": {
      "needs_background": "light"
     },
     "output_type": "display_data"
    }
   ],
   "source": [
    "plot_conf_matrix(y_test, y_pred_sgd_gs, 'SGD Classifier (param grid search)')"
   ]
  },
  {
   "cell_type": "markdown",
   "id": "short-journal",
   "metadata": {},
   "source": [
    "# RandomForest"
   ]
  },
  {
   "cell_type": "code",
   "execution_count": 37,
   "id": "equipped-string",
   "metadata": {},
   "outputs": [],
   "source": [
    "model_rf = RandomForestClassifier(n_estimators=120, \n",
    "                               random_state=RSEED, \n",
    "                               max_features = 'sqrt',\n",
    "                               n_jobs=-1, verbose = 1)"
   ]
  },
  {
   "cell_type": "code",
   "execution_count": 38,
   "id": "capable-timothy",
   "metadata": {},
   "outputs": [
    {
     "name": "stderr",
     "output_type": "stream",
     "text": [
      "[Parallel(n_jobs=-1)]: Using backend ThreadingBackend with 4 concurrent workers.\n",
      "[Parallel(n_jobs=-1)]: Done  42 tasks      | elapsed:   12.8s\n",
      "[Parallel(n_jobs=-1)]: Done 120 out of 120 | elapsed:   35.4s finished\n"
     ]
    },
    {
     "data": {
      "text/plain": [
       "RandomForestClassifier(max_features='sqrt', n_estimators=120, n_jobs=-1,\n",
       "                       random_state=42, verbose=1)"
      ]
     },
     "execution_count": 38,
     "metadata": {},
     "output_type": "execute_result"
    }
   ],
   "source": [
    "model_rf.fit(X_train, y_train)"
   ]
  },
  {
   "cell_type": "code",
   "execution_count": 39,
   "id": "mounted-permit",
   "metadata": {},
   "outputs": [
    {
     "name": "stderr",
     "output_type": "stream",
     "text": [
      "[Parallel(n_jobs=4)]: Using backend ThreadingBackend with 4 concurrent workers.\n",
      "[Parallel(n_jobs=4)]: Done  42 tasks      | elapsed:    0.5s\n",
      "[Parallel(n_jobs=4)]: Done 120 out of 120 | elapsed:    1.3s finished\n"
     ]
    }
   ],
   "source": [
    "y_pred_rf = model_rf.predict(X_test)"
   ]
  },
  {
   "cell_type": "code",
   "execution_count": 40,
   "id": "joint-member",
   "metadata": {},
   "outputs": [
    {
     "name": "stdout",
     "output_type": "stream",
     "text": [
      "              precision    recall  f1-score   support\n",
      "\n",
      "           0       0.76      0.72      0.74     22545\n",
      "           1       0.83      0.86      0.84     35190\n",
      "\n",
      "    accuracy                           0.80     57735\n",
      "   macro avg       0.79      0.79      0.79     57735\n",
      "weighted avg       0.80      0.80      0.80     57735\n",
      "\n"
     ]
    }
   ],
   "source": [
    "print(classification_report(y_test, y_pred_rf))"
   ]
  },
  {
   "cell_type": "code",
   "execution_count": 41,
   "id": "reserved-champion",
   "metadata": {},
   "outputs": [
    {
     "data": {
      "image/png": "[encoded data removed]",
      "text/plain": [
       "<Figure size 432x288 with 2 Axes>"
      ]
     },
     "metadata": {
      "needs_background": "light"
     },
     "output_type": "display_data"
    }
   ],
   "source": [
    "plot_conf_matrix(y_test, y_pred_rf, 'RandomForest (default)')"
   ]
  },
  {
   "cell_type": "code",
   "execution_count": 110,
   "id": "enormous-vault",
   "metadata": {},
   "outputs": [
    {
     "data": {
      "text/plain": [
       "numpy.ndarray"
      ]
     },
     "execution_count": 110,
     "metadata": {},
     "output_type": "execute_result"
    }
   ],
   "source": [
    "type(model_rf.feature_importances_)"
   ]
  },
  {
   "cell_type": "code",
   "execution_count": 116,
   "id": "green-playlist",
   "metadata": {},
   "outputs": [
    {
     "data": {
      "image/png": "[encoded data removed]",
      "text/plain": [
       "<Figure size 720x360 with 1 Axes>"
      ]
     },
     "metadata": {
      "needs_background": "light"
     },
     "output_type": "display_data"
    }
   ],
   "source": [
    "num_feat = 10\n",
    "importances = model_rf.feature_importances_[:num_feat]\n",
    "std = np.std([tree.feature_importances_ for tree in model_rf.estimators_],axis=0)\n",
    "std = std[:num_feat]\n",
    "indices = np.argsort(importances)[::-1]\n",
    "plt.figure(figsize=(10,5))\n",
    "plt.title(\"Feature importances\")\n",
    "plt.bar(range(num_feat), importances[indices], color=\"r\", yerr=std[indices], align=\"center\")\n",
    "plt.xticks(range(num_feat), indices)\n",
    "plt.xlim([-1, num_feat])\n",
    "plt.show()"
   ]
  },
  {
   "cell_type": "markdown",
   "id": "disabled-wagon",
   "metadata": {},
   "source": [
    "# ExtraTrees"
   ]
  },
  {
   "cell_type": "code",
   "execution_count": 42,
   "id": "center-relationship",
   "metadata": {},
   "outputs": [],
   "source": [
    "model_extra = ExtraTreesClassifier(n_estimators=100, random_state=RSEED)"
   ]
  },
  {
   "cell_type": "code",
   "execution_count": 43,
   "id": "adjacent-radio",
   "metadata": {},
   "outputs": [
    {
     "data": {
      "text/plain": [
       "ExtraTreesClassifier(random_state=42)"
      ]
     },
     "execution_count": 43,
     "metadata": {},
     "output_type": "execute_result"
    }
   ],
   "source": [
    "model_extra.fit(X_train, y_train)"
   ]
  },
  {
   "cell_type": "code",
   "execution_count": 44,
   "id": "dying-spell",
   "metadata": {},
   "outputs": [],
   "source": [
    "y_pred_extra = model_extra.predict(X_test)"
   ]
  },
  {
   "cell_type": "code",
   "execution_count": 45,
   "id": "annoying-royalty",
   "metadata": {},
   "outputs": [
    {
     "name": "stdout",
     "output_type": "stream",
     "text": [
      "              precision    recall  f1-score   support\n",
      "\n",
      "           0       0.73      0.72      0.73     22545\n",
      "           1       0.82      0.83      0.83     35190\n",
      "\n",
      "    accuracy                           0.79     57735\n",
      "   macro avg       0.78      0.78      0.78     57735\n",
      "weighted avg       0.79      0.79      0.79     57735\n",
      "\n"
     ]
    }
   ],
   "source": [
    "print(classification_report(y_test, y_pred_extra))"
   ]
  },
  {
   "cell_type": "code",
   "execution_count": 46,
   "id": "assigned-denver",
   "metadata": {},
   "outputs": [
    {
     "data": {
      "image/png": "[encoded data removed]",
      "text/plain": [
       "<Figure size 432x288 with 2 Axes>"
      ]
     },
     "metadata": {
      "needs_background": "light"
     },
     "output_type": "display_data"
    }
   ],
   "source": [
    "plot_conf_matrix(y_test, y_pred_extra, 'ExtraTrees')"
   ]
  },
  {
   "cell_type": "markdown",
   "id": "activated-broadcasting",
   "metadata": {},
   "source": [
    "# QuadraticDiscriminantAnalysis"
   ]
  },
  {
   "cell_type": "code",
   "execution_count": 47,
   "id": "hollow-director",
   "metadata": {},
   "outputs": [],
   "source": [
    "model_quad = QuadraticDiscriminantAnalysis()"
   ]
  },
  {
   "cell_type": "code",
   "execution_count": 48,
   "id": "previous-protocol",
   "metadata": {},
   "outputs": [
    {
     "name": "stderr",
     "output_type": "stream",
     "text": [
      "/Users/niknik/neueFische/git/ds-kickstarter-project/.venv/lib/python3.8/site-packages/sklearn/discriminant_analysis.py:808: UserWarning: Variables are collinear\n",
      "  warnings.warn(\"Variables are collinear\")\n"
     ]
    },
    {
     "data": {
      "text/plain": [
       "QuadraticDiscriminantAnalysis()"
      ]
     },
     "execution_count": 48,
     "metadata": {},
     "output_type": "execute_result"
    }
   ],
   "source": [
    "model_quad.fit(X_train, y_train)"
   ]
  },
  {
   "cell_type": "code",
   "execution_count": 49,
   "id": "answering-formation",
   "metadata": {},
   "outputs": [],
   "source": [
    "y_pred_quad = model_quad.predict(X_test)"
   ]
  },
  {
   "cell_type": "code",
   "execution_count": 50,
   "id": "julian-handbook",
   "metadata": {},
   "outputs": [
    {
     "name": "stdout",
     "output_type": "stream",
     "text": [
      "              precision    recall  f1-score   support\n",
      "\n",
      "           0       0.60      0.43      0.50     22545\n",
      "           1       0.69      0.82      0.75     35190\n",
      "\n",
      "    accuracy                           0.67     57735\n",
      "   macro avg       0.64      0.62      0.62     57735\n",
      "weighted avg       0.65      0.67      0.65     57735\n",
      "\n"
     ]
    }
   ],
   "source": [
    "print(classification_report(y_test, y_pred_quad))"
   ]
  },
  {
   "cell_type": "code",
   "execution_count": 51,
   "id": "superior-ensemble",
   "metadata": {},
   "outputs": [
    {
     "data": {
      "image/png": "[encoded data removed]",
      "text/plain": [
       "<Figure size 432x288 with 2 Axes>"
      ]
     },
     "metadata": {
      "needs_background": "light"
     },
     "output_type": "display_data"
    }
   ],
   "source": [
    "plot_conf_matrix(y_test, y_pred_extra, 'QuadraticDiscriminantAnalysis')"
   ]
  },
  {
   "cell_type": "markdown",
   "id": "ambient-circus",
   "metadata": {},
   "source": [
    "# AdaBoost"
   ]
  },
  {
   "cell_type": "code",
   "execution_count": 52,
   "id": "brutal-conference",
   "metadata": {},
   "outputs": [],
   "source": [
    "model_ada = AdaBoostClassifier()"
   ]
  },
  {
   "cell_type": "code",
   "execution_count": 53,
   "id": "departmental-tolerance",
   "metadata": {},
   "outputs": [
    {
     "data": {
      "text/plain": [
       "AdaBoostClassifier()"
      ]
     },
     "execution_count": 53,
     "metadata": {},
     "output_type": "execute_result"
    }
   ],
   "source": [
    "model_ada.fit(X_train, y_train)"
   ]
  },
  {
   "cell_type": "code",
   "execution_count": 54,
   "id": "pending-linux",
   "metadata": {},
   "outputs": [],
   "source": [
    "y_pred_ada = model_ada.predict(X_test)"
   ]
  },
  {
   "cell_type": "code",
   "execution_count": 55,
   "id": "tired-dealing",
   "metadata": {},
   "outputs": [
    {
     "name": "stdout",
     "output_type": "stream",
     "text": [
      "              precision    recall  f1-score   support\n",
      "\n",
      "           0       0.69      0.61      0.65     22545\n",
      "           1       0.77      0.82      0.79     35190\n",
      "\n",
      "    accuracy                           0.74     57735\n",
      "   macro avg       0.73      0.72      0.72     57735\n",
      "weighted avg       0.74      0.74      0.74     57735\n",
      "\n"
     ]
    }
   ],
   "source": [
    "print(classification_report(y_test, y_pred_ada))"
   ]
  },
  {
   "cell_type": "code",
   "execution_count": 56,
   "id": "welsh-found",
   "metadata": {},
   "outputs": [
    {
     "data": {
      "image/png": "[encoded data removed]",
      "text/plain": [
       "<Figure size 432x288 with 2 Axes>"
      ]
     },
     "metadata": {
      "needs_background": "light"
     },
     "output_type": "display_data"
    }
   ],
   "source": [
    "plot_conf_matrix(y_test, y_pred_ada, 'AdaBoost (default)')"
   ]
  },
  {
   "cell_type": "markdown",
   "id": "conservative-asthma",
   "metadata": {},
   "source": [
    "# AdaBoost - GridSearchCV"
   ]
  },
  {
   "cell_type": "code",
   "execution_count": 62,
   "id": "killing-draft",
   "metadata": {},
   "outputs": [],
   "source": [
    "model_ada_gs = AdaBoostClassifier(random_state = RSEED)"
   ]
  },
  {
   "cell_type": "code",
   "execution_count": 63,
   "id": "leading-calcium",
   "metadata": {},
   "outputs": [],
   "source": [
    "params_ada_gs = {'n_estimators':[ 100, 400 , 1080],                \n",
    "              'learning_rate':[0.8, 0.85, 0.9],               \n",
    "             } "
   ]
  },
  {
   "cell_type": "code",
   "execution_count": 64,
   "id": "postal-dietary",
   "metadata": {},
   "outputs": [],
   "source": [
    "ada_gs = GridSearchCV(model_ada_gs, param_grid=params_ada_gs, scoring='accuracy', cv=5, verbose=2, n_jobs=-1)"
   ]
  },
  {
   "cell_type": "code",
   "execution_count": 65,
   "id": "magnetic-vietnamese",
   "metadata": {},
   "outputs": [
    {
     "name": "stdout",
     "output_type": "stream",
     "text": [
      "Fitting 5 folds for each of 9 candidates, totalling 45 fits\n"
     ]
    },
    {
     "data": {
      "text/plain": [
       "['./ada_gs.pickle']"
      ]
     },
     "execution_count": 65,
     "metadata": {},
     "output_type": "execute_result"
    }
   ],
   "source": [
    "#ada_gs.fit(X_train, y_train)\n",
    "#dump(ada_gs, './ada_gs.pickle')"
   ]
  },
  {
   "cell_type": "code",
   "execution_count": null,
   "id": "excited-prize",
   "metadata": {},
   "outputs": [],
   "source": [
    "ada_gs = load('./ada_gs.pickle')"
   ]
  },
  {
   "cell_type": "code",
   "execution_count": 66,
   "id": "scenic-richmond",
   "metadata": {},
   "outputs": [
    {
     "name": "stdout",
     "output_type": "stream",
     "text": [
      "Best score: 0.773\n",
      "Best parameters: {'learning_rate': 0.9, 'n_estimators': 1080}\n"
     ]
    }
   ],
   "source": [
    "# Best score\n",
    "print('Best score:', round(ada_gs.best_score_, 3))\n",
    "# Best parameters\n",
    "print('Best parameters:', ada_gs.best_params_)"
   ]
  },
  {
   "cell_type": "code",
   "execution_count": 68,
   "id": "established-numbers",
   "metadata": {},
   "outputs": [],
   "source": [
    "y_pred_ada_gs = ada_gs.best_estimator_.predict(X_test)"
   ]
  },
  {
   "cell_type": "code",
   "execution_count": 69,
   "id": "military-dominican",
   "metadata": {},
   "outputs": [
    {
     "name": "stdout",
     "output_type": "stream",
     "text": [
      "              precision    recall  f1-score   support\n",
      "\n",
      "           0       0.71      0.71      0.71     22545\n",
      "           1       0.82      0.81      0.81     35190\n",
      "\n",
      "    accuracy                           0.77     57735\n",
      "   macro avg       0.76      0.76      0.76     57735\n",
      "weighted avg       0.77      0.77      0.77     57735\n",
      "\n"
     ]
    }
   ],
   "source": [
    "print(classification_report(y_test, y_pred_ada_gs))"
   ]
  },
  {
   "cell_type": "code",
   "execution_count": 70,
   "id": "asian-launch",
   "metadata": {},
   "outputs": [
    {
     "data": {
      "image/png": "[encoded data removed]",
      "text/plain": [
       "<Figure size 432x288 with 2 Axes>"
      ]
     },
     "metadata": {
      "needs_background": "light"
     },
     "output_type": "display_data"
    }
   ],
   "source": [
    "plot_conf_matrix(y_test, y_pred_ada_gs, 'AdaBoost (param grid search)')"
   ]
  },
  {
   "cell_type": "markdown",
   "id": "micro-bridges",
   "metadata": {},
   "source": [
    "# LightGBM"
   ]
  },
  {
   "cell_type": "code",
   "execution_count": 71,
   "id": "alike-flavor",
   "metadata": {},
   "outputs": [],
   "source": [
    "model_lgb = lgb.LGBMClassifier()"
   ]
  },
  {
   "cell_type": "code",
   "execution_count": 72,
   "id": "therapeutic-aquatic",
   "metadata": {},
   "outputs": [
    {
     "data": {
      "text/plain": [
       "LGBMClassifier()"
      ]
     },
     "execution_count": 72,
     "metadata": {},
     "output_type": "execute_result"
    }
   ],
   "source": [
    "model_lgb.fit(X_train, y_train)"
   ]
  },
  {
   "cell_type": "code",
   "execution_count": 73,
   "id": "green-effort",
   "metadata": {},
   "outputs": [],
   "source": [
    "y_pred_lgb = model_lgb.predict(X_test)"
   ]
  },
  {
   "cell_type": "code",
   "execution_count": 74,
   "id": "hybrid-stuff",
   "metadata": {},
   "outputs": [
    {
     "name": "stdout",
     "output_type": "stream",
     "text": [
      "              precision    recall  f1-score   support\n",
      "\n",
      "           0       0.72      0.71      0.71     22545\n",
      "           1       0.82      0.82      0.82     35190\n",
      "\n",
      "    accuracy                           0.78     57735\n",
      "   macro avg       0.77      0.77      0.77     57735\n",
      "weighted avg       0.78      0.78      0.78     57735\n",
      "\n"
     ]
    }
   ],
   "source": [
    "print(classification_report(y_test, y_pred_lgb))"
   ]
  },
  {
   "cell_type": "code",
   "execution_count": 75,
   "id": "preceding-stick",
   "metadata": {},
   "outputs": [
    {
     "data": {
      "image/png": "[encoded data removed]",
      "text/plain": [
       "<Figure size 432x288 with 2 Axes>"
      ]
     },
     "metadata": {
      "needs_background": "light"
     },
     "output_type": "display_data"
    }
   ],
   "source": [
    "plot_conf_matrix(y_test, y_pred_lgb, 'LightGBM (default)')"
   ]
  },
  {
   "cell_type": "markdown",
   "id": "accredited-crown",
   "metadata": {},
   "source": [
    "# LightGBM - GridSearchCV"
   ]
  },
  {
   "cell_type": "code",
   "execution_count": 76,
   "id": "understood-combat",
   "metadata": {},
   "outputs": [],
   "source": [
    "model_lgb_gs = lgb.LGBMClassifier(random_state=RSEED)"
   ]
  },
  {
   "cell_type": "code",
   "execution_count": 77,
   "id": "informational-evidence",
   "metadata": {},
   "outputs": [],
   "source": [
    "params_lgb_gs = {\n",
    "    'n_estimators': [100, 400, 700],   # default 100\n",
    "    #'colsample_bytree': [0.7, 0.8, 1.],   # default 1.\n",
    "    'max_depth': [-1, 60, 120],          # default -1\n",
    "    #'num_leaves': [31, 50, 100],      # default 31\n",
    "    #'reg_alpha': [0., 1.1, 1.2],     # default 0.\n",
    "    #'reg_lambda': [0., 1.1, 1.2],     # default 0.\n",
    "    #'min_split_gain': [0.3, 0.4],     # default 0.\n",
    "    #'subsample': [0.7, 0.8, 0.9],     # default 1.\n",
    "    #'subsample_freq': [20]     # default 0\n",
    "    }\n"
   ]
  },
  {
   "cell_type": "code",
   "execution_count": 78,
   "id": "secure-objective",
   "metadata": {},
   "outputs": [],
   "source": [
    "lgb_gs = GridSearchCV(model_lgb_gs, param_grid=params_lgb_gs, scoring='accuracy', cv=5, verbose=5, n_jobs=-1)"
   ]
  },
  {
   "cell_type": "code",
   "execution_count": 82,
   "id": "indoor-diana",
   "metadata": {},
   "outputs": [
    {
     "name": "stdout",
     "output_type": "stream",
     "text": [
      "Fitting 5 folds for each of 9 candidates, totalling 45 fits\n"
     ]
    },
    {
     "data": {
      "text/plain": [
       "['lgb_gs.pickle']"
      ]
     },
     "execution_count": 82,
     "metadata": {},
     "output_type": "execute_result"
    }
   ],
   "source": [
    "#lgb_gs.fit(X_train, y_train)\n",
    "#dump(lgb_gs, \"lgb_gs.pickle\")"
   ]
  },
  {
   "cell_type": "code",
   "execution_count": 83,
   "id": "forced-wonder",
   "metadata": {},
   "outputs": [],
   "source": [
    "lgb_gs = load('./lgb_gs.pickle')"
   ]
  },
  {
   "cell_type": "code",
   "execution_count": 84,
   "id": "eastern-discovery",
   "metadata": {},
   "outputs": [
    {
     "name": "stdout",
     "output_type": "stream",
     "text": [
      "Best score: 0.785\n",
      "Best parameters: {'max_depth': -1, 'n_estimators': 700}\n"
     ]
    }
   ],
   "source": [
    "# Best score\n",
    "print('Best score:', round(lgb_gs.best_score_, 3))\n",
    "# Best parameters\n",
    "print('Best parameters:', lgb_gs.best_params_)"
   ]
  },
  {
   "cell_type": "code",
   "execution_count": 85,
   "id": "furnished-youth",
   "metadata": {},
   "outputs": [],
   "source": [
    "y_pred_lgb_gs = lgb_gs.best_estimator_.predict(X_test)"
   ]
  },
  {
   "cell_type": "code",
   "execution_count": 86,
   "id": "competent-insider",
   "metadata": {},
   "outputs": [
    {
     "name": "stdout",
     "output_type": "stream",
     "text": [
      "              precision    recall  f1-score   support\n",
      "\n",
      "           0       0.73      0.72      0.73     22545\n",
      "           1       0.82      0.83      0.83     35190\n",
      "\n",
      "    accuracy                           0.79     57735\n",
      "   macro avg       0.78      0.78      0.78     57735\n",
      "weighted avg       0.79      0.79      0.79     57735\n",
      "\n"
     ]
    }
   ],
   "source": [
    "print(classification_report(y_test, y_pred_lgb_gs))"
   ]
  },
  {
   "cell_type": "code",
   "execution_count": 87,
   "id": "primary-biology",
   "metadata": {},
   "outputs": [
    {
     "data": {
      "image/png": "[encoded data removed]",
      "text/plain": [
       "<Figure size 432x288 with 2 Axes>"
      ]
     },
     "metadata": {
      "needs_background": "light"
     },
     "output_type": "display_data"
    }
   ],
   "source": [
    "plot_conf_matrix(y_test, y_pred_lgb_gs, 'LightGBM (param grid search)')"
   ]
  },
  {
   "cell_type": "code",
   "execution_count": 103,
   "id": "suspended-driving",
   "metadata": {},
   "outputs": [
    {
     "data": {
      "image/png": "[encoded data removed]",
      "text/plain": [
       "<Figure size 720x360 with 1 Axes>"
      ]
     },
     "metadata": {
      "needs_background": "light"
     },
     "output_type": "display_data"
    }
   ],
   "source": [
    "fig, ax = plt.subplots(figsize=(10,5))\n",
    "lgb.plot_importance(lgb_gs.best_estimator_, max_num_features=10, height=0.8, ax=ax)\n",
    "ax.grid(False)\n",
    "plt.title(\"LightGBM - Feature Importance\", fontsize=15)\n",
    "plt.savefig('feature_importance_top50_lightgbm.png')"
   ]
  },
  {
   "cell_type": "markdown",
   "id": "broken-papua",
   "metadata": {},
   "source": [
    "# XGBoost"
   ]
  },
  {
   "cell_type": "code",
   "execution_count": 89,
   "id": "sound-brighton",
   "metadata": {},
   "outputs": [],
   "source": [
    "model_xgb = xgb.XGBClassifier()"
   ]
  },
  {
   "cell_type": "code",
   "execution_count": 90,
   "id": "protected-tsunami",
   "metadata": {},
   "outputs": [
    {
     "name": "stderr",
     "output_type": "stream",
     "text": [
      "/Users/niknik/neueFische/git/ds-kickstarter-project/.venv/lib/python3.8/site-packages/xgboost/sklearn.py:888: UserWarning: The use of label encoder in XGBClassifier is deprecated and will be removed in a future release. To remove this warning, do the following: 1) Pass option use_label_encoder=False when constructing XGBClassifier object; and 2) Encode your labels (y) as integers starting with 0, i.e. 0, 1, 2, ..., [num_class - 1].\n",
      "  warnings.warn(label_encoder_deprecation_msg, UserWarning)\n"
     ]
    },
    {
     "name": "stdout",
     "output_type": "stream",
     "text": [
      "[15:03:11] WARNING: /Users/travis/build/dmlc/xgboost/src/learner.cc:1061: Starting in XGBoost 1.3.0, the default evaluation metric used with the objective 'binary:logistic' was changed from 'error' to 'logloss'. Explicitly set eval_metric if you'd like to restore the old behavior.\n"
     ]
    },
    {
     "data": {
      "text/plain": [
       "XGBClassifier(base_score=0.5, booster='gbtree', colsample_bylevel=1,\n",
       "              colsample_bynode=1, colsample_bytree=1, gamma=0, gpu_id=-1,\n",
       "              importance_type='gain', interaction_constraints='',\n",
       "              learning_rate=0.300000012, max_delta_step=0, max_depth=6,\n",
       "              min_child_weight=1, missing=nan, monotone_constraints='()',\n",
       "              n_estimators=100, n_jobs=4, num_parallel_tree=1, random_state=0,\n",
       "              reg_alpha=0, reg_lambda=1, scale_pos_weight=1, subsample=1,\n",
       "              tree_method='exact', validate_parameters=1, verbosity=None)"
      ]
     },
     "execution_count": 90,
     "metadata": {},
     "output_type": "execute_result"
    }
   ],
   "source": [
    "model_xgb.fit(X_train, y_train)"
   ]
  },
  {
   "cell_type": "code",
   "execution_count": 91,
   "id": "optimum-basics",
   "metadata": {},
   "outputs": [],
   "source": [
    "y_pred_xgb = model_xgb.predict(X_test)"
   ]
  },
  {
   "cell_type": "code",
   "execution_count": 92,
   "id": "endless-visibility",
   "metadata": {},
   "outputs": [
    {
     "name": "stdout",
     "output_type": "stream",
     "text": [
      "              precision    recall  f1-score   support\n",
      "\n",
      "           0       0.72      0.70      0.71     22545\n",
      "           1       0.81      0.83      0.82     35190\n",
      "\n",
      "    accuracy                           0.78     57735\n",
      "   macro avg       0.77      0.76      0.76     57735\n",
      "weighted avg       0.78      0.78      0.78     57735\n",
      "\n"
     ]
    }
   ],
   "source": [
    "print(classification_report(y_test, y_pred_xgb))"
   ]
  },
  {
   "cell_type": "code",
   "execution_count": 93,
   "id": "occupational-channels",
   "metadata": {},
   "outputs": [
    {
     "data": {
      "image/png": "[encoded data removed]",
      "text/plain": [
       "<Figure size 432x288 with 2 Axes>"
      ]
     },
     "metadata": {
      "needs_background": "light"
     },
     "output_type": "display_data"
    }
   ],
   "source": [
    "plot_conf_matrix(y_test, y_pred_xgb, 'XGBoost (default)')"
   ]
  },
  {
   "cell_type": "markdown",
   "id": "average-river",
   "metadata": {},
   "source": [
    "# Naive Bayes"
   ]
  },
  {
   "cell_type": "code",
   "execution_count": 94,
   "id": "pleasant-needle",
   "metadata": {},
   "outputs": [],
   "source": [
    "model_nb = BernoulliNB()"
   ]
  },
  {
   "cell_type": "code",
   "execution_count": 95,
   "id": "experienced-compilation",
   "metadata": {},
   "outputs": [
    {
     "data": {
      "text/plain": [
       "BernoulliNB()"
      ]
     },
     "execution_count": 95,
     "metadata": {},
     "output_type": "execute_result"
    }
   ],
   "source": [
    "model_nb.fit(X_train, y_train)"
   ]
  },
  {
   "cell_type": "code",
   "execution_count": 96,
   "id": "level-affairs",
   "metadata": {},
   "outputs": [],
   "source": [
    "y_pred_nb = model_nb.predict(X_test)"
   ]
  },
  {
   "cell_type": "code",
   "execution_count": 97,
   "id": "funny-nepal",
   "metadata": {},
   "outputs": [
    {
     "name": "stdout",
     "output_type": "stream",
     "text": [
      "              precision    recall  f1-score   support\n",
      "\n",
      "           0       0.66      0.66      0.66     22545\n",
      "           1       0.78      0.78      0.78     35190\n",
      "\n",
      "    accuracy                           0.73     57735\n",
      "   macro avg       0.72      0.72      0.72     57735\n",
      "weighted avg       0.73      0.73      0.73     57735\n",
      "\n"
     ]
    }
   ],
   "source": [
    "print(classification_report(y_test, y_pred_nb))"
   ]
  },
  {
   "cell_type": "code",
   "execution_count": 98,
   "id": "cardiac-occasion",
   "metadata": {},
   "outputs": [
    {
     "data": {
      "image/png": "[encoded data removed]",
      "text/plain": [
       "<Figure size 432x288 with 2 Axes>"
      ]
     },
     "metadata": {
      "needs_background": "light"
     },
     "output_type": "display_data"
    }
   ],
   "source": [
    "plot_conf_matrix(y_test, y_pred_nb, 'Naive Bayes (default)')"
   ]
  },
  {
   "cell_type": "code",
   "execution_count": null,
   "id": "interpreted-tablet",
   "metadata": {},
   "outputs": [],
   "source": []
  }
 ],
 "metadata": {
  "kernelspec": {
   "display_name": "Python 3",
   "language": "python",
   "name": "python3"
  },
  "language_info": {
   "codemirror_mode": {
    "name": "ipython",
    "version": 3
   },
   "file_extension": ".py",
   "mimetype": "text/x-python",
   "name": "python",
   "nbconvert_exporter": "python",
   "pygments_lexer": "ipython3",
   "version": "3.8.5"
  }
 },
 "nbformat": 4,
 "nbformat_minor": 5
}
