{
 "cells": [
  {
   "cell_type": "code",
   "execution_count": 19,
   "id": "entertaining-integrity",
   "metadata": {},
   "outputs": [],
   "source": [
    "import pandas as pd\n",
    "import numpy as np\n",
    "import seaborn as sns\n",
    "import matplotlib.pyplot as plt\n",
    "from datetime import datetime\n"
   ]
  },
  {
   "cell_type": "code",
   "execution_count": 2,
   "id": "every-silver",
   "metadata": {},
   "outputs": [],
   "source": [
    "def save_dataframe(data, file_name=None):\n",
    "    if file_name:\n",
    "        e = file_name\n",
    "    else:\n",
    "        t = datetime.now().strftime(\"%Y-%m-%d_%H%M%S\")\n",
    "        e = f\"./data_frame_{t}.pickle\"\n",
    "    print('Saving: '+e)\n",
    "    data.to_pickle(e)"
   ]
  },
  {
   "cell_type": "code",
   "execution_count": 3,
   "id": "loved-reply",
   "metadata": {},
   "outputs": [],
   "source": [
    "df_new = pd.read_pickle(\"./data_frame_raw_2021-03-12.pickle\")"
   ]
  },
  {
   "cell_type": "markdown",
   "id": "bridal-calculator",
   "metadata": {},
   "source": [
    "# Extended data frame"
   ]
  },
  {
   "cell_type": "code",
   "execution_count": 4,
   "id": "wired-flash",
   "metadata": {},
   "outputs": [],
   "source": [
    "df_new['duration'] = (df_new.deadline-df_new.launched_at)/(3600*24)\n",
    "df_new['duration'] = df_new['duration'].round(2)"
   ]
  },
  {
   "cell_type": "code",
   "execution_count": 5,
   "id": "exposed-frost",
   "metadata": {},
   "outputs": [],
   "source": [
    "df_new['goal_usd'] = df_new['goal'] * df_new['static_usd_rate']\n",
    "df_new['goal_usd'] = df_new['goal_usd'].round(2)"
   ]
  },
  {
   "cell_type": "code",
   "execution_count": 6,
   "id": "variable-monitor",
   "metadata": {},
   "outputs": [],
   "source": [
    "#df_new['launched_at_full'] = pd.to_datetime(df_new['launched_at'], unit='s')\n",
    "df_new['launched_at_full'] = pd.to_datetime(df_new['launched_at'], unit='s')\n",
    "df_new['launched_at_year'] = pd.DatetimeIndex(df_new['launched_at_full']).year\n",
    "df_new['launched_at_month'] = pd.DatetimeIndex(df_new['launched_at_full']).month"
   ]
  },
  {
   "cell_type": "code",
   "execution_count": 7,
   "id": "noted-county",
   "metadata": {},
   "outputs": [],
   "source": [
    "df_new['created_at_full'] = pd.to_datetime(df_new['created_at'], unit='s')\n",
    "df_new['created_at_year'] = pd.DatetimeIndex(df_new['created_at_full']).year\n",
    "df_new['created_at_month'] = pd.DatetimeIndex(df_new['created_at_full']).month"
   ]
  },
  {
   "cell_type": "code",
   "execution_count": 8,
   "id": "restricted-trash",
   "metadata": {},
   "outputs": [],
   "source": [
    "df_new['deadline_full'] = pd.to_datetime(df_new['deadline'], unit='s')\n",
    "df_new['deadline_year'] = pd.DatetimeIndex(df_new['deadline_full']).year\n",
    "df_new['deadline_month'] = pd.DatetimeIndex(df_new['deadline_full']).month"
   ]
  },
  {
   "cell_type": "code",
   "execution_count": 9,
   "id": "atomic-somewhere",
   "metadata": {},
   "outputs": [
    {
     "name": "stdout",
     "output_type": "stream",
     "text": [
      "Saving: ./data_frame_full_2021-03-12.pickle\n"
     ]
    }
   ],
   "source": [
    "save_dataframe(df_new, './data_frame_full_2021-03-12.pickle')"
   ]
  },
  {
   "cell_type": "markdown",
   "id": "architectural-london",
   "metadata": {},
   "source": [
    "# Reduced data frame"
   ]
  },
  {
   "cell_type": "code",
   "execution_count": 10,
   "id": "unnecessary-hospital",
   "metadata": {
    "collapsed": true,
    "jupyter": {
     "outputs_hidden": true,
     "source_hidden": true
    }
   },
   "outputs": [
    {
     "name": "stdout",
     "output_type": "stream",
     "text": [
      "backers_count\n",
      "0\n",
      "\n",
      "blurb\n",
      "A 2000 year old \"Romeo & Juliet\" love story, set amidst the dramatic changes that ripped through Celtic Britain when Rome invaded...\n",
      "\n",
      "converted_pledged_amount\n",
      "0\n",
      "\n",
      "country\n",
      "GB\n",
      "\n",
      "created_at\n",
      "1446156106\n",
      "\n",
      "currency\n",
      "GBP\n",
      "\n",
      "currency_symbol\n",
      "£\n",
      "\n",
      "currency_trailing_code\n",
      "False\n",
      "\n",
      "current_currency\n",
      "USD\n",
      "\n",
      "deadline\n",
      "1448920860\n",
      "\n",
      "disable_communication\n",
      "False\n",
      "\n",
      "friends\n",
      "nan\n",
      "\n",
      "fx_rate\n",
      "1.32567974\n",
      "\n",
      "goal\n",
      "100000000.0\n",
      "\n",
      "id\n",
      "2000749004\n",
      "\n",
      "is_backing\n",
      "nan\n",
      "\n",
      "is_starrable\n",
      "False\n",
      "\n",
      "is_starred\n",
      "nan\n",
      "\n",
      "launched_at\n",
      "1447717635\n",
      "\n",
      "name\n",
      "A Celtic Lovestory\n",
      "\n",
      "permissions\n",
      "nan\n",
      "\n",
      "pledged\n",
      "0.0\n",
      "\n",
      "slug\n",
      "a-celtic-lovestory\n",
      "\n",
      "source_url\n",
      "https://www.kickstarter.com/discover/categories/film%20&%20video/drama\n",
      "\n",
      "spotlight\n",
      "False\n",
      "\n",
      "staff_pick\n",
      "False\n",
      "\n",
      "state\n",
      "failed\n",
      "\n",
      "state_changed_at\n",
      "1448920860\n",
      "\n",
      "static_usd_rate\n",
      "1.52350076\n",
      "\n",
      "usd_pledged\n",
      "0.0\n",
      "\n",
      "usd_type\n",
      "international\n",
      "\n",
      "category_id\n",
      "293\n",
      "\n",
      "category_name\n",
      "Drama\n",
      "\n",
      "category_slug\n",
      "film & video/drama\n",
      "\n",
      "category_position\n",
      "5\n",
      "\n",
      "category_parent_id\n",
      "11.0\n",
      "\n",
      "category_color\n",
      "16734574\n",
      "\n",
      "category_urls.web.discover\n",
      "http://www.kickstarter.com/discover/categories/film%20&%20video/drama\n",
      "\n",
      "creator_id\n",
      "245190432.0\n",
      "\n",
      "creator_name\n",
      "Joe\n",
      "\n",
      "creator_is_registered\n",
      "nan\n",
      "\n",
      "creator_chosen_currency\n",
      "nan\n",
      "\n",
      "creator_avatar.thumb\n",
      "https://ksr-ugc.imgix.net/assets/010/481/306/9733fb6a6177ef4faa65946ad3302a6d_original.jpg?ixlib=rb-1.1.0&w=40&h=40&fit=crop&v=1461692894&auto=format&frame=1&q=92&s=61a81d9559537fb2d696b7102ec2c025\n",
      "\n",
      "creator_avatar.small\n",
      "https://ksr-ugc.imgix.net/assets/010/481/306/9733fb6a6177ef4faa65946ad3302a6d_original.jpg?ixlib=rb-1.1.0&w=160&h=160&fit=crop&v=1461692894&auto=format&frame=1&q=92&s=fa5146102a51ade66f935c2610d9e72e\n",
      "\n",
      "creator_avatar.medium\n",
      "https://ksr-ugc.imgix.net/assets/010/481/306/9733fb6a6177ef4faa65946ad3302a6d_original.jpg?ixlib=rb-1.1.0&w=160&h=160&fit=crop&v=1461692894&auto=format&frame=1&q=92&s=fa5146102a51ade66f935c2610d9e72e\n",
      "\n",
      "creator_urls.web.user\n",
      "https://www.kickstarter.com/profile/245190432\n",
      "\n",
      "creator_urls.api.user\n",
      "https://api.kickstarter.com/v1/users/245190432?signature=1552626448.97002a0cb9be03937af10296ed1dfb71d089871b\n",
      "\n",
      "creator_slug\n",
      "nan\n",
      "\n",
      "location_id\n",
      "12602183.0\n",
      "\n",
      "location_name\n",
      "Dorset\n",
      "\n",
      "location_slug\n",
      "dorset-gb\n",
      "\n",
      "location_short_name\n",
      "Dorset, UK\n",
      "\n",
      "location_displayable_name\n",
      "Dorset, UK\n",
      "\n",
      "location_localized_name\n",
      "Dorset\n",
      "\n",
      "location_country\n",
      "GB\n",
      "\n",
      "location_state\n",
      "England\n",
      "\n",
      "location_type\n",
      "County\n",
      "\n",
      "location_is_root\n",
      "False\n",
      "\n",
      "location_urls.web.discover\n",
      "https://www.kickstarter.com/discover/places/dorset-gb\n",
      "\n",
      "location_urls.web.location\n",
      "https://www.kickstarter.com/locations/dorset-gb\n",
      "\n",
      "location_urls.api.nearby_projects\n",
      "https://api.kickstarter.com/v1/discover?signature=1552595100.1ab9a0b5c5cc2990ff1725d40c249c6a4f7c7183&woe_id=12602183\n",
      "\n",
      "photo_key\n",
      "assets/012/292/886/67f8879c113e174e1f41465297cdd035_original.jpg\n",
      "\n",
      "photo_full\n",
      "https://ksr-ugc.imgix.net/assets/012/292/886/67f8879c113e174e1f41465297cdd035_original.jpg?ixlib=rb-1.1.0&crop=faces&w=560&h=315&fit=crop&v=1463752126&auto=format&frame=1&q=92&s=887913b68ff9d4cf50b61cadaa78b533\n",
      "\n",
      "photo_ed\n",
      "https://ksr-ugc.imgix.net/assets/012/292/886/67f8879c113e174e1f41465297cdd035_original.jpg?ixlib=rb-1.1.0&crop=faces&w=352&h=198&fit=crop&v=1463752126&auto=format&frame=1&q=92&s=de2553e2d761e5821f69e8612f6e34c1\n",
      "\n",
      "photo_med\n",
      "https://ksr-ugc.imgix.net/assets/012/292/886/67f8879c113e174e1f41465297cdd035_original.jpg?ixlib=rb-1.1.0&crop=faces&w=272&h=153&fit=crop&v=1463752126&auto=format&frame=1&q=92&s=179d8c5c8b07a3fbde1ab91af3e86f3e\n",
      "\n",
      "photo_little\n",
      "https://ksr-ugc.imgix.net/assets/012/292/886/67f8879c113e174e1f41465297cdd035_original.jpg?ixlib=rb-1.1.0&crop=faces&w=208&h=117&fit=crop&v=1463752126&auto=format&frame=1&q=92&s=d58c78c611c7170c868370239bff1be7\n",
      "\n",
      "photo_small\n",
      "https://ksr-ugc.imgix.net/assets/012/292/886/67f8879c113e174e1f41465297cdd035_original.jpg?ixlib=rb-1.1.0&crop=faces&w=160&h=90&fit=crop&v=1463752126&auto=format&frame=1&q=92&s=79e71e2f5121e8ef9f3d55426c096162\n",
      "\n",
      "photo_thumb\n",
      "https://ksr-ugc.imgix.net/assets/012/292/886/67f8879c113e174e1f41465297cdd035_original.jpg?ixlib=rb-1.1.0&crop=faces&w=48&h=27&fit=crop&v=1463752126&auto=format&frame=1&q=92&s=3b40a12276fa0a42225843dabe32d346\n",
      "\n",
      "photo_1024x576\n",
      "https://ksr-ugc.imgix.net/assets/012/292/886/67f8879c113e174e1f41465297cdd035_original.jpg?ixlib=rb-1.1.0&crop=faces&w=1024&h=576&fit=crop&v=1463752126&auto=format&frame=1&q=92&s=f1091f054763b7193bcc9e2af8eb4456\n",
      "\n",
      "photo_1536x864\n",
      "https://ksr-ugc.imgix.net/assets/012/292/886/67f8879c113e174e1f41465297cdd035_original.jpg?ixlib=rb-1.1.0&crop=faces&w=1552&h=873&fit=crop&v=1463752126&auto=format&frame=1&q=92&s=553901c84b45565ff468ccbc284bbad9\n",
      "\n",
      "profile_id\n",
      "2200338.0\n",
      "\n",
      "profile_project_id\n",
      "2200338.0\n",
      "\n",
      "profile_state\n",
      "inactive\n",
      "\n",
      "profile_state_changed_at\n",
      "1446156106.0\n",
      "\n",
      "profile_name\n",
      "None\n",
      "\n",
      "profile_blurb\n",
      "None\n",
      "\n",
      "profile_background_color\n",
      "None\n",
      "\n",
      "profile_text_color\n",
      "None\n",
      "\n",
      "profile_link_background_color\n",
      "None\n",
      "\n",
      "profile_link_text_color\n",
      "None\n",
      "\n",
      "profile_link_text\n",
      "None\n",
      "\n",
      "profile_link_url\n",
      "None\n",
      "\n",
      "profile_show_feature_image\n",
      "False\n",
      "\n",
      "profile_background_image_opacity\n",
      "0.8\n",
      "\n",
      "profile_should_show_feature_image_section\n",
      "True\n",
      "\n",
      "profile_feature_image_attributes.image_urls.default\n",
      "https://ksr-ugc.imgix.net/assets/012/292/886/67f8879c113e174e1f41465297cdd035_original.jpg?ixlib=rb-1.1.0&crop=faces&w=1552&h=873&fit=crop&v=1463752126&auto=format&frame=1&q=92&s=553901c84b45565ff468ccbc284bbad9\n",
      "\n",
      "profile_feature_image_attributes.image_urls.baseball_card\n",
      "https://ksr-ugc.imgix.net/assets/012/292/886/67f8879c113e174e1f41465297cdd035_original.jpg?ixlib=rb-1.1.0&crop=faces&w=560&h=315&fit=crop&v=1463752126&auto=format&frame=1&q=92&s=887913b68ff9d4cf50b61cadaa78b533\n",
      "\n",
      "profile_feature_image_attributes.id\n",
      "nan\n",
      "\n",
      "profile_background_image_attributes.id\n",
      "nan\n",
      "\n",
      "profile_background_image_attributes.image_urls.default\n",
      "nan\n",
      "\n",
      "profile_background_image_attributes.image_urls.baseball_card\n",
      "nan\n",
      "\n",
      "urls_web.project\n",
      "https://www.kickstarter.com/projects/245190432/a-celtic-lovestory?ref=discovery_category_newest\n",
      "\n",
      "urls_web.rewards\n",
      "https://www.kickstarter.com/projects/245190432/a-celtic-lovestory/rewards\n",
      "\n",
      "urls_api.star\n",
      "nan\n",
      "\n",
      "urls_api.message_creator\n",
      "nan\n",
      "\n",
      "urls_web.message_creator\n",
      "nan\n",
      "\n",
      "duration\n",
      "13.93\n",
      "\n",
      "goal_usd\n",
      "152350076.0\n",
      "\n",
      "launched_at_full\n",
      "2015-11-16 23:47:15\n",
      "\n",
      "launched_at_year\n",
      "2015\n",
      "\n",
      "launched_at_month\n",
      "11\n",
      "\n",
      "created_at_full\n",
      "2015-10-29 22:01:46\n",
      "\n",
      "created_at_year\n",
      "2015\n",
      "\n",
      "created_at_month\n",
      "10\n",
      "\n",
      "deadline_full\n",
      "2015-11-30 22:01:00\n",
      "\n",
      "deadline_year\n",
      "2015\n",
      "\n",
      "deadline_month\n",
      "11\n",
      "\n"
     ]
    }
   ],
   "source": [
    "for i , val in df_new.iloc[60060,:].items():\n",
    "    print(i)\n",
    "    print(val)\n",
    "    print()"
   ]
  },
  {
   "cell_type": "code",
   "execution_count": 11,
   "id": "false-break",
   "metadata": {},
   "outputs": [],
   "source": [
    "survival_lst = ['backers_count', 'blurb', 'country', 'created_at', 'currency', 'deadline','disable_communication', 'goal', 'launched_at','name', 'staff_pick','state', \n",
    "                'usd_pledged','usd_type','category_id','category_name','category_slug','category_parent_id', 'location_id', 'location_name','location_type', \n",
    "                'photo_key', 'photo_full', 'duration', 'goal_usd', \n",
    "                'launched_at_full', 'launched_at_year', 'launched_at_month', 'created_at_full', 'created_at_year', 'created_at_month', 'deadline_full', 'deadline_year', 'deadline_month']"
   ]
  },
  {
   "cell_type": "code",
   "execution_count": 12,
   "id": "changing-colon",
   "metadata": {},
   "outputs": [],
   "source": [
    "df_eda = df_new[survival_lst]"
   ]
  },
  {
   "cell_type": "code",
   "execution_count": 13,
   "id": "included-authentication",
   "metadata": {},
   "outputs": [
    {
     "name": "stdout",
     "output_type": "stream",
     "text": [
      "Saving: ./data_frame_small_2021-03-12.pickle\n"
     ]
    }
   ],
   "source": [
    "save_dataframe(df_eda, './data_frame_small_2021-03-12.pickle')"
   ]
  },
  {
   "cell_type": "code",
   "execution_count": 14,
   "id": "sweet-imaging",
   "metadata": {},
   "outputs": [
    {
     "data": {
      "text/html": [
       "<div>\n",
       "<style scoped>\n",
       "    .dataframe tbody tr th:only-of-type {\n",
       "        vertical-align: middle;\n",
       "    }\n",
       "\n",
       "    .dataframe tbody tr th {\n",
       "        vertical-align: top;\n",
       "    }\n",
       "\n",
       "    .dataframe thead th {\n",
       "        text-align: right;\n",
       "    }\n",
       "</style>\n",
       "<table border=\"1\" class=\"dataframe\">\n",
       "  <thead>\n",
       "    <tr style=\"text-align: right;\">\n",
       "      <th></th>\n",
       "      <th>backers_count</th>\n",
       "      <th>blurb</th>\n",
       "      <th>country</th>\n",
       "      <th>created_at</th>\n",
       "      <th>currency</th>\n",
       "      <th>deadline</th>\n",
       "      <th>disable_communication</th>\n",
       "      <th>goal</th>\n",
       "      <th>launched_at</th>\n",
       "      <th>name</th>\n",
       "      <th>...</th>\n",
       "      <th>goal_usd</th>\n",
       "      <th>launched_at_full</th>\n",
       "      <th>launched_at_year</th>\n",
       "      <th>launched_at_month</th>\n",
       "      <th>created_at_full</th>\n",
       "      <th>created_at_year</th>\n",
       "      <th>created_at_month</th>\n",
       "      <th>deadline_full</th>\n",
       "      <th>deadline_year</th>\n",
       "      <th>deadline_month</th>\n",
       "    </tr>\n",
       "  </thead>\n",
       "  <tbody>\n",
       "    <tr>\n",
       "      <th>0</th>\n",
       "      <td>21</td>\n",
       "      <td>2006 was almost 7 years ago.... Can you believ...</td>\n",
       "      <td>US</td>\n",
       "      <td>1387659690</td>\n",
       "      <td>USD</td>\n",
       "      <td>1391899046</td>\n",
       "      <td>False</td>\n",
       "      <td>200.0</td>\n",
       "      <td>1388011046</td>\n",
       "      <td>New Final Round Album</td>\n",
       "      <td>...</td>\n",
       "      <td>200.0</td>\n",
       "      <td>2013-12-25 22:37:26</td>\n",
       "      <td>2013</td>\n",
       "      <td>12</td>\n",
       "      <td>2013-12-21 21:01:30</td>\n",
       "      <td>2013</td>\n",
       "      <td>12</td>\n",
       "      <td>2014-02-08 22:37:26</td>\n",
       "      <td>2014</td>\n",
       "      <td>2</td>\n",
       "    </tr>\n",
       "    <tr>\n",
       "      <th>1</th>\n",
       "      <td>97</td>\n",
       "      <td>An adorable fantasy enamel pin series of princ...</td>\n",
       "      <td>US</td>\n",
       "      <td>1549659768</td>\n",
       "      <td>USD</td>\n",
       "      <td>1551801611</td>\n",
       "      <td>False</td>\n",
       "      <td>400.0</td>\n",
       "      <td>1550073611</td>\n",
       "      <td>Princess Pals Enamel Pin Series</td>\n",
       "      <td>...</td>\n",
       "      <td>400.0</td>\n",
       "      <td>2019-02-13 16:00:11</td>\n",
       "      <td>2019</td>\n",
       "      <td>2</td>\n",
       "      <td>2019-02-08 21:02:48</td>\n",
       "      <td>2019</td>\n",
       "      <td>2</td>\n",
       "      <td>2019-03-05 16:00:11</td>\n",
       "      <td>2019</td>\n",
       "      <td>3</td>\n",
       "    </tr>\n",
       "  </tbody>\n",
       "</table>\n",
       "<p>2 rows × 34 columns</p>\n",
       "</div>"
      ],
      "text/plain": [
       "   backers_count                                              blurb country  \\\n",
       "0             21  2006 was almost 7 years ago.... Can you believ...      US   \n",
       "1             97  An adorable fantasy enamel pin series of princ...      US   \n",
       "\n",
       "   created_at currency    deadline  disable_communication   goal  launched_at  \\\n",
       "0  1387659690      USD  1391899046                  False  200.0   1388011046   \n",
       "1  1549659768      USD  1551801611                  False  400.0   1550073611   \n",
       "\n",
       "                              name  ...  goal_usd    launched_at_full  \\\n",
       "0            New Final Round Album  ...     200.0 2013-12-25 22:37:26   \n",
       "1  Princess Pals Enamel Pin Series  ...     400.0 2019-02-13 16:00:11   \n",
       "\n",
       "   launched_at_year launched_at_month     created_at_full created_at_year  \\\n",
       "0              2013                12 2013-12-21 21:01:30            2013   \n",
       "1              2019                 2 2019-02-08 21:02:48            2019   \n",
       "\n",
       "  created_at_month       deadline_full  deadline_year deadline_month  \n",
       "0               12 2014-02-08 22:37:26           2014              2  \n",
       "1                2 2019-03-05 16:00:11           2019              3  \n",
       "\n",
       "[2 rows x 34 columns]"
      ]
     },
     "execution_count": 14,
     "metadata": {},
     "output_type": "execute_result"
    }
   ],
   "source": [
    "df_eda.head(2)"
   ]
  },
  {
   "cell_type": "code",
   "execution_count": 17,
   "id": "concrete-explanation",
   "metadata": {},
   "outputs": [
    {
     "data": {
      "image/png": "[encoded data removed]",
      "text/plain": [
       "<Figure size 432x288 with 1 Axes>"
      ]
     },
     "metadata": {
      "needs_background": "light"
     },
     "output_type": "display_data"
    }
   ],
   "source": [
    "sns.countplot(data=df_eda, x=\"state\");"
   ]
  },
  {
   "cell_type": "code",
   "execution_count": 20,
   "id": "medical-desktop",
   "metadata": {},
   "outputs": [
    {
     "data": {
      "image/png": "[encoded data removed]",
      "text/plain": [
       "<Figure size 720x432 with 1 Axes>"
      ]
     },
     "metadata": {
      "needs_background": "light"
     },
     "output_type": "display_data"
    }
   ],
   "source": [
    "plt.figure(figsize=(10,6))\n",
    "sns.countplot(data=df_eda, x=\"country\", hue='state', order = df_eda['country'].value_counts().iloc[:8].index);\n",
    "plt.show();"
   ]
  },
  {
   "cell_type": "code",
   "execution_count": 21,
   "id": "multiple-slave",
   "metadata": {},
   "outputs": [
    {
     "data": {
      "image/png": "[encoded data removed]",
      "text/plain": [
       "<Figure size 720x432 with 1 Axes>"
      ]
     },
     "metadata": {
      "needs_background": "light"
     },
     "output_type": "display_data"
    }
   ],
   "source": [
    "plt.figure(figsize=(10,6))\n",
    "sns.countplot(data=df_eda, x=\"category_parent_id\", hue='state', order = df_eda['category_parent_id'].value_counts().iloc[:8].index);\n",
    "plt.show();"
   ]
  },
  {
   "cell_type": "code",
   "execution_count": 22,
   "id": "funky-spider",
   "metadata": {},
   "outputs": [
    {
     "name": "stderr",
     "output_type": "stream",
     "text": [
      "<ipython-input-22-69af653493be>:2: SettingWithCopyWarning: \n",
      "A value is trying to be set on a copy of a slice from a DataFrame.\n",
      "Try using .loc[row_indexer,col_indexer] = value instead\n",
      "\n",
      "See the caveats in the documentation: https://pandas.pydata.org/pandas-docs/stable/user_guide/indexing.html#returning-a-view-versus-a-copy\n",
      "  df_eda['binned_goal'] = pd.cut(df_eda['goal_usd'], bins=bins)\n"
     ]
    }
   ],
   "source": [
    "bins = [0, 5000, 10000, 15000, 20000, 25000, 30000, 50000, 100000, np.inf]\n",
    "df_eda['binned_goal'] = pd.cut(df_eda['goal_usd'], bins=bins)"
   ]
  },
  {
   "cell_type": "code",
   "execution_count": 23,
   "id": "juvenile-slovakia",
   "metadata": {},
   "outputs": [
    {
     "data": {
      "image/png": "[encoded data removed]",
      "text/plain": [
       "<Figure size 1080x576 with 1 Axes>"
      ]
     },
     "metadata": {
      "needs_background": "light"
     },
     "output_type": "display_data"
    }
   ],
   "source": [
    "plt.figure(figsize=(15,8))\n",
    "sns.countplot(data=df_eda, x='binned_goal', hue='state');\n",
    "plt.xticks(rotation=90);"
   ]
  },
  {
   "cell_type": "code",
   "execution_count": 24,
   "id": "lightweight-speaking",
   "metadata": {},
   "outputs": [
    {
     "name": "stderr",
     "output_type": "stream",
     "text": [
      "<ipython-input-24-e9c352b33fca>:2: SettingWithCopyWarning: \n",
      "A value is trying to be set on a copy of a slice from a DataFrame.\n",
      "Try using .loc[row_indexer,col_indexer] = value instead\n",
      "\n",
      "See the caveats in the documentation: https://pandas.pydata.org/pandas-docs/stable/user_guide/indexing.html#returning-a-view-versus-a-copy\n",
      "  df_eda['binned_goal2'] = pd.cut(df_eda['goal_usd'], bins=bins)\n"
     ]
    }
   ],
   "source": [
    "bins2 = [0, 500, 1000, 1500, 2000, 2500, 3000, 5000, 10000, np.inf]\n",
    "df_eda['binned_goal2'] = pd.cut(df_eda['goal_usd'], bins=bins)"
   ]
  },
  {
   "cell_type": "code",
   "execution_count": 25,
   "id": "entitled-morning",
   "metadata": {},
   "outputs": [
    {
     "data": {
      "image/png": "[encoded data removed]",
      "text/plain": [
       "<Figure size 1008x576 with 1 Axes>"
      ]
     },
     "metadata": {
      "needs_background": "light"
     },
     "output_type": "display_data"
    }
   ],
   "source": [
    "plt.figure(figsize=(14,8))\n",
    "sns.countplot(data=df_eda, x='binned_goal2', hue='state');\n",
    "plt.xticks(rotation=90);"
   ]
  },
  {
   "cell_type": "code",
   "execution_count": 26,
   "id": "alive-accordance",
   "metadata": {},
   "outputs": [
    {
     "data": {
      "image/png": "[encoded data removed]",
      "text/plain": [
       "<Figure size 432x288 with 1 Axes>"
      ]
     },
     "metadata": {
      "needs_background": "light"
     },
     "output_type": "display_data"
    }
   ],
   "source": [
    "sns.countplot(data=df_eda, x=\"launched_at_year\");"
   ]
  },
  {
   "cell_type": "code",
   "execution_count": 27,
   "id": "future-cache",
   "metadata": {},
   "outputs": [
    {
     "data": {
      "image/png": "[encoded data removed]",
      "text/plain": [
       "<Figure size 1008x576 with 1 Axes>"
      ]
     },
     "metadata": {
      "needs_background": "light"
     },
     "output_type": "display_data"
    }
   ],
   "source": [
    "plt.figure(figsize=(14,8))\n",
    "sns.barplot(data=df_eda, x=\"launched_at_year\", y= 'backers_count');"
   ]
  },
  {
   "cell_type": "code",
   "execution_count": 28,
   "id": "adjustable-aruba",
   "metadata": {},
   "outputs": [
    {
     "data": {
      "text/html": [
       "<div>\n",
       "<style scoped>\n",
       "    .dataframe tbody tr th:only-of-type {\n",
       "        vertical-align: middle;\n",
       "    }\n",
       "\n",
       "    .dataframe tbody tr th {\n",
       "        vertical-align: top;\n",
       "    }\n",
       "\n",
       "    .dataframe thead th {\n",
       "        text-align: right;\n",
       "    }\n",
       "</style>\n",
       "<table border=\"1\" class=\"dataframe\">\n",
       "  <thead>\n",
       "    <tr style=\"text-align: right;\">\n",
       "      <th></th>\n",
       "      <th>count</th>\n",
       "      <th>mean</th>\n",
       "      <th>std</th>\n",
       "      <th>min</th>\n",
       "      <th>25%</th>\n",
       "      <th>50%</th>\n",
       "      <th>75%</th>\n",
       "      <th>max</th>\n",
       "    </tr>\n",
       "    <tr>\n",
       "      <th>launched_at_year</th>\n",
       "      <th></th>\n",
       "      <th></th>\n",
       "      <th></th>\n",
       "      <th></th>\n",
       "      <th></th>\n",
       "      <th></th>\n",
       "      <th></th>\n",
       "      <th></th>\n",
       "    </tr>\n",
       "  </thead>\n",
       "  <tbody>\n",
       "    <tr>\n",
       "      <th>2009</th>\n",
       "      <td>234.0</td>\n",
       "      <td>54.311966</td>\n",
       "      <td>65.558814</td>\n",
       "      <td>0.0</td>\n",
       "      <td>14.0</td>\n",
       "      <td>35.0</td>\n",
       "      <td>61.75</td>\n",
       "      <td>419.0</td>\n",
       "    </tr>\n",
       "    <tr>\n",
       "      <th>2010</th>\n",
       "      <td>1418.0</td>\n",
       "      <td>65.509873</td>\n",
       "      <td>230.870585</td>\n",
       "      <td>0.0</td>\n",
       "      <td>13.0</td>\n",
       "      <td>35.0</td>\n",
       "      <td>67.00</td>\n",
       "      <td>6479.0</td>\n",
       "    </tr>\n",
       "    <tr>\n",
       "      <th>2011</th>\n",
       "      <td>4234.0</td>\n",
       "      <td>73.555503</td>\n",
       "      <td>194.163096</td>\n",
       "      <td>0.0</td>\n",
       "      <td>15.0</td>\n",
       "      <td>36.0</td>\n",
       "      <td>72.00</td>\n",
       "      <td>5661.0</td>\n",
       "    </tr>\n",
       "    <tr>\n",
       "      <th>2012</th>\n",
       "      <td>8611.0</td>\n",
       "      <td>115.976309</td>\n",
       "      <td>794.316670</td>\n",
       "      <td>0.0</td>\n",
       "      <td>16.0</td>\n",
       "      <td>43.0</td>\n",
       "      <td>92.00</td>\n",
       "      <td>63416.0</td>\n",
       "    </tr>\n",
       "    <tr>\n",
       "      <th>2013</th>\n",
       "      <td>11325.0</td>\n",
       "      <td>235.918411</td>\n",
       "      <td>1707.632394</td>\n",
       "      <td>0.0</td>\n",
       "      <td>19.0</td>\n",
       "      <td>53.0</td>\n",
       "      <td>119.00</td>\n",
       "      <td>91585.0</td>\n",
       "    </tr>\n",
       "    <tr>\n",
       "      <th>2014</th>\n",
       "      <td>28121.0</td>\n",
       "      <td>110.159881</td>\n",
       "      <td>836.539087</td>\n",
       "      <td>0.0</td>\n",
       "      <td>2.0</td>\n",
       "      <td>19.0</td>\n",
       "      <td>72.00</td>\n",
       "      <td>105857.0</td>\n",
       "    </tr>\n",
       "    <tr>\n",
       "      <th>2015</th>\n",
       "      <td>39376.0</td>\n",
       "      <td>101.947633</td>\n",
       "      <td>917.974390</td>\n",
       "      <td>0.0</td>\n",
       "      <td>1.0</td>\n",
       "      <td>11.0</td>\n",
       "      <td>56.00</td>\n",
       "      <td>73206.0</td>\n",
       "    </tr>\n",
       "    <tr>\n",
       "      <th>2016</th>\n",
       "      <td>30584.0</td>\n",
       "      <td>111.795612</td>\n",
       "      <td>552.836434</td>\n",
       "      <td>0.0</td>\n",
       "      <td>2.0</td>\n",
       "      <td>18.0</td>\n",
       "      <td>73.00</td>\n",
       "      <td>35550.0</td>\n",
       "    </tr>\n",
       "    <tr>\n",
       "      <th>2017</th>\n",
       "      <td>31052.0</td>\n",
       "      <td>135.977361</td>\n",
       "      <td>674.045270</td>\n",
       "      <td>0.0</td>\n",
       "      <td>3.0</td>\n",
       "      <td>23.0</td>\n",
       "      <td>86.00</td>\n",
       "      <td>26828.0</td>\n",
       "    </tr>\n",
       "    <tr>\n",
       "      <th>2018</th>\n",
       "      <td>42089.0</td>\n",
       "      <td>221.367935</td>\n",
       "      <td>902.450841</td>\n",
       "      <td>0.0</td>\n",
       "      <td>13.0</td>\n",
       "      <td>50.0</td>\n",
       "      <td>142.00</td>\n",
       "      <td>41939.0</td>\n",
       "    </tr>\n",
       "    <tr>\n",
       "      <th>2019</th>\n",
       "      <td>12178.0</td>\n",
       "      <td>186.122927</td>\n",
       "      <td>1087.570971</td>\n",
       "      <td>0.0</td>\n",
       "      <td>6.0</td>\n",
       "      <td>29.0</td>\n",
       "      <td>99.00</td>\n",
       "      <td>52981.0</td>\n",
       "    </tr>\n",
       "  </tbody>\n",
       "</table>\n",
       "</div>"
      ],
      "text/plain": [
       "                    count        mean          std  min   25%   50%     75%  \\\n",
       "launched_at_year                                                              \n",
       "2009                234.0   54.311966    65.558814  0.0  14.0  35.0   61.75   \n",
       "2010               1418.0   65.509873   230.870585  0.0  13.0  35.0   67.00   \n",
       "2011               4234.0   73.555503   194.163096  0.0  15.0  36.0   72.00   \n",
       "2012               8611.0  115.976309   794.316670  0.0  16.0  43.0   92.00   \n",
       "2013              11325.0  235.918411  1707.632394  0.0  19.0  53.0  119.00   \n",
       "2014              28121.0  110.159881   836.539087  0.0   2.0  19.0   72.00   \n",
       "2015              39376.0  101.947633   917.974390  0.0   1.0  11.0   56.00   \n",
       "2016              30584.0  111.795612   552.836434  0.0   2.0  18.0   73.00   \n",
       "2017              31052.0  135.977361   674.045270  0.0   3.0  23.0   86.00   \n",
       "2018              42089.0  221.367935   902.450841  0.0  13.0  50.0  142.00   \n",
       "2019              12178.0  186.122927  1087.570971  0.0   6.0  29.0   99.00   \n",
       "\n",
       "                       max  \n",
       "launched_at_year            \n",
       "2009                 419.0  \n",
       "2010                6479.0  \n",
       "2011                5661.0  \n",
       "2012               63416.0  \n",
       "2013               91585.0  \n",
       "2014              105857.0  \n",
       "2015               73206.0  \n",
       "2016               35550.0  \n",
       "2017               26828.0  \n",
       "2018               41939.0  \n",
       "2019               52981.0  "
      ]
     },
     "execution_count": 28,
     "metadata": {},
     "output_type": "execute_result"
    }
   ],
   "source": [
    "df_year = df_eda.groupby('launched_at_year')\n",
    "df_year.backers_count.describe()"
   ]
  },
  {
   "cell_type": "code",
   "execution_count": 29,
   "id": "broken-shepherd",
   "metadata": {},
   "outputs": [
    {
     "data": {
      "image/png": "[encoded data removed]",
      "text/plain": [
       "<Figure size 432x288 with 1 Axes>"
      ]
     },
     "metadata": {
      "needs_background": "light"
     },
     "output_type": "display_data"
    }
   ],
   "source": [
    "sns.barplot(data=df_eda, x = df_eda.category_parent_id, y= 'backers_count', order = df_eda['category_parent_id'].value_counts('backers_count').iloc[:8].index);"
   ]
  },
  {
   "cell_type": "code",
   "execution_count": null,
   "id": "gorgeous-summit",
   "metadata": {},
   "outputs": [],
   "source": [
    "df_country = df_eda.groupby('country').mean()\n",
    "df_country.head()"
   ]
  },
  {
   "cell_type": "code",
   "execution_count": null,
   "id": "remarkable-little",
   "metadata": {},
   "outputs": [],
   "source": [
    "df_category = df_eda.groupby('category_parent_id').mean()\n",
    "df_category.head(5)"
   ]
  },
  {
   "cell_type": "code",
   "execution_count": 30,
   "id": "settled-judge",
   "metadata": {},
   "outputs": [
    {
     "data": {
      "image/png": "[encoded data removed]",
      "text/plain": [
       "<Figure size 1008x576 with 1 Axes>"
      ]
     },
     "metadata": {
      "needs_background": "light"
     },
     "output_type": "display_data"
    }
   ],
   "source": [
    "plt.figure(figsize=(14,8))\n",
    "sns.barplot(data=df_eda, x= df_eda.category_parent_id, y=df_eda.backers_count); "
   ]
  },
  {
   "cell_type": "code",
   "execution_count": 31,
   "id": "unable-carroll",
   "metadata": {},
   "outputs": [
    {
     "data": {
      "image/png": "[encoded data removed]",
      "text/plain": [
       "<Figure size 1008x576 with 1 Axes>"
      ]
     },
     "metadata": {
      "needs_background": "light"
     },
     "output_type": "display_data"
    }
   ],
   "source": [
    "plt.figure(figsize=(14,8))\n",
    "sns.barplot(data=df_eda, x= df_eda.country, y=df_eda.backers_count); "
   ]
  },
  {
   "cell_type": "code",
   "execution_count": 32,
   "id": "lovely-athens",
   "metadata": {},
   "outputs": [
    {
     "data": {
      "text/plain": [
       "Text(0, 0.5, 'Y Label')"
      ]
     },
     "execution_count": 32,
     "metadata": {},
     "output_type": "execute_result"
    },
    {
     "data": {
      "image/png": "[encoded data removed]",
      "text/plain": [
       "<Figure size 1008x576 with 1 Axes>"
      ]
     },
     "metadata": {
      "needs_background": "light"
     },
     "output_type": "display_data"
    }
   ],
   "source": [
    "plt.figure(figsize=(14,8))\n",
    "ax = sns.boxplot(x=\"state\", y=\"goal_usd\", data=df_eda)\n",
    "ax.set(ylim=(0, 30000))\n",
    "ax.tick_params(labelsize=10)\n",
    "ax.set_title(\"Title\",fontsize=50)\n",
    "ax.set_ylabel(\"Y Label\",fontsize=20)"
   ]
  },
  {
   "cell_type": "code",
   "execution_count": null,
   "id": "fitting-lafayette",
   "metadata": {},
   "outputs": [],
   "source": []
  }
 ],
 "metadata": {
  "kernelspec": {
   "display_name": "Python 3",
   "language": "python",
   "name": "python3"
  },
  "language_info": {
   "codemirror_mode": {
    "name": "ipython",
    "version": 3
   },
   "file_extension": ".py",
   "mimetype": "text/x-python",
   "name": "python",
   "nbconvert_exporter": "python",
   "pygments_lexer": "ipython3",
   "version": "3.8.5"
  }
 },
 "nbformat": 4,
 "nbformat_minor": 5
}
