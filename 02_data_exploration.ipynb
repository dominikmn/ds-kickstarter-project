{
 "cells": [
  {
   "cell_type": "code",
   "execution_count": 1,
   "id": "asian-gateway",
   "metadata": {},
   "outputs": [],
   "source": [
    "import pandas as pd\n",
    "import numpy as np\n",
    "import seaborn as sns\n",
    "import json\n",
    "from datetime import datetime"
   ]
  },
  {
   "cell_type": "code",
   "execution_count": 4,
   "id": "southeast-niger",
   "metadata": {},
   "outputs": [],
   "source": [
    "df_full = pd.read_pickle(\"./data_frame_full_2021-03-11_200900\")"
   ]
  },
  {
   "cell_type": "code",
   "execution_count": 5,
   "id": "sunrise-scanner",
   "metadata": {},
   "outputs": [
    {
     "name": "stdout",
     "output_type": "stream",
     "text": [
      "<class 'pandas.core.frame.DataFrame'>\n",
      "RangeIndex: 209222 entries, 0 to 209221\n",
      "Columns: 101 entries, backers_count to launched_at_month\n",
      "dtypes: bool(5), datetime64[ns](1), float64(18), int64(12), object(65)\n",
      "memory usage: 154.2+ MB\n"
     ]
    }
   ],
   "source": [
    "df_full.info()"
   ]
  },
  {
   "cell_type": "code",
   "execution_count": 6,
   "id": "historic-journalism",
   "metadata": {},
   "outputs": [],
   "source": [
    "df_small = pd.read_pickle(\"./data_frame_small_2021-03-11_200900\")"
   ]
  },
  {
   "cell_type": "code",
   "execution_count": 7,
   "id": "answering-somerset",
   "metadata": {},
   "outputs": [
    {
     "name": "stdout",
     "output_type": "stream",
     "text": [
      "<class 'pandas.core.frame.DataFrame'>\n",
      "RangeIndex: 209222 entries, 0 to 209221\n",
      "Data columns (total 27 columns):\n",
      " #   Column                 Non-Null Count   Dtype         \n",
      "---  ------                 --------------   -----         \n",
      " 0   blurb                  209214 non-null  object        \n",
      " 1   country                209222 non-null  object        \n",
      " 2   created_at             209222 non-null  int64         \n",
      " 3   currency               209222 non-null  object        \n",
      " 4   deadline               209222 non-null  int64         \n",
      " 5   disable_communication  209222 non-null  bool          \n",
      " 6   goal                   209222 non-null  float64       \n",
      " 7   launched_at            209222 non-null  int64         \n",
      " 8   name                   209222 non-null  object        \n",
      " 9   staff_pick             209222 non-null  bool          \n",
      " 10  state                  209222 non-null  object        \n",
      " 11  usd_pledged            209222 non-null  float64       \n",
      " 12  usd_type               208742 non-null  object        \n",
      " 13  category_id            209222 non-null  int64         \n",
      " 14  category_name          209222 non-null  object        \n",
      " 15  category_slug          209222 non-null  object        \n",
      " 16  category_parent_id     200181 non-null  float64       \n",
      " 17  location_id            208996 non-null  float64       \n",
      " 18  location_name          208996 non-null  object        \n",
      " 19  location_type          208996 non-null  object        \n",
      " 20  photo_key              209219 non-null  object        \n",
      " 21  photo_full             209222 non-null  object        \n",
      " 22  duration               209222 non-null  float64       \n",
      " 23  goal_usd               209222 non-null  float64       \n",
      " 24  launched_at_full       209222 non-null  datetime64[ns]\n",
      " 25  launched_at_year       209222 non-null  int64         \n",
      " 26  launched_at_month      209222 non-null  int64         \n",
      "dtypes: bool(2), datetime64[ns](1), float64(6), int64(6), object(12)\n",
      "memory usage: 40.3+ MB\n"
     ]
    }
   ],
   "source": [
    "df_small.info()"
   ]
  },
  {
   "cell_type": "markdown",
   "id": "statutory-travel",
   "metadata": {},
   "source": [
    "## Target classes and balance"
   ]
  },
  {
   "cell_type": "code",
   "execution_count": 13,
   "id": "advised-administration",
   "metadata": {},
   "outputs": [
    {
     "data": {
      "text/plain": [
       "successful    117465\n",
       "failed         75199\n",
       "canceled        8624\n",
       "live            7311\n",
       "suspended        623\n",
       "Name: state, dtype: int64"
      ]
     },
     "execution_count": 13,
     "metadata": {},
     "output_type": "execute_result"
    }
   ],
   "source": [
    "vals = df_full['state'].value_counts()\n",
    "vals"
   ]
  },
  {
   "cell_type": "code",
   "execution_count": 19,
   "id": "received-luxury",
   "metadata": {},
   "outputs": [
    {
     "name": "stdout",
     "output_type": "stream",
     "text": [
      "Portion of success: 60.97%\n",
      "Portion of fail:    39.03%\n"
     ]
    }
   ],
   "source": [
    "print('Portion of success: {:.2f}%'.format( 100*vals[0] / (vals[0]+vals[1]) ))\n",
    "print('Portion of fail:    {:.2f}%'.format( 100*vals[1] / (vals[0]+vals[1]) ))"
   ]
  },
  {
   "cell_type": "markdown",
   "id": "daily-fellowship",
   "metadata": {},
   "source": [
    "We have a sligth imbalance."
   ]
  },
  {
   "cell_type": "markdown",
   "id": "convertible-offense",
   "metadata": {},
   "source": [
    "## Date time"
   ]
  },
  {
   "cell_type": "code",
   "execution_count": 21,
   "id": "internal-aircraft",
   "metadata": {},
   "outputs": [
    {
     "data": {
      "text/plain": [
       "count                           209222\n",
       "mean     2016-05-09 23:50:25.225296640\n",
       "min                2009-05-03 07:00:17\n",
       "25%      2015-01-05 19:16:23.750000128\n",
       "50%                2016-05-31 15:31:38\n",
       "75%                2018-02-23 06:04:15\n",
       "max                2019-03-14 04:12:21\n",
       "Name: state_changed_at, dtype: object"
      ]
     },
     "execution_count": 21,
     "metadata": {},
     "output_type": "execute_result"
    }
   ],
   "source": [
    "pd.to_datetime(df_full['state_changed_at'], unit='s').describe(datetime_is_numeric=True)"
   ]
  },
  {
   "cell_type": "markdown",
   "id": "motivated-emission",
   "metadata": {},
   "source": [
    "## Country"
   ]
  },
  {
   "cell_type": "code",
   "execution_count": 22,
   "id": "large-asbestos",
   "metadata": {},
   "outputs": [],
   "source": [
    "ratio = lambda x: 100*round(x.value_counts()['successful'] / (x.value_counts()['successful'] + x.value_counts()['failed'] + x.value_counts()['canceled']), 4)"
   ]
  },
  {
   "cell_type": "code",
   "execution_count": null,
   "id": "otherwise-earth",
   "metadata": {},
   "outputs": [],
   "source": [
    "success_per_country = pd.pivot_table(df, index='country', values='state', aggfunc=ratio).rename(columns={'state':'success_ratio'}).sort_values(by='success_ratio', ascending=False)\n",
    "success_per_country"
   ]
  },
  {
   "cell_type": "code",
   "execution_count": null,
   "id": "impressive-indianapolis",
   "metadata": {},
   "outputs": [],
   "source": [
    "from matplotlib.pyplot import xcorr\n",
    "sns.barplot(data=success_per_country.reset_index(), y='country', x='success_ratio')"
   ]
  },
  {
   "cell_type": "markdown",
   "id": "pediatric-typing",
   "metadata": {},
   "source": [
    "## Amounts: converted_pledged_amount, exchange rate"
   ]
  },
  {
   "cell_type": "code",
   "execution_count": 8,
   "id": "strategic-shareware",
   "metadata": {},
   "outputs": [
    {
     "data": {
      "text/plain": [
       "count    2.092220e+05\n",
       "mean    -8.551623e+01\n",
       "std      1.270609e+04\n",
       "min     -1.771501e+06\n",
       "25%      0.000000e+00\n",
       "50%      0.000000e+00\n",
       "75%      0.000000e+00\n",
       "max      9.330207e+05\n",
       "dtype: float64"
      ]
     },
     "execution_count": 8,
     "metadata": {},
     "output_type": "execute_result"
    }
   ],
   "source": [
    "currency_delta = df['converted_pledged_amount'].astype(float) - df['usd_pledged'] * df['static_usd_rate']\n",
    "currency_delta.describe()"
   ]
  },
  {
   "cell_type": "code",
   "execution_count": 10,
   "id": "exposed-corrections",
   "metadata": {},
   "outputs": [
    {
     "data": {
      "text/html": [
       "<div>\n",
       "<style scoped>\n",
       "    .dataframe tbody tr th:only-of-type {\n",
       "        vertical-align: middle;\n",
       "    }\n",
       "\n",
       "    .dataframe tbody tr th {\n",
       "        vertical-align: top;\n",
       "    }\n",
       "\n",
       "    .dataframe thead th {\n",
       "        text-align: right;\n",
       "    }\n",
       "</style>\n",
       "<table border=\"1\" class=\"dataframe\">\n",
       "  <thead>\n",
       "    <tr style=\"text-align: right;\">\n",
       "      <th></th>\n",
       "      <th>country</th>\n",
       "      <th>converted_pledged_amount</th>\n",
       "      <th>currency</th>\n",
       "      <th>currency_symbol</th>\n",
       "      <th>fx_rate</th>\n",
       "      <th>usd_pledged</th>\n",
       "      <th>usd_type</th>\n",
       "    </tr>\n",
       "  </thead>\n",
       "  <tbody>\n",
       "    <tr>\n",
       "      <th>56</th>\n",
       "      <td>SG</td>\n",
       "      <td>19699</td>\n",
       "      <td>SGD</td>\n",
       "      <td>$</td>\n",
       "      <td>0.737115</td>\n",
       "      <td>19338.586040</td>\n",
       "      <td>international</td>\n",
       "    </tr>\n",
       "    <tr>\n",
       "      <th>83</th>\n",
       "      <td>NO</td>\n",
       "      <td>2182</td>\n",
       "      <td>NOK</td>\n",
       "      <td>kr</td>\n",
       "      <td>0.115720</td>\n",
       "      <td>2088.859902</td>\n",
       "      <td>domestic</td>\n",
       "    </tr>\n",
       "  </tbody>\n",
       "</table>\n",
       "</div>"
      ],
      "text/plain": [
       "   country  converted_pledged_amount currency currency_symbol   fx_rate  \\\n",
       "56      SG                     19699      SGD               $  0.737115   \n",
       "83      NO                      2182      NOK              kr  0.115720   \n",
       "\n",
       "     usd_pledged       usd_type  \n",
       "56  19338.586040  international  \n",
       "83   2088.859902       domestic  "
      ]
     },
     "execution_count": 10,
     "metadata": {},
     "output_type": "execute_result"
    }
   ],
   "source": [
    "currency_cols = ['country', 'converted_pledged_amount', 'currency', 'currency_symbol', 'fx_rate', 'usd_pledged', 'usd_type']\n",
    "df[currency_delta > 900][currency_cols].head(2)"
   ]
  },
  {
   "cell_type": "code",
   "execution_count": null,
   "id": "neutral-present",
   "metadata": {},
   "outputs": [],
   "source": []
  }
 ],
 "metadata": {
  "kernelspec": {
   "display_name": "Python 3",
   "language": "python",
   "name": "python3"
  },
  "language_info": {
   "codemirror_mode": {
    "name": "ipython",
    "version": 3
   },
   "file_extension": ".py",
   "mimetype": "text/x-python",
   "name": "python",
   "nbconvert_exporter": "python",
   "pygments_lexer": "ipython3",
   "version": "3.8.5"
  }
 },
 "nbformat": 4,
 "nbformat_minor": 5
}
