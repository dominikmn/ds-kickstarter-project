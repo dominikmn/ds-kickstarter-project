{
 "cells": [
  {
   "cell_type": "code",
   "execution_count": 14,
   "metadata": {},
   "outputs": [],
   "source": [
    "import pandas as pd\n",
    "import numpy as np\n",
    "import seaborn as sns"
   ]
  },
  {
   "cell_type": "code",
   "execution_count": 2,
   "metadata": {},
   "outputs": [],
   "source": [
    "df_lst = []\n",
    "for i in range(56):\n",
    "    df_lst.append( pd.read_csv('./data/Kickstarter{:03d}.csv'.format(i)) )\n"
   ]
  },
  {
   "cell_type": "code",
   "execution_count": 7,
   "metadata": {},
   "outputs": [],
   "source": [
    "df = pd.concat(df_lst, ignore_index=True)"
   ]
  },
  {
   "cell_type": "code",
   "execution_count": 9,
   "metadata": {},
   "outputs": [
    {
     "name": "stdout",
     "output_type": "stream",
     "text": [
      "<class 'pandas.core.frame.DataFrame'>\n",
      "RangeIndex: 209222 entries, 0 to 209221\n",
      "Data columns (total 37 columns):\n",
      " #   Column                    Non-Null Count   Dtype  \n",
      "---  ------                    --------------   -----  \n",
      " 0   backers_count             209222 non-null  int64  \n",
      " 1   blurb                     209214 non-null  object \n",
      " 2   category                  209222 non-null  object \n",
      " 3   converted_pledged_amount  209222 non-null  int64  \n",
      " 4   country                   209222 non-null  object \n",
      " 5   created_at                209222 non-null  int64  \n",
      " 6   creator                   209222 non-null  object \n",
      " 7   currency                  209222 non-null  object \n",
      " 8   currency_symbol           209222 non-null  object \n",
      " 9   currency_trailing_code    209222 non-null  bool   \n",
      " 10  current_currency          209222 non-null  object \n",
      " 11  deadline                  209222 non-null  int64  \n",
      " 12  disable_communication     209222 non-null  bool   \n",
      " 13  friends                   300 non-null     object \n",
      " 14  fx_rate                   209222 non-null  float64\n",
      " 15  goal                      209222 non-null  float64\n",
      " 16  id                        209222 non-null  int64  \n",
      " 17  is_backing                300 non-null     object \n",
      " 18  is_starrable              209222 non-null  bool   \n",
      " 19  is_starred                300 non-null     object \n",
      " 20  launched_at               209222 non-null  int64  \n",
      " 21  location                  208996 non-null  object \n",
      " 22  name                      209222 non-null  object \n",
      " 23  permissions               300 non-null     object \n",
      " 24  photo                     209222 non-null  object \n",
      " 25  pledged                   209222 non-null  float64\n",
      " 26  profile                   209222 non-null  object \n",
      " 27  slug                      209222 non-null  object \n",
      " 28  source_url                209222 non-null  object \n",
      " 29  spotlight                 209222 non-null  bool   \n",
      " 30  staff_pick                209222 non-null  bool   \n",
      " 31  state                     209222 non-null  object \n",
      " 32  state_changed_at          209222 non-null  int64  \n",
      " 33  static_usd_rate           209222 non-null  float64\n",
      " 34  urls                      209222 non-null  object \n",
      " 35  usd_pledged               209222 non-null  float64\n",
      " 36  usd_type                  208742 non-null  object \n",
      "dtypes: bool(5), float64(5), int64(7), object(20)\n",
      "memory usage: 52.1+ MB\n"
     ]
    }
   ],
   "source": [
    "df.info()"
   ]
  },
  {
   "cell_type": "code",
   "execution_count": 10,
   "metadata": {},
   "outputs": [
    {
     "data": {
      "text/html": "<div>\n<style scoped>\n    .dataframe tbody tr th:only-of-type {\n        vertical-align: middle;\n    }\n\n    .dataframe tbody tr th {\n        vertical-align: top;\n    }\n\n    .dataframe thead th {\n        text-align: right;\n    }\n</style>\n<table border=\"1\" class=\"dataframe\">\n  <thead>\n    <tr style=\"text-align: right;\">\n      <th></th>\n      <th>backers_count</th>\n      <th>blurb</th>\n      <th>category</th>\n      <th>converted_pledged_amount</th>\n      <th>country</th>\n      <th>created_at</th>\n      <th>creator</th>\n      <th>currency</th>\n      <th>currency_symbol</th>\n      <th>currency_trailing_code</th>\n      <th>...</th>\n      <th>slug</th>\n      <th>source_url</th>\n      <th>spotlight</th>\n      <th>staff_pick</th>\n      <th>state</th>\n      <th>state_changed_at</th>\n      <th>static_usd_rate</th>\n      <th>urls</th>\n      <th>usd_pledged</th>\n      <th>usd_type</th>\n    </tr>\n  </thead>\n  <tbody>\n    <tr>\n      <th>0</th>\n      <td>21</td>\n      <td>2006 was almost 7 years ago.... Can you believ...</td>\n      <td>{\"id\":43,\"name\":\"Rock\",\"slug\":\"music/rock\",\"po...</td>\n      <td>802</td>\n      <td>US</td>\n      <td>1387659690</td>\n      <td>{\"id\":1495925645,\"name\":\"Daniel\",\"is_registere...</td>\n      <td>USD</td>\n      <td>$</td>\n      <td>True</td>\n      <td>...</td>\n      <td>new-final-round-album</td>\n      <td>https://www.kickstarter.com/discover/categorie...</td>\n      <td>True</td>\n      <td>False</td>\n      <td>successful</td>\n      <td>1391899046</td>\n      <td>1.000000</td>\n      <td>{\"web\":{\"project\":\"https://www.kickstarter.com...</td>\n      <td>802.00000</td>\n      <td>international</td>\n    </tr>\n    <tr>\n      <th>1</th>\n      <td>97</td>\n      <td>An adorable fantasy enamel pin series of princ...</td>\n      <td>{\"id\":54,\"name\":\"Mixed Media\",\"slug\":\"art/mixe...</td>\n      <td>2259</td>\n      <td>US</td>\n      <td>1549659768</td>\n      <td>{\"id\":1175589980,\"name\":\"Katherine\",\"slug\":\"fr...</td>\n      <td>USD</td>\n      <td>$</td>\n      <td>True</td>\n      <td>...</td>\n      <td>princess-pals-enamel-pin-series</td>\n      <td>https://www.kickstarter.com/discover/categorie...</td>\n      <td>True</td>\n      <td>False</td>\n      <td>successful</td>\n      <td>1551801611</td>\n      <td>1.000000</td>\n      <td>{\"web\":{\"project\":\"https://www.kickstarter.com...</td>\n      <td>2259.00000</td>\n      <td>international</td>\n    </tr>\n    <tr>\n      <th>2</th>\n      <td>88</td>\n      <td>Helping a community come together to set the s...</td>\n      <td>{\"id\":280,\"name\":\"Photobooks\",\"slug\":\"photogra...</td>\n      <td>29638</td>\n      <td>US</td>\n      <td>1477242384</td>\n      <td>{\"id\":1196856269,\"name\":\"MelissaThomas\",\"is_re...</td>\n      <td>USD</td>\n      <td>$</td>\n      <td>True</td>\n      <td>...</td>\n      <td>their-life-through-their-lens-the-amish-and-me...</td>\n      <td>https://www.kickstarter.com/discover/categorie...</td>\n      <td>True</td>\n      <td>True</td>\n      <td>successful</td>\n      <td>1480607932</td>\n      <td>1.000000</td>\n      <td>{\"web\":{\"project\":\"https://www.kickstarter.com...</td>\n      <td>29638.00000</td>\n      <td>international</td>\n    </tr>\n    <tr>\n      <th>3</th>\n      <td>193</td>\n      <td>Every revolution starts from the bottom and we...</td>\n      <td>{\"id\":266,\"name\":\"Footwear\",\"slug\":\"fashion/fo...</td>\n      <td>49158</td>\n      <td>IT</td>\n      <td>1540369920</td>\n      <td>{\"id\":1569700626,\"name\":\"WAO\",\"slug\":\"wearewao...</td>\n      <td>EUR</td>\n      <td>€</td>\n      <td>False</td>\n      <td>...</td>\n      <td>wao-the-eco-effect-shoes</td>\n      <td>https://www.kickstarter.com/discover/categorie...</td>\n      <td>True</td>\n      <td>False</td>\n      <td>successful</td>\n      <td>1544309940</td>\n      <td>1.136525</td>\n      <td>{\"web\":{\"project\":\"https://www.kickstarter.com...</td>\n      <td>49075.15252</td>\n      <td>international</td>\n    </tr>\n    <tr>\n      <th>4</th>\n      <td>20</td>\n      <td>Learn to build 10+ Applications in this comple...</td>\n      <td>{\"id\":51,\"name\":\"Software\",\"slug\":\"technology/...</td>\n      <td>549</td>\n      <td>US</td>\n      <td>1425706517</td>\n      <td>{\"id\":1870845385,\"name\":\"Kalpit Jain\",\"is_regi...</td>\n      <td>USD</td>\n      <td>$</td>\n      <td>True</td>\n      <td>...</td>\n      <td>apple-watch-development-course</td>\n      <td>https://www.kickstarter.com/discover/categorie...</td>\n      <td>False</td>\n      <td>False</td>\n      <td>failed</td>\n      <td>1428511019</td>\n      <td>1.000000</td>\n      <td>{\"web\":{\"project\":\"https://www.kickstarter.com...</td>\n      <td>549.00000</td>\n      <td>domestic</td>\n    </tr>\n  </tbody>\n</table>\n<p>5 rows × 37 columns</p>\n</div>",
      "text/plain": "   backers_count                                              blurb  \\\n0             21  2006 was almost 7 years ago.... Can you believ...   \n1             97  An adorable fantasy enamel pin series of princ...   \n2             88  Helping a community come together to set the s...   \n3            193  Every revolution starts from the bottom and we...   \n4             20  Learn to build 10+ Applications in this comple...   \n\n                                            category  \\\n0  {\"id\":43,\"name\":\"Rock\",\"slug\":\"music/rock\",\"po...   \n1  {\"id\":54,\"name\":\"Mixed Media\",\"slug\":\"art/mixe...   \n2  {\"id\":280,\"name\":\"Photobooks\",\"slug\":\"photogra...   \n3  {\"id\":266,\"name\":\"Footwear\",\"slug\":\"fashion/fo...   \n4  {\"id\":51,\"name\":\"Software\",\"slug\":\"technology/...   \n\n   converted_pledged_amount country  created_at  \\\n0                       802      US  1387659690   \n1                      2259      US  1549659768   \n2                     29638      US  1477242384   \n3                     49158      IT  1540369920   \n4                       549      US  1425706517   \n\n                                             creator currency currency_symbol  \\\n0  {\"id\":1495925645,\"name\":\"Daniel\",\"is_registere...      USD               $   \n1  {\"id\":1175589980,\"name\":\"Katherine\",\"slug\":\"fr...      USD               $   \n2  {\"id\":1196856269,\"name\":\"MelissaThomas\",\"is_re...      USD               $   \n3  {\"id\":1569700626,\"name\":\"WAO\",\"slug\":\"wearewao...      EUR               €   \n4  {\"id\":1870845385,\"name\":\"Kalpit Jain\",\"is_regi...      USD               $   \n\n   currency_trailing_code  ...  \\\n0                    True  ...   \n1                    True  ...   \n2                    True  ...   \n3                   False  ...   \n4                    True  ...   \n\n                                                slug  \\\n0                              new-final-round-album   \n1                    princess-pals-enamel-pin-series   \n2  their-life-through-their-lens-the-amish-and-me...   \n3                           wao-the-eco-effect-shoes   \n4                     apple-watch-development-course   \n\n                                          source_url  spotlight staff_pick  \\\n0  https://www.kickstarter.com/discover/categorie...       True      False   \n1  https://www.kickstarter.com/discover/categorie...       True      False   \n2  https://www.kickstarter.com/discover/categorie...       True       True   \n3  https://www.kickstarter.com/discover/categorie...       True      False   \n4  https://www.kickstarter.com/discover/categorie...      False      False   \n\n        state  state_changed_at  static_usd_rate  \\\n0  successful        1391899046         1.000000   \n1  successful        1551801611         1.000000   \n2  successful        1480607932         1.000000   \n3  successful        1544309940         1.136525   \n4      failed        1428511019         1.000000   \n\n                                                urls  usd_pledged  \\\n0  {\"web\":{\"project\":\"https://www.kickstarter.com...    802.00000   \n1  {\"web\":{\"project\":\"https://www.kickstarter.com...   2259.00000   \n2  {\"web\":{\"project\":\"https://www.kickstarter.com...  29638.00000   \n3  {\"web\":{\"project\":\"https://www.kickstarter.com...  49075.15252   \n4  {\"web\":{\"project\":\"https://www.kickstarter.com...    549.00000   \n\n        usd_type  \n0  international  \n1  international  \n2  international  \n3  international  \n4       domestic  \n\n[5 rows x 37 columns]"
     },
     "execution_count": 10,
     "metadata": {},
     "output_type": "execute_result"
    }
   ],
   "source": [
    "df.head()"
   ]
  },
  {
   "cell_type": "markdown",
   "metadata": {},
   "source": [
    "# Data exploration"
   ]
  },
  {
   "cell_type": "markdown",
   "metadata": {},
   "source": [
    "## Target classes and balance"
   ]
  },
  {
   "cell_type": "code",
   "execution_count": 11,
   "metadata": {},
   "outputs": [
    {
     "data": {
      "text/plain": "successful    117465\nfailed         75199\ncanceled        8624\nlive            7311\nsuspended        623\nName: state, dtype: int64"
     },
     "execution_count": 11,
     "metadata": {},
     "output_type": "execute_result"
    }
   ],
   "source": [
    "df['state'].value_counts()"
   ]
  },
  {
   "cell_type": "markdown",
   "metadata": {},
   "source": [
    "There are "
   ]
  },
  {
   "cell_type": "markdown",
   "metadata": {},
   "source": [
    "## Date time"
   ]
  },
  {
   "cell_type": "code",
   "execution_count": 13,
   "metadata": {},
   "outputs": [
    {
     "data": {
      "text/plain": "count                  209222\nunique                 172048\ntop       2018-07-04 03:59:00\nfreq                       56\nfirst     2009-05-03 07:00:17\nlast      2019-03-14 04:12:21\nName: state_changed_at, dtype: object"
     },
     "execution_count": 13,
     "metadata": {},
     "output_type": "execute_result"
    }
   ],
   "source": [
    "pd.to_datetime(df['state_changed_at'], unit='s').describe()"
   ]
  },
  {
   "cell_type": "markdown",
   "metadata": {},
   "source": [
    "## Country"
   ]
  },
  {
   "cell_type": "code",
   "execution_count": 43,
   "metadata": {},
   "outputs": [],
   "source": [
    "ratio = lambda x: 100*round(x.value_counts()['successful'] / (x.value_counts()['successful'] + x.value_counts()['failed'] + x.value_counts()['canceled']), 4)"
   ]
  },
  {
   "cell_type": "code",
   "execution_count": 48,
   "metadata": {},
   "outputs": [
    {
     "data": {
      "text/html": "<div>\n<style scoped>\n    .dataframe tbody tr th:only-of-type {\n        vertical-align: middle;\n    }\n\n    .dataframe tbody tr th {\n        vertical-align: top;\n    }\n\n    .dataframe thead th {\n        text-align: right;\n    }\n</style>\n<table border=\"1\" class=\"dataframe\">\n  <thead>\n    <tr style=\"text-align: right;\">\n      <th></th>\n      <th>success_ratio</th>\n    </tr>\n    <tr>\n      <th>country</th>\n      <th></th>\n    </tr>\n  </thead>\n  <tbody>\n    <tr>\n      <th>HK</th>\n      <td>76.70</td>\n    </tr>\n    <tr>\n      <th>JP</th>\n      <td>73.19</td>\n    </tr>\n    <tr>\n      <th>LU</th>\n      <td>66.07</td>\n    </tr>\n    <tr>\n      <th>SG</th>\n      <td>64.20</td>\n    </tr>\n    <tr>\n      <th>GB</th>\n      <td>62.69</td>\n    </tr>\n    <tr>\n      <th>US</th>\n      <td>59.49</td>\n    </tr>\n    <tr>\n      <th>DK</th>\n      <td>57.76</td>\n    </tr>\n    <tr>\n      <th>NZ</th>\n      <td>55.53</td>\n    </tr>\n    <tr>\n      <th>CA</th>\n      <td>55.10</td>\n    </tr>\n    <tr>\n      <th>FR</th>\n      <td>54.22</td>\n    </tr>\n    <tr>\n      <th>SE</th>\n      <td>54.06</td>\n    </tr>\n    <tr>\n      <th>AU</th>\n      <td>50.09</td>\n    </tr>\n    <tr>\n      <th>IE</th>\n      <td>50.00</td>\n    </tr>\n    <tr>\n      <th>NO</th>\n      <td>47.95</td>\n    </tr>\n    <tr>\n      <th>MX</th>\n      <td>47.71</td>\n    </tr>\n    <tr>\n      <th>CH</th>\n      <td>46.79</td>\n    </tr>\n    <tr>\n      <th>DE</th>\n      <td>46.67</td>\n    </tr>\n    <tr>\n      <th>ES</th>\n      <td>45.45</td>\n    </tr>\n    <tr>\n      <th>BE</th>\n      <td>43.59</td>\n    </tr>\n    <tr>\n      <th>NL</th>\n      <td>42.88</td>\n    </tr>\n    <tr>\n      <th>AT</th>\n      <td>42.77</td>\n    </tr>\n    <tr>\n      <th>IT</th>\n      <td>33.64</td>\n    </tr>\n  </tbody>\n</table>\n</div>",
      "text/plain": "         success_ratio\ncountry               \nHK               76.70\nJP               73.19\nLU               66.07\nSG               64.20\nGB               62.69\nUS               59.49\nDK               57.76\nNZ               55.53\nCA               55.10\nFR               54.22\nSE               54.06\nAU               50.09\nIE               50.00\nNO               47.95\nMX               47.71\nCH               46.79\nDE               46.67\nES               45.45\nBE               43.59\nNL               42.88\nAT               42.77\nIT               33.64"
     },
     "execution_count": 48,
     "metadata": {},
     "output_type": "execute_result"
    }
   ],
   "source": [
    "success_per_country = pd.pivot_table(df, index='country', values='state', aggfunc=ratio).rename(columns={'state':'success_ratio'}).sort_values(by='success_ratio', ascending=False)\n",
    "success_per_country"
   ]
  },
  {
   "cell_type": "code",
   "execution_count": 49,
   "metadata": {},
   "outputs": [
    {
     "data": {
      "text/plain": "<AxesSubplot:xlabel='success_ratio', ylabel='country'>"
     },
     "execution_count": 49,
     "metadata": {},
     "output_type": "execute_result"
    },
    {
     "data": {
      "image/png": "[encoded data removed]",
      "text/plain": "<Figure size 432x288 with 1 Axes>"
     },
     "metadata": {
      "needs_background": "light",
      "transient": {}
     },
     "output_type": "display_data"
    }
   ],
   "source": [
    "from matplotlib.pyplot import xcorr\n",
    "sns.barplot(data=success_per_country.reset_index(), y='country', x='success_ratio')"
   ]
  },
  {
   "cell_type": "code",
   "execution_count": 56,
   "metadata": {},
   "outputs": [
    {
     "data": {
      "text/html": "<div>\n<style scoped>\n    .dataframe tbody tr th:only-of-type {\n        vertical-align: middle;\n    }\n\n    .dataframe tbody tr th {\n        vertical-align: top;\n    }\n\n    .dataframe thead th {\n        text-align: right;\n    }\n</style>\n<table border=\"1\" class=\"dataframe\">\n  <thead>\n    <tr style=\"text-align: right;\">\n      <th></th>\n      <th>backers_count</th>\n      <th>blurb</th>\n      <th>category</th>\n      <th>converted_pledged_amount</th>\n      <th>country</th>\n      <th>created_at</th>\n      <th>creator</th>\n      <th>currency</th>\n      <th>currency_symbol</th>\n      <th>currency_trailing_code</th>\n      <th>...</th>\n      <th>slug</th>\n      <th>source_url</th>\n      <th>spotlight</th>\n      <th>staff_pick</th>\n      <th>state</th>\n      <th>state_changed_at</th>\n      <th>static_usd_rate</th>\n      <th>urls</th>\n      <th>usd_pledged</th>\n      <th>usd_type</th>\n    </tr>\n  </thead>\n  <tbody>\n    <tr>\n      <th>3</th>\n      <td>193</td>\n      <td>Every revolution starts from the bottom and we...</td>\n      <td>{\"id\":266,\"name\":\"Footwear\",\"slug\":\"fashion/fo...</td>\n      <td>49158</td>\n      <td>IT</td>\n      <td>1540369920</td>\n      <td>{\"id\":1569700626,\"name\":\"WAO\",\"slug\":\"wearewao...</td>\n      <td>EUR</td>\n      <td>€</td>\n      <td>False</td>\n      <td>...</td>\n      <td>wao-the-eco-effect-shoes</td>\n      <td>https://www.kickstarter.com/discover/categorie...</td>\n      <td>True</td>\n      <td>False</td>\n      <td>successful</td>\n      <td>1544309940</td>\n      <td>1.136525</td>\n      <td>{\"web\":{\"project\":\"https://www.kickstarter.com...</td>\n      <td>49075.15252</td>\n      <td>international</td>\n    </tr>\n    <tr>\n      <th>13</th>\n      <td>6210</td>\n      <td>NAKEFIT: Hypoallergenic adhesive pad for walki...</td>\n      <td>{\"id\":266,\"name\":\"Footwear\",\"slug\":\"fashion/fo...</td>\n      <td>336729</td>\n      <td>IT</td>\n      <td>1491519205</td>\n      <td>{\"id\":1840198615,\"name\":\"Sabato Alterio\",\"is_r...</td>\n      <td>EUR</td>\n      <td>€</td>\n      <td>False</td>\n      <td>...</td>\n      <td>nakefit</td>\n      <td>https://www.kickstarter.com/discover/categorie...</td>\n      <td>True</td>\n      <td>False</td>\n      <td>successful</td>\n      <td>1499455934</td>\n      <td>1.099700</td>\n      <td>{\"web\":{\"project\":\"https://www.kickstarter.com...</td>\n      <td>324435.66090</td>\n      <td>international</td>\n    </tr>\n  </tbody>\n</table>\n<p>2 rows × 37 columns</p>\n</div>",
      "text/plain": "    backers_count                                              blurb  \\\n3             193  Every revolution starts from the bottom and we...   \n13           6210  NAKEFIT: Hypoallergenic adhesive pad for walki...   \n\n                                             category  \\\n3   {\"id\":266,\"name\":\"Footwear\",\"slug\":\"fashion/fo...   \n13  {\"id\":266,\"name\":\"Footwear\",\"slug\":\"fashion/fo...   \n\n    converted_pledged_amount country  created_at  \\\n3                      49158      IT  1540369920   \n13                    336729      IT  1491519205   \n\n                                              creator currency  \\\n3   {\"id\":1569700626,\"name\":\"WAO\",\"slug\":\"wearewao...      EUR   \n13  {\"id\":1840198615,\"name\":\"Sabato Alterio\",\"is_r...      EUR   \n\n   currency_symbol  currency_trailing_code  ...                      slug  \\\n3                €                   False  ...  wao-the-eco-effect-shoes   \n13               €                   False  ...                   nakefit   \n\n                                           source_url  spotlight staff_pick  \\\n3   https://www.kickstarter.com/discover/categorie...       True      False   \n13  https://www.kickstarter.com/discover/categorie...       True      False   \n\n         state  state_changed_at  static_usd_rate  \\\n3   successful        1544309940         1.136525   \n13  successful        1499455934         1.099700   \n\n                                                 urls   usd_pledged  \\\n3   {\"web\":{\"project\":\"https://www.kickstarter.com...   49075.15252   \n13  {\"web\":{\"project\":\"https://www.kickstarter.com...  324435.66090   \n\n         usd_type  \n3   international  \n13  international  \n\n[2 rows x 37 columns]"
     },
     "execution_count": 56,
     "metadata": {},
     "output_type": "execute_result"
    }
   ],
   "source": [
    "df.query(\"currency == 'EUR'\").head(2)"
   ]
  },
  {
   "cell_type": "code",
   "execution_count": 53,
   "metadata": {},
   "outputs": [
    {
     "name": "stdout",
     "output_type": "stream",
     "text": [
      "{\"id\":43,\"name\":\"Rock\",\"slug\":\"music/rock\",\"position\":17,\"parent_id\":14,\"color\":10878931,\"urls\":{\"web\":{\"discover\":\"http://www.kickstarter.com/discover/categories/music/rock\"}}}\n",
      "{\"id\":52,\"name\":\"Hardware\",\"slug\":\"technology/hardware\",\"position\":8,\"parent_id\":16,\"color\":6526716,\"urls\":{\"web\":{\"discover\":\"http://www.kickstarter.com/discover/categories/technology/hardware\"}}}\n",
      "{\"id\":22,\"name\":\"Illustration\",\"slug\":\"art/illustration\",\"position\":4,\"parent_id\":1,\"color\":16760235,\"urls\":{\"web\":{\"discover\":\"http://www.kickstarter.com/discover/categories/art/illustration\"}}}\n",
      "{\"id\":262,\"name\":\"Accessories\",\"slug\":\"fashion/accessories\",\"position\":1,\"parent_id\":9,\"color\":16752598,\"urls\":{\"web\":{\"discover\":\"http://www.kickstarter.com/discover/categories/fashion/accessories\"}}}\n"
     ]
    }
   ],
   "source": [
    "print(df.category[0])\n",
    "print(df.category[1000])\n",
    "print(df.category[20000])\n",
    "print(df.category[200000])"
   ]
  },
  {
   "cell_type": "markdown",
   "metadata": {},
   "source": [
    "## Amounts: converted_pledged_amount, exchange rate"
   ]
  },
  {
   "cell_type": "code",
   "execution_count": 57,
   "metadata": {},
   "outputs": [
    {
     "data": {
      "text/plain": "count    2.092220e+05\nmean    -8.551623e+01\nstd      1.270609e+04\nmin     -1.771501e+06\n25%      0.000000e+00\n50%      0.000000e+00\n75%      0.000000e+00\nmax      9.330207e+05\ndtype: float64"
     },
     "execution_count": 57,
     "metadata": {},
     "output_type": "execute_result"
    }
   ],
   "source": [
    "currency_delta = df['converted_pledged_amount'].astype(float) - df['usd_pledged'] * df['static_usd_rate']\n",
    "currency_delta.describe()"
   ]
  },
  {
   "cell_type": "code",
   "execution_count": 61,
   "metadata": {},
   "outputs": [
    {
     "data": {
      "text/html": "<div>\n<style scoped>\n    .dataframe tbody tr th:only-of-type {\n        vertical-align: middle;\n    }\n\n    .dataframe tbody tr th {\n        vertical-align: top;\n    }\n\n    .dataframe thead th {\n        text-align: right;\n    }\n</style>\n<table border=\"1\" class=\"dataframe\">\n  <thead>\n    <tr style=\"text-align: right;\">\n      <th></th>\n      <th>country</th>\n      <th>converted_pledged_amount</th>\n      <th>currency</th>\n      <th>currency_symbol</th>\n      <th>fx_rate</th>\n      <th>usd_pledged</th>\n      <th>usd_type</th>\n    </tr>\n  </thead>\n  <tbody>\n    <tr>\n      <th>56</th>\n      <td>SG</td>\n      <td>19699</td>\n      <td>SGD</td>\n      <td>$</td>\n      <td>0.737115</td>\n      <td>19338.586040</td>\n      <td>international</td>\n    </tr>\n    <tr>\n      <th>83</th>\n      <td>NO</td>\n      <td>2182</td>\n      <td>NOK</td>\n      <td>kr</td>\n      <td>0.115720</td>\n      <td>2088.859902</td>\n      <td>domestic</td>\n    </tr>\n  </tbody>\n</table>\n</div>",
      "text/plain": "   country  converted_pledged_amount currency currency_symbol   fx_rate  \\\n56      SG                     19699      SGD               $  0.737115   \n83      NO                      2182      NOK              kr  0.115720   \n\n     usd_pledged       usd_type  \n56  19338.586040  international  \n83   2088.859902       domestic  "
     },
     "execution_count": 61,
     "metadata": {},
     "output_type": "execute_result"
    }
   ],
   "source": [
    "currency_cols = ['country', 'converted_pledged_amount', 'currency', 'currency_symbol', 'fx_rate', 'usd_pledged', 'usd_type']\n",
    "df[currency_delta > 900][currency_cols].head(2)"
   ]
  },
  {
   "cell_type": "code",
   "execution_count": null,
   "metadata": {},
   "outputs": [],
   "source": [
    "df.currency_trailing_code"
   ]
  },
  {
   "cell_type": "markdown",
   "metadata": {},
   "source": [
    "## Creator"
   ]
  },
  {
   "cell_type": "code",
   "execution_count": 70,
   "metadata": {},
   "outputs": [
    {
     "name": "stdout",
     "output_type": "stream",
     "text": [
      "{\"id\":1196856269,\"name\":\"MelissaThomas\",\"is_registered\":null,\"chosen_currency\":null,\"avatar\":{\"thumb\":\"https://ksr-ugc.imgix.net/assets/014/275/164/5a43d683fe375d78f111a3b975b1776d_original.jpg?ixlib=rb-1.1.0&w=40&h=40&fit=crop&v=1477513389&auto=format&frame=1&q=92&s=dc9207376e0c0d43f32031d8e9a281cf\",\"small\":\"https://ksr-ugc.imgix.net/assets/014/275/164/5a43d683fe375d78f111a3b975b1776d_original.jpg?ixlib=rb-1.1.0&w=160&h=160&fit=crop&v=1477513389&auto=format&frame=1&q=92&s=fcbeca6ca421aa49cd0ab3467666026d\",\"medium\":\"https://ksr-ugc.imgix.net/assets/014/275/164/5a43d683fe375d78f111a3b975b1776d_original.jpg?ixlib=rb-1.1.0&w=160&h=160&fit=crop&v=1477513389&auto=format&frame=1&q=92&s=fcbeca6ca421aa49cd0ab3467666026d\"},\"urls\":{\"web\":{\"user\":\"https://www.kickstarter.com/profile/1196856269\"},\"api\":{\"user\":\"https://api.kickstarter.com/v1/users/1196856269?signature=1552621253.9f2e97a20efddf347cd2610cc3c200244cc8525f\"}}}\n",
      "{\"id\":1258230290,\"name\":\"Shinz Productions\",\"is_registered\":null,\"chosen_currency\":null,\"avatar\":{\"thumb\":\"https://ksr-ugc.imgix.net/assets/020/784/460/0fa681ea8422910745c07a99b912a1cb_original.jpg?ixlib=rb-1.1.0&w=40&h=40&fit=crop&v=1522910697&auto=format&frame=1&q=92&s=6a26371aca9f82d2c4f648a8c00d3d02\",\"small\":\"https://ksr-ugc.imgix.net/assets/020/784/460/0fa681ea8422910745c07a99b912a1cb_original.jpg?ixlib=rb-1.1.0&w=160&h=160&fit=crop&v=1522910697&auto=format&frame=1&q=92&s=fa0914cf6f1b1145f86ec6b119f07bbe\",\"medium\":\"https://ksr-ugc.imgix.net/assets/020/784/460/0fa681ea8422910745c07a99b912a1cb_original.jpg?ixlib=rb-1.1.0&w=160&h=160&fit=crop&v=1522910697&auto=format&frame=1&q=92&s=fa0914cf6f1b1145f86ec6b119f07bbe\"},\"urls\":{\"web\":{\"user\":\"https://www.kickstarter.com/profile/1258230290\"},\"api\":{\"user\":\"https://api.kickstarter.com/v1/users/1258230290?signature=1552624216.a8c27e5a6615a7855f8ebb6ec8e6b64958dd9b60\"}}}\n",
      "{\"id\":330388878,\"name\":\"Emanuelle Heikens\",\"is_registered\":null,\"chosen_currency\":null,\"avatar\":{\"thumb\":\"https://ksr-ugc.imgix.net/assets/017/719/019/81e6f37c6af5650201dfbe76a9f76c38_original.jpg?ixlib=rb-1.1.0&w=40&h=40&fit=crop&v=1501465005&auto=format&frame=1&q=92&s=07a48061e914671d5c51b96b23d7f71e\",\"small\":\"https://ksr-ugc.imgix.net/assets/017/719/019/81e6f37c6af5650201dfbe76a9f76c38_original.jpg?ixlib=rb-1.1.0&w=160&h=160&fit=crop&v=1501465005&auto=format&frame=1&q=92&s=a6ba38f65bf66da936dba2054f46e087\",\"medium\":\"https://ksr-ugc.imgix.net/assets/017/719/019/81e6f37c6af5650201dfbe76a9f76c38_original.jpg?ixlib=rb-1.1.0&w=160&h=160&fit=crop&v=1501465005&auto=format&frame=1&q=92&s=a6ba38f65bf66da936dba2054f46e087\"},\"urls\":{\"web\":{\"user\":\"https://www.kickstarter.com/profile/330388878\"},\"api\":{\"user\":\"https://api.kickstarter.com/v1/users/330388878?signature=1552623827.c7648955d07fbac55c5b5ff8f733f6b6eafa055b\"}}}\n"
     ]
    }
   ],
   "source": [
    "print(df.creator[2])\n",
    "print(df.creator[2000])\n",
    "print(df.creator[200000])"
   ]
  },
  {
   "cell_type": "markdown",
   "metadata": {},
   "source": [
    "## Feature overview"
   ]
  },
  {
   "cell_type": "code",
   "execution_count": 91,
   "metadata": {},
   "outputs": [],
   "source": [
    "def investigate(col):\n",
    "    print(df[[col]].info())\n",
    "    print(df[[col]].nunique())"
   ]
  },
  {
   "cell_type": "code",
   "execution_count": 111,
   "metadata": {},
   "outputs": [
    {
     "name": "stdout",
     "output_type": "stream",
     "text": [
      "<class 'pandas.core.frame.DataFrame'>\n",
      "RangeIndex: 209222 entries, 0 to 209221\n",
      "Data columns (total 1 columns):\n",
      " #   Column   Non-Null Count   Dtype  \n",
      "---  ------   --------------   -----  \n",
      " 0   pledged  209222 non-null  float64\n",
      "dtypes: float64(1)\n",
      "memory usage: 1.6 MB\n"
     ]
    }
   ],
   "source": [
    "df[['pledged']].info()\n",
    "# print(df['photo'][200])\n",
    "#print(df['location'][2000])"
   ]
  },
  {
   "cell_type": "markdown",
   "metadata": {},
   "source": [
    "| Column | Description | Dtype | Null | EDA status |\n",
    "| - | - | - | - | - |\n",
    "| `backers_count` | The number of participants of the kickstarter project | | | Done |\n",
    "| `blurb` | Short description of the project by the project initiator. Max 135 characters. | | | Done | \n",
    "| `category` | Dictionary object. \\n Contains `id, name, slug, position, parent_id, color, urls` | | | Open |\n",
    "| `converted_pledged_amount` | Open | | | Open |\n",
    "| `country` | Country of of Kickstarter account (?) | | | To be confirmed |\n",
    "| `created_at`| Creation date of the project. UNIX time format | | | Done |\n",
    "| `creator`| Dictionary of user details `id, name, is_registered, chosen_currency, ... | | | Open to list all dictionary entries|\n",
    "| `currency`| Currency (3-digit code) by which the project is founded | | | Done |\n",
    "| `currency_symbol`| Symbol related to `currency` feature. | | | Done |\n",
    "| `currency_trailing_code`| | Bool | | Open |\n",
    "| `current_currency`| Open | | | Open |\n",
    "| `deadline`| Deadline of the project. UNIX time format | | | |\n",
    "| `disable_communication`| Is the communication with the creator allowed? | Bool | | Done |\n",
    "| `friends`| 300 entries with empty list object | | | See '300 question' |\n",
    "| `fx_rate`| Open | | | Open. Currency topic. |\n",
    "| `goal`| Target amount | | | By how much deviate the projects from the target? (successful vs. failed) |\n",
    "| `id`| Intern kickstarter id | | | See '182-anomalia' |\n",
    "| `is_backing`| 300 instances of 'False' | | | See '300 question' |\n",
    "| `is_starrable`| Open | Bool | None | Open |\n",
    "| `is_starred`| Open | | 298 False, 2 True | See '300 question' |\n",
    "| `launched_at`| Date of publication on kickstarter | int64 | None | Done |\n",
    "| `location`| Dictionary of location details | String | 208996 filled | Open |\n",
    "| `name`| Project name. Limited to 60 chars. | String | 209222 filled | Open |\n",
    "| `permissions`| 300 entries with empty list object ||| See '300 question' |\n",
    "| `photo`| Dictionary of photo url, ...  | String | | See '182-anomalia' |\n",
    "| `pledged`|||\n",
    "| `profile`|||\n",
    "| `slug`|||\n",
    "| `source_url`|||\n",
    "| `spotlight`|||\n",
    "| `staff_pick`|||\n",
    "| `state`|||\n",
    "| `state_changed_at`|||\n",
    "| `static_usd_rate`|||\n",
    "| `urls`|||\n",
    "| `usd_pledged`|||\n",
    "| `usd_type` |||"
   ]
  }
 ],
 "metadata": {
  "kernelspec": {
   "display_name": "Python 3.8.5  ('.venv': venv)",
   "metadata": {
    "interpreter": {
     "hash": "f0026e7dae0b5e45e74edd6fddac05f61a47946be5d1db343739b6c3ac15533e"
    }
   },
   "name": "python3"
  },
  "language_info": {
   "codemirror_mode": {
    "name": "ipython",
    "version": 3
   },
   "file_extension": ".py",
   "mimetype": "text/x-python",
   "name": "python",
   "nbconvert_exporter": "python",
   "pygments_lexer": "ipython3",
   "version": "3.8.5"
  },
  "orig_nbformat": 2
 },
 "nbformat": 4,
 "nbformat_minor": 2
}