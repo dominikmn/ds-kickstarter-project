{
 "cells": [
  {
   "cell_type": "code",
   "execution_count": 2,
   "id": "dependent-lindsay",
   "metadata": {},
   "outputs": [],
   "source": [
    "import pandas as pd\n",
    "import numpy as np"
   ]
  },
  {
   "cell_type": "code",
   "execution_count": 3,
   "id": "auburn-academy",
   "metadata": {},
   "outputs": [],
   "source": [
    "X_train = pd.read_csv('X_train_Kickstarter.csv')\n",
    "X_test = pd.read_csv('X_test_Kickstarter.csv')\n",
    "y_train = pd.read_csv('y_train_Kickstarter.csv')\n",
    "y_test = pd.read_csv('y_test_Kickstarter.csv')"
   ]
  },
  {
   "cell_type": "code",
   "execution_count": null,
   "id": "dietary-setup",
   "metadata": {},
   "outputs": [],
   "source": []
  }
 ],
 "metadata": {
  "kernelspec": {
   "display_name": "Python 3",
   "language": "python",
   "name": "python3"
  },
  "language_info": {
   "codemirror_mode": {
    "name": "ipython",
    "version": 3
   },
   "file_extension": ".py",
   "mimetype": "text/x-python",
   "name": "python",
   "nbconvert_exporter": "python",
   "pygments_lexer": "ipython3",
   "version": "3.8.5"
  }
 },
 "nbformat": 4,
 "nbformat_minor": 5
}
