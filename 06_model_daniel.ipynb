{
 "cells": [
  {
   "cell_type": "code",
   "execution_count": 34,
   "id": "blocked-briefing",
   "metadata": {},
   "outputs": [
    {
     "name": "stdout",
     "output_type": "stream",
     "text": [
      "Requirement already satisfied: sklearn in /Users/johannes/neuefische/.venv/lib/python3.8/site-packages (0.0)\n",
      "Requirement already satisfied: scikit-learn in /Users/johannes/neuefische/.venv/lib/python3.8/site-packages (from sklearn) (0.24.1)\n",
      "Requirement already satisfied: joblib>=0.11 in /Users/johannes/neuefische/.venv/lib/python3.8/site-packages (from scikit-learn->sklearn) (1.0.1)\n",
      "Requirement already satisfied: scipy>=0.19.1 in /Users/johannes/neuefische/.venv/lib/python3.8/site-packages (from scikit-learn->sklearn) (1.6.0)\n",
      "Requirement already satisfied: numpy>=1.13.3 in /Users/johannes/neuefische/.venv/lib/python3.8/site-packages (from scikit-learn->sklearn) (1.20.1)\n",
      "Requirement already satisfied: threadpoolctl>=2.0.0 in /Users/johannes/neuefische/.venv/lib/python3.8/site-packages (from scikit-learn->sklearn) (2.1.0)\n"
     ]
    }
   ],
   "source": [
    "! pip install sklearn"
   ]
  },
  {
   "cell_type": "code",
   "execution_count": 23,
   "id": "animated-dinner",
   "metadata": {},
   "outputs": [
    {
     "name": "stdout",
     "output_type": "stream",
     "text": [
      "Collecting pactools\n",
      "  Downloading pactools-0.3.1-py3-none-any.whl (82 kB)\n",
      "\u001b[K     |████████████████████████████████| 82 kB 2.2 MB/s eta 0:00:011\n",
      "\u001b[?25hCollecting mne\n",
      "  Downloading mne-0.22.0-py3-none-any.whl (6.9 MB)\n",
      "\u001b[K     |████████████████████████████████| 6.9 MB 6.8 MB/s eta 0:00:01\n",
      "\u001b[?25hRequirement already satisfied: scikit-learn in /Users/johannes/neuefische/.venv/lib/python3.8/site-packages (from pactools) (0.24.1)\n",
      "Collecting h5py\n",
      "  Downloading h5py-3.2.1-cp38-cp38-macosx_10_9_x86_64.whl (2.9 MB)\n",
      "\u001b[K     |████████████████████████████████| 2.9 MB 7.4 MB/s eta 0:00:01\n",
      "\u001b[?25hRequirement already satisfied: matplotlib in /Users/johannes/neuefische/.venv/lib/python3.8/site-packages (from pactools) (3.3.4)\n",
      "Requirement already satisfied: scipy in /Users/johannes/neuefische/.venv/lib/python3.8/site-packages (from pactools) (1.6.0)\n",
      "Requirement already satisfied: numpy in /Users/johannes/neuefische/.venv/lib/python3.8/site-packages (from pactools) (1.20.1)\n",
      "Requirement already satisfied: python-dateutil>=2.1 in /Users/johannes/neuefische/.venv/lib/python3.8/site-packages (from matplotlib->pactools) (2.8.1)\n",
      "Requirement already satisfied: pyparsing!=2.0.4,!=2.1.2,!=2.1.6,>=2.0.3 in /Users/johannes/neuefische/.venv/lib/python3.8/site-packages (from matplotlib->pactools) (2.4.7)\n",
      "Requirement already satisfied: cycler>=0.10 in /Users/johannes/neuefische/.venv/lib/python3.8/site-packages (from matplotlib->pactools) (0.10.0)\n",
      "Requirement already satisfied: pillow>=6.2.0 in /Users/johannes/neuefische/.venv/lib/python3.8/site-packages (from matplotlib->pactools) (8.1.0)\n",
      "Requirement already satisfied: kiwisolver>=1.0.1 in /Users/johannes/neuefische/.venv/lib/python3.8/site-packages (from matplotlib->pactools) (1.3.1)\n",
      "Requirement already satisfied: six in /Users/johannes/neuefische/.venv/lib/python3.8/site-packages (from cycler>=0.10->matplotlib->pactools) (1.15.0)\n",
      "Requirement already satisfied: joblib>=0.11 in /Users/johannes/neuefische/.venv/lib/python3.8/site-packages (from scikit-learn->pactools) (1.0.1)\n",
      "Requirement already satisfied: threadpoolctl>=2.0.0 in /Users/johannes/neuefische/.venv/lib/python3.8/site-packages (from scikit-learn->pactools) (2.1.0)\n",
      "Installing collected packages: mne, h5py, pactools\n",
      "Successfully installed h5py-3.2.1 mne-0.22.0 pactools-0.3.1\n"
     ]
    }
   ],
   "source": [
    "! pip install pactools"
   ]
  },
  {
   "cell_type": "code",
   "execution_count": 36,
   "id": "handed-madrid",
   "metadata": {},
   "outputs": [],
   "source": [
    "import pandas as pd\n",
    "import numpy as np\n",
    "import seaborn as sns\n",
    "from sklearn.model_selection import train_test_split\n",
    "from sklearn.dummy import DummyClassifier\n",
    "from sklearn.metrics import make_scorer, confusion_matrix, fbeta_score, classification_report\n",
    "from pactools import Comodulogram, REFERENCES\n",
    "from pactools import simulate_pac\n",
    "from sklearn.ensemble import AdaBoostClassifier\n",
    "from sklearn.model_selection import GridSearchCV"
   ]
  },
  {
   "cell_type": "code",
   "execution_count": 3,
   "id": "prompt-skating",
   "metadata": {},
   "outputs": [],
   "source": [
    "X_train = pd.read_csv('X_train_Kickstarter.csv')\n",
    "X_test = pd.read_csv('X_test_Kickstarter.csv')\n",
    "y_train = pd.read_csv('y_train_Kickstarter.csv')\n",
    "y_test = pd.read_csv('y_test_Kickstarter.csv')"
   ]
  },
  {
   "cell_type": "code",
   "execution_count": 14,
   "id": "damaged-boring",
   "metadata": {},
   "outputs": [],
   "source": [
    "y_train = y_train.state\n",
    "y_test = y_test.state"
   ]
  },
  {
   "cell_type": "code",
   "execution_count": 4,
   "id": "amateur-bottom",
   "metadata": {},
   "outputs": [],
   "source": [
    "dummy_clf = DummyClassifier(strategy = 'most_frequent')"
   ]
  },
  {
   "cell_type": "code",
   "execution_count": 5,
   "id": "vietnamese-piece",
   "metadata": {},
   "outputs": [
    {
     "data": {
      "text/plain": [
       "DummyClassifier(strategy='most_frequent')"
      ]
     },
     "execution_count": 5,
     "metadata": {},
     "output_type": "execute_result"
    }
   ],
   "source": [
    "dummy_clf.fit(X_train, y_train)"
   ]
  },
  {
   "cell_type": "code",
   "execution_count": 6,
   "id": "rental-cooperative",
   "metadata": {},
   "outputs": [],
   "source": [
    "y_pred = dummy_clf.predict(X_test)"
   ]
  },
  {
   "cell_type": "code",
   "execution_count": 7,
   "id": "criminal-license",
   "metadata": {},
   "outputs": [
    {
     "name": "stdout",
     "output_type": "stream",
     "text": [
      "              precision    recall  f1-score   support\n",
      "\n",
      "           0       0.00      0.00      0.00     22545\n",
      "           1       0.61      1.00      0.76     35190\n",
      "\n",
      "    accuracy                           0.61     57735\n",
      "   macro avg       0.30      0.50      0.38     57735\n",
      "weighted avg       0.37      0.61      0.46     57735\n",
      "\n"
     ]
    },
    {
     "name": "stderr",
     "output_type": "stream",
     "text": [
      "/Users/johannes/neuefische/.venv/lib/python3.8/site-packages/sklearn/metrics/_classification.py:1245: UndefinedMetricWarning: Precision and F-score are ill-defined and being set to 0.0 in labels with no predicted samples. Use `zero_division` parameter to control this behavior.\n",
      "  _warn_prf(average, modifier, msg_start, len(result))\n",
      "/Users/johannes/neuefische/.venv/lib/python3.8/site-packages/sklearn/metrics/_classification.py:1245: UndefinedMetricWarning: Precision and F-score are ill-defined and being set to 0.0 in labels with no predicted samples. Use `zero_division` parameter to control this behavior.\n",
      "  _warn_prf(average, modifier, msg_start, len(result))\n",
      "/Users/johannes/neuefische/.venv/lib/python3.8/site-packages/sklearn/metrics/_classification.py:1245: UndefinedMetricWarning: Precision and F-score are ill-defined and being set to 0.0 in labels with no predicted samples. Use `zero_division` parameter to control this behavior.\n",
      "  _warn_prf(average, modifier, msg_start, len(result))\n"
     ]
    },
    {
     "data": {
      "text/plain": [
       "<AxesSubplot:>"
      ]
     },
     "execution_count": 7,
     "metadata": {},
     "output_type": "execute_result"
    },
    {
     "data": {
      "image/png": "[encoded data removed]",
      "text/plain": [
       "<Figure size 432x288 with 2 Axes>"
      ]
     },
     "metadata": {
      "needs_background": "light"
     },
     "output_type": "display_data"
    }
   ],
   "source": [
    "cnf_matrix = confusion_matrix(y_test, y_pred)\n",
    "print(classification_report(y_test, y_pred))\n",
    "sns.heatmap(cnf_matrix, annot = True, fmt = \"g\")\n"
   ]
  },
  {
   "cell_type": "code",
   "execution_count": null,
   "id": "secondary-stress",
   "metadata": {},
   "outputs": [],
   "source": []
  },
  {
   "cell_type": "markdown",
   "id": "infinite-template",
   "metadata": {},
   "source": [
    "## adaboost"
   ]
  },
  {
   "cell_type": "code",
   "execution_count": 8,
   "id": "touched-webster",
   "metadata": {},
   "outputs": [],
   "source": [
    "from sklearn.model_selection import GridSearchCV, train_test_split, RandomizedSearchCV\n",
    "from sklearn.metrics import make_scorer, confusion_matrix, fbeta_score, classification_report \n",
    "from sklearn.ensemble import AdaBoostClassifier, RandomForestClassifier,StackingClassifier"
   ]
  },
  {
   "cell_type": "code",
   "execution_count": 11,
   "id": "religious-driver",
   "metadata": {},
   "outputs": [],
   "source": [
    "ada_clf = AdaBoostClassifier()"
   ]
  },
  {
   "cell_type": "code",
   "execution_count": 15,
   "id": "complete-lodge",
   "metadata": {},
   "outputs": [
    {
     "data": {
      "text/plain": [
       "AdaBoostClassifier()"
      ]
     },
     "execution_count": 15,
     "metadata": {},
     "output_type": "execute_result"
    }
   ],
   "source": [
    "ada_clf.fit(X_train, y_train)"
   ]
  },
  {
   "cell_type": "code",
   "execution_count": 16,
   "id": "senior-proportion",
   "metadata": {},
   "outputs": [],
   "source": [
    "y_pred = ada_clf.predict(X_test)"
   ]
  },
  {
   "cell_type": "code",
   "execution_count": 17,
   "id": "consecutive-wilderness",
   "metadata": {},
   "outputs": [
    {
     "data": {
      "text/plain": [
       "array([[13704,  8841],\n",
       "       [ 6204, 28986]])"
      ]
     },
     "execution_count": 17,
     "metadata": {},
     "output_type": "execute_result"
    }
   ],
   "source": [
    "confusion_matrix(y_test,y_pred)"
   ]
  },
  {
   "cell_type": "code",
   "execution_count": 18,
   "id": "honey-programmer",
   "metadata": {},
   "outputs": [
    {
     "name": "stdout",
     "output_type": "stream",
     "text": [
      "              precision    recall  f1-score   support\n",
      "\n",
      "           0       0.69      0.61      0.65     22545\n",
      "           1       0.77      0.82      0.79     35190\n",
      "\n",
      "    accuracy                           0.74     57735\n",
      "   macro avg       0.73      0.72      0.72     57735\n",
      "weighted avg       0.74      0.74      0.74     57735\n",
      "\n"
     ]
    }
   ],
   "source": [
    "print(classification_report(y_test,y_pred))"
   ]
  },
  {
   "cell_type": "code",
   "execution_count": 39,
   "id": "coral-rocket",
   "metadata": {},
   "outputs": [],
   "source": [
    "param_grid_ada= {'n_estimators':[876],\n",
    "                'learning_rate':[0.6],\n",
    "               'random_state':[105]}"
   ]
  },
  {
   "cell_type": "code",
   "execution_count": 40,
   "id": "announced-corruption",
   "metadata": {},
   "outputs": [],
   "source": [
    "\n",
    "from pactools import simulate_pac\n",
    "from pactools.grid_search import ExtractDriver, AddDriverDelay\n",
    "from pactools.grid_search import DARSklearn, MultipleArray\n",
    "from pactools.grid_search import GridSearchCVProgressBar"
   ]
  },
  {
   "cell_type": "code",
   "execution_count": 41,
   "id": "standard-measure",
   "metadata": {},
   "outputs": [
    {
     "name": "stdout",
     "output_type": "stream",
     "text": [
      "{'learning_rate': 0.6, 'n_estimators': 876, 'random_state': 105}\n"
     ]
    }
   ],
   "source": [
    "# Plug the model and the parameter grid into a GridSearchCV estimator\n",
    "# (GridSearchCVProgressBar is identical to GridSearchCV, but it adds a nice\n",
    "# progress bar to monitor progress.)\n",
    "grid_ada = GridSearchCVProgressBar(ada_clf, param_grid_ada, scoring='accuracy' ,return_train_score=False,n_jobs=5)\n",
    "grid_ada.fit(X_train, y_train)\n",
    "print(grid_ada.best_params_)"
   ]
  },
  {
   "cell_type": "code",
   "execution_count": 42,
   "id": "formed-insertion",
   "metadata": {},
   "outputs": [
    {
     "name": "stderr",
     "output_type": "stream",
     "text": [
      "/Users/johannes/neuefische/.venv/lib/python3.8/site-packages/ipykernel/ipkernel.py:283: DeprecationWarning: `should_run_async` will not call `transform_cell` automatically in the future. Please pass the result to `transformed_cell` argument and any exception that happen during thetransform in `preprocessing_exc_tuple` in IPython 7.17 and above.\n",
      "  and should_run_async(code)\n"
     ]
    }
   ],
   "source": [
    "y_pred=grid_ada.predict(X_test)"
   ]
  },
  {
   "cell_type": "code",
   "execution_count": 50,
   "id": "logical-wilson",
   "metadata": {},
   "outputs": [],
   "source": [
    "cnf_matrix_ada = confusion_matrix(y_test,y_pred)"
   ]
  },
  {
   "cell_type": "code",
   "execution_count": 51,
   "id": "acquired-stevens",
   "metadata": {},
   "outputs": [
    {
     "name": "stderr",
     "output_type": "stream",
     "text": [
      "/Users/johannes/neuefische/.venv/lib/python3.8/site-packages/ipykernel/ipkernel.py:283: DeprecationWarning: `should_run_async` will not call `transform_cell` automatically in the future. Please pass the result to `transformed_cell` argument and any exception that happen during thetransform in `preprocessing_exc_tuple` in IPython 7.17 and above.\n",
      "  and should_run_async(code)\n"
     ]
    },
    {
     "data": {
      "text/plain": [
       "<AxesSubplot:>"
      ]
     },
     "execution_count": 51,
     "metadata": {},
     "output_type": "execute_result"
    },
    {
     "data": {
      "image/png": "[encoded data removed]",
      "text/plain": [
       "<Figure size 432x288 with 2 Axes>"
      ]
     },
     "metadata": {
      "needs_background": "light"
     },
     "output_type": "display_data"
    }
   ],
   "source": [
    "sns.heatmap(cnf_matrix_ada, annot = True, fmt = \"g\", cmap='YlGn')"
   ]
  },
  {
   "cell_type": "code",
   "execution_count": 44,
   "id": "alternate-aluminum",
   "metadata": {},
   "outputs": [
    {
     "name": "stdout",
     "output_type": "stream",
     "text": [
      "              precision    recall  f1-score   support\n",
      "\n",
      "           0       0.71      0.71      0.71     22545\n",
      "           1       0.81      0.81      0.81     35190\n",
      "\n",
      "    accuracy                           0.77     57735\n",
      "   macro avg       0.76      0.76      0.76     57735\n",
      "weighted avg       0.77      0.77      0.77     57735\n",
      "\n"
     ]
    },
    {
     "name": "stderr",
     "output_type": "stream",
     "text": [
      "/Users/johannes/neuefische/.venv/lib/python3.8/site-packages/ipykernel/ipkernel.py:283: DeprecationWarning: `should_run_async` will not call `transform_cell` automatically in the future. Please pass the result to `transformed_cell` argument and any exception that happen during thetransform in `preprocessing_exc_tuple` in IPython 7.17 and above.\n",
      "  and should_run_async(code)\n"
     ]
    }
   ],
   "source": [
    "print(classification_report(y_test,y_pred))"
   ]
  },
  {
   "cell_type": "code",
   "execution_count": 52,
   "id": "driving-duncan",
   "metadata": {},
   "outputs": [
    {
     "name": "stderr",
     "output_type": "stream",
     "text": [
      "/Users/johannes/neuefische/.venv/lib/python3.8/site-packages/sklearn/utils/validation.py:70: FutureWarning: Pass beta=0.5 as keyword args. From version 1.0 (renaming of 0.25) passing these as positional arguments will result in an error\n",
      "  warnings.warn(f\"Pass {args_msg} as keyword args. From version \"\n"
     ]
    },
    {
     "data": {
      "text/plain": [
       "0.8141624730409778"
      ]
     },
     "execution_count": 52,
     "metadata": {},
     "output_type": "execute_result"
    }
   ],
   "source": [
    "fbeta_score(y_test,y_pred,0.5)"
   ]
  },
  {
   "cell_type": "code",
   "execution_count": 56,
   "id": "vocal-chambers",
   "metadata": {},
   "outputs": [],
   "source": [
    "from joblib import dump, load"
   ]
  },
  {
   "cell_type": "code",
   "execution_count": 58,
   "id": "accredited-shooting",
   "metadata": {},
   "outputs": [
    {
     "data": {
      "text/plain": [
       "['adaboost.pickle']"
      ]
     },
     "execution_count": 58,
     "metadata": {},
     "output_type": "execute_result"
    }
   ],
   "source": [
    "dump(grid_ada.best_estimator_,\"adaboost.pickle\")"
   ]
  },
  {
   "cell_type": "code",
   "execution_count": 59,
   "id": "acute-plenty",
   "metadata": {},
   "outputs": [],
   "source": [
    "lada = load(\"adaboost.pickle\")"
   ]
  },
  {
   "cell_type": "code",
   "execution_count": 60,
   "id": "italic-railway",
   "metadata": {},
   "outputs": [
    {
     "data": {
      "text/plain": [
       "array([1, 0, 1, ..., 1, 0, 1])"
      ]
     },
     "execution_count": 60,
     "metadata": {},
     "output_type": "execute_result"
    }
   ],
   "source": [
    "lada.predict(X_test)"
   ]
  },
  {
   "cell_type": "code",
   "execution_count": null,
   "id": "facial-stopping",
   "metadata": {},
   "outputs": [],
   "source": []
  }
 ],
 "metadata": {
  "kernelspec": {
   "display_name": "Python 3",
   "language": "python",
   "name": "python3"
  },
  "language_info": {
   "codemirror_mode": {
    "name": "ipython",
    "version": 3
   },
   "file_extension": ".py",
   "mimetype": "text/x-python",
   "name": "python",
   "nbconvert_exporter": "python",
   "pygments_lexer": "ipython3",
   "version": "3.8.5"
  }
 },
 "nbformat": 4,
 "nbformat_minor": 5
}
