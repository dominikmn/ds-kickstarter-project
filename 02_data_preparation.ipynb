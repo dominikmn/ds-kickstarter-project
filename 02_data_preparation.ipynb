{
 "cells": [
  {
   "cell_type": "code",
   "execution_count": 1,
   "id": "unusual-torture",
   "metadata": {},
   "outputs": [],
   "source": [
    "import pandas as pd\n",
    "import numpy as np\n",
    "from datetime import datetime"
   ]
  },
  {
   "cell_type": "code",
   "execution_count": 2,
   "id": "recognized-center",
   "metadata": {},
   "outputs": [],
   "source": [
    "def save_dataframe(data, file_name=None):\n",
    "    if file_name:\n",
    "        e = file_name\n",
    "    else:\n",
    "        t = datetime.now().strftime(\"%Y-%m-%d_%H%M%S\")\n",
    "        e = f\"./data_frame_{t}.pickle\"\n",
    "    print('Saving: '+e)\n",
    "    data.to_pickle(e)"
   ]
  },
  {
   "cell_type": "code",
   "execution_count": 3,
   "id": "circular-rachel",
   "metadata": {},
   "outputs": [],
   "source": [
    "df_new = pd.read_pickle(\"./data_frame_raw_2021-03-12.pickle\")"
   ]
  },
  {
   "cell_type": "markdown",
   "id": "bridal-arbitration",
   "metadata": {},
   "source": [
    "# Extended data frame"
   ]
  },
  {
   "cell_type": "code",
   "execution_count": 4,
   "id": "married-emerald",
   "metadata": {},
   "outputs": [],
   "source": [
    "df_new['duration'] = (df_new.deadline-df_new.launched_at)/(3600*24)\n",
    "df_new['duration'] = df_new['duration'].round(2)"
   ]
  },
  {
   "cell_type": "code",
   "execution_count": 5,
   "id": "finnish-forty",
   "metadata": {},
   "outputs": [],
   "source": [
    "df_new['goal_usd'] = df_new['goal'] * df_new['static_usd_rate']\n",
    "df_new['goal_usd'] = df_new['goal_usd'].round(2)"
   ]
  },
  {
   "cell_type": "code",
   "execution_count": 6,
   "id": "elegant-opposition",
   "metadata": {},
   "outputs": [],
   "source": [
    "#df_new['launched_at_full'] = pd.to_datetime(df_new['launched_at'], unit='s')\n",
    "df_new['launched_at_full'] = pd.to_datetime(df_new['launched_at'], unit='s')\n",
    "df_new['launched_at_year'] = pd.DatetimeIndex(df_new['launched_at_full']).year\n",
    "df_new['launched_at_month'] = pd.DatetimeIndex(df_new['launched_at_full']).month"
   ]
  },
  {
   "cell_type": "code",
   "execution_count": 7,
   "id": "pretty-keeping",
   "metadata": {},
   "outputs": [],
   "source": [
    "df_new['created_at_full'] = pd.to_datetime(df_new['created_at'], unit='s')\n",
    "df_new['created_at_year'] = pd.DatetimeIndex(df_new['created_at_full']).year\n",
    "df_new['created_at_month'] = pd.DatetimeIndex(df_new['created_at_full']).month"
   ]
  },
  {
   "cell_type": "code",
   "execution_count": 8,
   "id": "unnecessary-trance",
   "metadata": {},
   "outputs": [],
   "source": [
    "df_new['deadline_full'] = pd.to_datetime(df_new['deadline'], unit='s')\n",
    "df_new['deadline_year'] = pd.DatetimeIndex(df_new['deadline_full']).year\n",
    "df_new['deadline_month'] = pd.DatetimeIndex(df_new['deadline_full']).month"
   ]
  },
  {
   "cell_type": "code",
   "execution_count": 9,
   "id": "cheap-percentage",
   "metadata": {},
   "outputs": [
    {
     "name": "stdout",
     "output_type": "stream",
     "text": [
      "Saving: ./data_frame_full_2021-03-12.pickle\n"
     ]
    }
   ],
   "source": [
    "save_dataframe(df_new, './data_frame_full_2021-03-12.pickle')"
   ]
  },
  {
   "cell_type": "markdown",
   "id": "romance-placement",
   "metadata": {},
   "source": [
    "# Reduced data frame"
   ]
  },
  {
   "cell_type": "code",
   "execution_count": null,
   "id": "optical-likelihood",
   "metadata": {},
   "outputs": [],
   "source": [
    "for i , val in df_new.iloc[60060,:].items():\n",
    "    print(i)\n",
    "    print(val)\n",
    "    print()"
   ]
  },
  {
   "cell_type": "code",
   "execution_count": 15,
   "id": "short-assault",
   "metadata": {},
   "outputs": [],
   "source": [
    "survival_lst = ['backers_count', 'blurb', 'country', 'created_at', 'currency', 'deadline','disable_communication', 'goal', 'launched_at','name', 'staff_pick','state', \n",
    "                'usd_pledged','usd_type','category_id','category_name','category_slug','category_parent_id', 'location_id', 'location_name','location_type', \n",
    "                'photo_key', 'photo_full', 'duration', 'goal_usd', \n",
    "                'launched_at_full', 'launched_at_year', 'launched_at_month', 'created_at_full', 'created_at_year', 'created_at_month', 'deadline_full', 'deadline_year', 'deadline_month']"
   ]
  },
  {
   "cell_type": "code",
   "execution_count": 12,
   "id": "pointed-contamination",
   "metadata": {},
   "outputs": [],
   "source": [
    "df_eda = df_new[survival_lst]"
   ]
  },
  {
   "cell_type": "code",
   "execution_count": 13,
   "id": "arabic-terrorism",
   "metadata": {},
   "outputs": [
    {
     "name": "stdout",
     "output_type": "stream",
     "text": [
      "Saving: ./data_frame_small_2021-03-12.pickle\n"
     ]
    }
   ],
   "source": [
    "save_dataframe(df_eda, './data_frame_small_2021-03-12.pickle')"
   ]
  },
  {
   "cell_type": "code",
   "execution_count": 14,
   "id": "present-toddler",
   "metadata": {},
   "outputs": [
    {
     "data": {
      "text/html": [
       "<div>\n",
       "<style scoped>\n",
       "    .dataframe tbody tr th:only-of-type {\n",
       "        vertical-align: middle;\n",
       "    }\n",
       "\n",
       "    .dataframe tbody tr th {\n",
       "        vertical-align: top;\n",
       "    }\n",
       "\n",
       "    .dataframe thead th {\n",
       "        text-align: right;\n",
       "    }\n",
       "</style>\n",
       "<table border=\"1\" class=\"dataframe\">\n",
       "  <thead>\n",
       "    <tr style=\"text-align: right;\">\n",
       "      <th></th>\n",
       "      <th>blurb</th>\n",
       "      <th>country</th>\n",
       "      <th>created_at</th>\n",
       "      <th>currency</th>\n",
       "      <th>deadline</th>\n",
       "      <th>disable_communication</th>\n",
       "      <th>goal</th>\n",
       "      <th>launched_at</th>\n",
       "      <th>name</th>\n",
       "      <th>staff_pick</th>\n",
       "      <th>...</th>\n",
       "      <th>goal_usd</th>\n",
       "      <th>launched_at_full</th>\n",
       "      <th>launched_at_year</th>\n",
       "      <th>launched_at_month</th>\n",
       "      <th>created_at_full</th>\n",
       "      <th>created_at_year</th>\n",
       "      <th>created_at_month</th>\n",
       "      <th>deadline_full</th>\n",
       "      <th>deadline_year</th>\n",
       "      <th>deadline_month</th>\n",
       "    </tr>\n",
       "  </thead>\n",
       "  <tbody>\n",
       "    <tr>\n",
       "      <th>0</th>\n",
       "      <td>2006 was almost 7 years ago.... Can you believ...</td>\n",
       "      <td>US</td>\n",
       "      <td>1387659690</td>\n",
       "      <td>USD</td>\n",
       "      <td>1391899046</td>\n",
       "      <td>False</td>\n",
       "      <td>200.0</td>\n",
       "      <td>1388011046</td>\n",
       "      <td>New Final Round Album</td>\n",
       "      <td>False</td>\n",
       "      <td>...</td>\n",
       "      <td>200.0</td>\n",
       "      <td>2013-12-25 22:37:26</td>\n",
       "      <td>2013</td>\n",
       "      <td>12</td>\n",
       "      <td>2013-12-21 21:01:30</td>\n",
       "      <td>2013</td>\n",
       "      <td>12</td>\n",
       "      <td>2014-02-08 22:37:26</td>\n",
       "      <td>2014</td>\n",
       "      <td>2</td>\n",
       "    </tr>\n",
       "    <tr>\n",
       "      <th>1</th>\n",
       "      <td>An adorable fantasy enamel pin series of princ...</td>\n",
       "      <td>US</td>\n",
       "      <td>1549659768</td>\n",
       "      <td>USD</td>\n",
       "      <td>1551801611</td>\n",
       "      <td>False</td>\n",
       "      <td>400.0</td>\n",
       "      <td>1550073611</td>\n",
       "      <td>Princess Pals Enamel Pin Series</td>\n",
       "      <td>False</td>\n",
       "      <td>...</td>\n",
       "      <td>400.0</td>\n",
       "      <td>2019-02-13 16:00:11</td>\n",
       "      <td>2019</td>\n",
       "      <td>2</td>\n",
       "      <td>2019-02-08 21:02:48</td>\n",
       "      <td>2019</td>\n",
       "      <td>2</td>\n",
       "      <td>2019-03-05 16:00:11</td>\n",
       "      <td>2019</td>\n",
       "      <td>3</td>\n",
       "    </tr>\n",
       "  </tbody>\n",
       "</table>\n",
       "<p>2 rows × 33 columns</p>\n",
       "</div>"
      ],
      "text/plain": [
       "                                               blurb country  created_at  \\\n",
       "0  2006 was almost 7 years ago.... Can you believ...      US  1387659690   \n",
       "1  An adorable fantasy enamel pin series of princ...      US  1549659768   \n",
       "\n",
       "  currency    deadline  disable_communication   goal  launched_at  \\\n",
       "0      USD  1391899046                  False  200.0   1388011046   \n",
       "1      USD  1551801611                  False  400.0   1550073611   \n",
       "\n",
       "                              name  staff_pick  ... goal_usd  \\\n",
       "0            New Final Round Album       False  ...    200.0   \n",
       "1  Princess Pals Enamel Pin Series       False  ...    400.0   \n",
       "\n",
       "     launched_at_full launched_at_year  launched_at_month     created_at_full  \\\n",
       "0 2013-12-25 22:37:26             2013                 12 2013-12-21 21:01:30   \n",
       "1 2019-02-13 16:00:11             2019                  2 2019-02-08 21:02:48   \n",
       "\n",
       "  created_at_year  created_at_month       deadline_full deadline_year  \\\n",
       "0            2013                12 2014-02-08 22:37:26          2014   \n",
       "1            2019                 2 2019-03-05 16:00:11          2019   \n",
       "\n",
       "  deadline_month  \n",
       "0              2  \n",
       "1              3  \n",
       "\n",
       "[2 rows x 33 columns]"
      ]
     },
     "execution_count": 14,
     "metadata": {},
     "output_type": "execute_result"
    }
   ],
   "source": [
    "df_eda.head(2)"
   ]
  }
 ],
 "metadata": {
  "kernelspec": {
   "display_name": "Python 3",
   "language": "python",
   "name": "python3"
  },
  "language_info": {
   "codemirror_mode": {
    "name": "ipython",
    "version": 3
   },
   "file_extension": ".py",
   "mimetype": "text/x-python",
   "name": "python",
   "nbconvert_exporter": "python",
   "pygments_lexer": "ipython3",
   "version": "3.8.5"
  }
 },
 "nbformat": 4,
 "nbformat_minor": 5
}
